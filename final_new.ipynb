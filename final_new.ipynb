{
  "nbformat": 4,
  "nbformat_minor": 0,
  "metadata": {
    "colab": {
      "provenance": []
    },
    "kernelspec": {
      "name": "python3",
      "display_name": "Python 3"
    },
    "language_info": {
      "name": "python"
    },
    "accelerator": "GPU",
    "gpuClass": "standard",
    "widgets": {
      "application/vnd.jupyter.widget-state+json": {
        "3f0af34a88a14e6f98bf48cab72a6e6c": {
          "model_module": "@jupyter-widgets/controls",
          "model_name": "HBoxModel",
          "model_module_version": "1.5.0",
          "state": {
            "_dom_classes": [],
            "_model_module": "@jupyter-widgets/controls",
            "_model_module_version": "1.5.0",
            "_model_name": "HBoxModel",
            "_view_count": null,
            "_view_module": "@jupyter-widgets/controls",
            "_view_module_version": "1.5.0",
            "_view_name": "HBoxView",
            "box_style": "",
            "children": [
              "IPY_MODEL_3a61293187c1400ead8a6d4e6d996edc",
              "IPY_MODEL_2f0777523c964b88bc7f55230ec49641",
              "IPY_MODEL_143311305b6d4235ba7f8baa6f3f6fa9"
            ],
            "layout": "IPY_MODEL_24a7a5749c704fc3aa46186dc26623e5"
          }
        },
        "3a61293187c1400ead8a6d4e6d996edc": {
          "model_module": "@jupyter-widgets/controls",
          "model_name": "HTMLModel",
          "model_module_version": "1.5.0",
          "state": {
            "_dom_classes": [],
            "_model_module": "@jupyter-widgets/controls",
            "_model_module_version": "1.5.0",
            "_model_name": "HTMLModel",
            "_view_count": null,
            "_view_module": "@jupyter-widgets/controls",
            "_view_module_version": "1.5.0",
            "_view_name": "HTMLView",
            "description": "",
            "description_tooltip": null,
            "layout": "IPY_MODEL_4485db8323404fd690fe98875805e9b9",
            "placeholder": "​",
            "style": "IPY_MODEL_ab796e3e83234e6f93cb72bb362fe93a",
            "value": "Downloading (…)lve/main/config.json: 100%"
          }
        },
        "2f0777523c964b88bc7f55230ec49641": {
          "model_module": "@jupyter-widgets/controls",
          "model_name": "FloatProgressModel",
          "model_module_version": "1.5.0",
          "state": {
            "_dom_classes": [],
            "_model_module": "@jupyter-widgets/controls",
            "_model_module_version": "1.5.0",
            "_model_name": "FloatProgressModel",
            "_view_count": null,
            "_view_module": "@jupyter-widgets/controls",
            "_view_module_version": "1.5.0",
            "_view_name": "ProgressView",
            "bar_style": "success",
            "description": "",
            "description_tooltip": null,
            "layout": "IPY_MODEL_75dbc08d3a1d42f0b418010304e7b0a0",
            "max": 481,
            "min": 0,
            "orientation": "horizontal",
            "style": "IPY_MODEL_5109ac9fd86043cb902d3e123e057902",
            "value": 481
          }
        },
        "143311305b6d4235ba7f8baa6f3f6fa9": {
          "model_module": "@jupyter-widgets/controls",
          "model_name": "HTMLModel",
          "model_module_version": "1.5.0",
          "state": {
            "_dom_classes": [],
            "_model_module": "@jupyter-widgets/controls",
            "_model_module_version": "1.5.0",
            "_model_name": "HTMLModel",
            "_view_count": null,
            "_view_module": "@jupyter-widgets/controls",
            "_view_module_version": "1.5.0",
            "_view_name": "HTMLView",
            "description": "",
            "description_tooltip": null,
            "layout": "IPY_MODEL_8fe91f12b6fb4693a4eabe0f992f423d",
            "placeholder": "​",
            "style": "IPY_MODEL_3d3b42eb528d4d1b9d980aab980168e1",
            "value": " 481/481 [00:00&lt;00:00, 24.9kB/s]"
          }
        },
        "24a7a5749c704fc3aa46186dc26623e5": {
          "model_module": "@jupyter-widgets/base",
          "model_name": "LayoutModel",
          "model_module_version": "1.2.0",
          "state": {
            "_model_module": "@jupyter-widgets/base",
            "_model_module_version": "1.2.0",
            "_model_name": "LayoutModel",
            "_view_count": null,
            "_view_module": "@jupyter-widgets/base",
            "_view_module_version": "1.2.0",
            "_view_name": "LayoutView",
            "align_content": null,
            "align_items": null,
            "align_self": null,
            "border": null,
            "bottom": null,
            "display": null,
            "flex": null,
            "flex_flow": null,
            "grid_area": null,
            "grid_auto_columns": null,
            "grid_auto_flow": null,
            "grid_auto_rows": null,
            "grid_column": null,
            "grid_gap": null,
            "grid_row": null,
            "grid_template_areas": null,
            "grid_template_columns": null,
            "grid_template_rows": null,
            "height": null,
            "justify_content": null,
            "justify_items": null,
            "left": null,
            "margin": null,
            "max_height": null,
            "max_width": null,
            "min_height": null,
            "min_width": null,
            "object_fit": null,
            "object_position": null,
            "order": null,
            "overflow": null,
            "overflow_x": null,
            "overflow_y": null,
            "padding": null,
            "right": null,
            "top": null,
            "visibility": null,
            "width": null
          }
        },
        "4485db8323404fd690fe98875805e9b9": {
          "model_module": "@jupyter-widgets/base",
          "model_name": "LayoutModel",
          "model_module_version": "1.2.0",
          "state": {
            "_model_module": "@jupyter-widgets/base",
            "_model_module_version": "1.2.0",
            "_model_name": "LayoutModel",
            "_view_count": null,
            "_view_module": "@jupyter-widgets/base",
            "_view_module_version": "1.2.0",
            "_view_name": "LayoutView",
            "align_content": null,
            "align_items": null,
            "align_self": null,
            "border": null,
            "bottom": null,
            "display": null,
            "flex": null,
            "flex_flow": null,
            "grid_area": null,
            "grid_auto_columns": null,
            "grid_auto_flow": null,
            "grid_auto_rows": null,
            "grid_column": null,
            "grid_gap": null,
            "grid_row": null,
            "grid_template_areas": null,
            "grid_template_columns": null,
            "grid_template_rows": null,
            "height": null,
            "justify_content": null,
            "justify_items": null,
            "left": null,
            "margin": null,
            "max_height": null,
            "max_width": null,
            "min_height": null,
            "min_width": null,
            "object_fit": null,
            "object_position": null,
            "order": null,
            "overflow": null,
            "overflow_x": null,
            "overflow_y": null,
            "padding": null,
            "right": null,
            "top": null,
            "visibility": null,
            "width": null
          }
        },
        "ab796e3e83234e6f93cb72bb362fe93a": {
          "model_module": "@jupyter-widgets/controls",
          "model_name": "DescriptionStyleModel",
          "model_module_version": "1.5.0",
          "state": {
            "_model_module": "@jupyter-widgets/controls",
            "_model_module_version": "1.5.0",
            "_model_name": "DescriptionStyleModel",
            "_view_count": null,
            "_view_module": "@jupyter-widgets/base",
            "_view_module_version": "1.2.0",
            "_view_name": "StyleView",
            "description_width": ""
          }
        },
        "75dbc08d3a1d42f0b418010304e7b0a0": {
          "model_module": "@jupyter-widgets/base",
          "model_name": "LayoutModel",
          "model_module_version": "1.2.0",
          "state": {
            "_model_module": "@jupyter-widgets/base",
            "_model_module_version": "1.2.0",
            "_model_name": "LayoutModel",
            "_view_count": null,
            "_view_module": "@jupyter-widgets/base",
            "_view_module_version": "1.2.0",
            "_view_name": "LayoutView",
            "align_content": null,
            "align_items": null,
            "align_self": null,
            "border": null,
            "bottom": null,
            "display": null,
            "flex": null,
            "flex_flow": null,
            "grid_area": null,
            "grid_auto_columns": null,
            "grid_auto_flow": null,
            "grid_auto_rows": null,
            "grid_column": null,
            "grid_gap": null,
            "grid_row": null,
            "grid_template_areas": null,
            "grid_template_columns": null,
            "grid_template_rows": null,
            "height": null,
            "justify_content": null,
            "justify_items": null,
            "left": null,
            "margin": null,
            "max_height": null,
            "max_width": null,
            "min_height": null,
            "min_width": null,
            "object_fit": null,
            "object_position": null,
            "order": null,
            "overflow": null,
            "overflow_x": null,
            "overflow_y": null,
            "padding": null,
            "right": null,
            "top": null,
            "visibility": null,
            "width": null
          }
        },
        "5109ac9fd86043cb902d3e123e057902": {
          "model_module": "@jupyter-widgets/controls",
          "model_name": "ProgressStyleModel",
          "model_module_version": "1.5.0",
          "state": {
            "_model_module": "@jupyter-widgets/controls",
            "_model_module_version": "1.5.0",
            "_model_name": "ProgressStyleModel",
            "_view_count": null,
            "_view_module": "@jupyter-widgets/base",
            "_view_module_version": "1.2.0",
            "_view_name": "StyleView",
            "bar_color": null,
            "description_width": ""
          }
        },
        "8fe91f12b6fb4693a4eabe0f992f423d": {
          "model_module": "@jupyter-widgets/base",
          "model_name": "LayoutModel",
          "model_module_version": "1.2.0",
          "state": {
            "_model_module": "@jupyter-widgets/base",
            "_model_module_version": "1.2.0",
            "_model_name": "LayoutModel",
            "_view_count": null,
            "_view_module": "@jupyter-widgets/base",
            "_view_module_version": "1.2.0",
            "_view_name": "LayoutView",
            "align_content": null,
            "align_items": null,
            "align_self": null,
            "border": null,
            "bottom": null,
            "display": null,
            "flex": null,
            "flex_flow": null,
            "grid_area": null,
            "grid_auto_columns": null,
            "grid_auto_flow": null,
            "grid_auto_rows": null,
            "grid_column": null,
            "grid_gap": null,
            "grid_row": null,
            "grid_template_areas": null,
            "grid_template_columns": null,
            "grid_template_rows": null,
            "height": null,
            "justify_content": null,
            "justify_items": null,
            "left": null,
            "margin": null,
            "max_height": null,
            "max_width": null,
            "min_height": null,
            "min_width": null,
            "object_fit": null,
            "object_position": null,
            "order": null,
            "overflow": null,
            "overflow_x": null,
            "overflow_y": null,
            "padding": null,
            "right": null,
            "top": null,
            "visibility": null,
            "width": null
          }
        },
        "3d3b42eb528d4d1b9d980aab980168e1": {
          "model_module": "@jupyter-widgets/controls",
          "model_name": "DescriptionStyleModel",
          "model_module_version": "1.5.0",
          "state": {
            "_model_module": "@jupyter-widgets/controls",
            "_model_module_version": "1.5.0",
            "_model_name": "DescriptionStyleModel",
            "_view_count": null,
            "_view_module": "@jupyter-widgets/base",
            "_view_module_version": "1.2.0",
            "_view_name": "StyleView",
            "description_width": ""
          }
        },
        "db2c00deca76429e81f3e63b4ddf6431": {
          "model_module": "@jupyter-widgets/controls",
          "model_name": "HBoxModel",
          "model_module_version": "1.5.0",
          "state": {
            "_dom_classes": [],
            "_model_module": "@jupyter-widgets/controls",
            "_model_module_version": "1.5.0",
            "_model_name": "HBoxModel",
            "_view_count": null,
            "_view_module": "@jupyter-widgets/controls",
            "_view_module_version": "1.5.0",
            "_view_name": "HBoxView",
            "box_style": "",
            "children": [
              "IPY_MODEL_0dfd30f88f444e298d73135cc7956e06",
              "IPY_MODEL_33c529704bd248b980b23196c74bb823",
              "IPY_MODEL_f5ca055b0cba414d8f0f6f83c555303d"
            ],
            "layout": "IPY_MODEL_d5f4f5f642a34f0ab50dd0469bbe81f3"
          }
        },
        "0dfd30f88f444e298d73135cc7956e06": {
          "model_module": "@jupyter-widgets/controls",
          "model_name": "HTMLModel",
          "model_module_version": "1.5.0",
          "state": {
            "_dom_classes": [],
            "_model_module": "@jupyter-widgets/controls",
            "_model_module_version": "1.5.0",
            "_model_name": "HTMLModel",
            "_view_count": null,
            "_view_module": "@jupyter-widgets/controls",
            "_view_module_version": "1.5.0",
            "_view_name": "HTMLView",
            "description": "",
            "description_tooltip": null,
            "layout": "IPY_MODEL_b94c7c2fa7c241328eaccdeef64c9f8d",
            "placeholder": "​",
            "style": "IPY_MODEL_d2a7f2769a0641b090e4ac378e83ae38",
            "value": "Downloading pytorch_model.bin: 100%"
          }
        },
        "33c529704bd248b980b23196c74bb823": {
          "model_module": "@jupyter-widgets/controls",
          "model_name": "FloatProgressModel",
          "model_module_version": "1.5.0",
          "state": {
            "_dom_classes": [],
            "_model_module": "@jupyter-widgets/controls",
            "_model_module_version": "1.5.0",
            "_model_name": "FloatProgressModel",
            "_view_count": null,
            "_view_module": "@jupyter-widgets/controls",
            "_view_module_version": "1.5.0",
            "_view_name": "ProgressView",
            "bar_style": "success",
            "description": "",
            "description_tooltip": null,
            "layout": "IPY_MODEL_f3d1590a4f2f40b8be44517c6d4dc002",
            "max": 501200538,
            "min": 0,
            "orientation": "horizontal",
            "style": "IPY_MODEL_86475cba40dd4c3ab9373f1f21ab68f8",
            "value": 501200538
          }
        },
        "f5ca055b0cba414d8f0f6f83c555303d": {
          "model_module": "@jupyter-widgets/controls",
          "model_name": "HTMLModel",
          "model_module_version": "1.5.0",
          "state": {
            "_dom_classes": [],
            "_model_module": "@jupyter-widgets/controls",
            "_model_module_version": "1.5.0",
            "_model_name": "HTMLModel",
            "_view_count": null,
            "_view_module": "@jupyter-widgets/controls",
            "_view_module_version": "1.5.0",
            "_view_name": "HTMLView",
            "description": "",
            "description_tooltip": null,
            "layout": "IPY_MODEL_958a104f93ae42aea3f0a771e61ff3d0",
            "placeholder": "​",
            "style": "IPY_MODEL_3c38bf7873614a81babe9219d6697eae",
            "value": " 501M/501M [00:01&lt;00:00, 265MB/s]"
          }
        },
        "d5f4f5f642a34f0ab50dd0469bbe81f3": {
          "model_module": "@jupyter-widgets/base",
          "model_name": "LayoutModel",
          "model_module_version": "1.2.0",
          "state": {
            "_model_module": "@jupyter-widgets/base",
            "_model_module_version": "1.2.0",
            "_model_name": "LayoutModel",
            "_view_count": null,
            "_view_module": "@jupyter-widgets/base",
            "_view_module_version": "1.2.0",
            "_view_name": "LayoutView",
            "align_content": null,
            "align_items": null,
            "align_self": null,
            "border": null,
            "bottom": null,
            "display": null,
            "flex": null,
            "flex_flow": null,
            "grid_area": null,
            "grid_auto_columns": null,
            "grid_auto_flow": null,
            "grid_auto_rows": null,
            "grid_column": null,
            "grid_gap": null,
            "grid_row": null,
            "grid_template_areas": null,
            "grid_template_columns": null,
            "grid_template_rows": null,
            "height": null,
            "justify_content": null,
            "justify_items": null,
            "left": null,
            "margin": null,
            "max_height": null,
            "max_width": null,
            "min_height": null,
            "min_width": null,
            "object_fit": null,
            "object_position": null,
            "order": null,
            "overflow": null,
            "overflow_x": null,
            "overflow_y": null,
            "padding": null,
            "right": null,
            "top": null,
            "visibility": null,
            "width": null
          }
        },
        "b94c7c2fa7c241328eaccdeef64c9f8d": {
          "model_module": "@jupyter-widgets/base",
          "model_name": "LayoutModel",
          "model_module_version": "1.2.0",
          "state": {
            "_model_module": "@jupyter-widgets/base",
            "_model_module_version": "1.2.0",
            "_model_name": "LayoutModel",
            "_view_count": null,
            "_view_module": "@jupyter-widgets/base",
            "_view_module_version": "1.2.0",
            "_view_name": "LayoutView",
            "align_content": null,
            "align_items": null,
            "align_self": null,
            "border": null,
            "bottom": null,
            "display": null,
            "flex": null,
            "flex_flow": null,
            "grid_area": null,
            "grid_auto_columns": null,
            "grid_auto_flow": null,
            "grid_auto_rows": null,
            "grid_column": null,
            "grid_gap": null,
            "grid_row": null,
            "grid_template_areas": null,
            "grid_template_columns": null,
            "grid_template_rows": null,
            "height": null,
            "justify_content": null,
            "justify_items": null,
            "left": null,
            "margin": null,
            "max_height": null,
            "max_width": null,
            "min_height": null,
            "min_width": null,
            "object_fit": null,
            "object_position": null,
            "order": null,
            "overflow": null,
            "overflow_x": null,
            "overflow_y": null,
            "padding": null,
            "right": null,
            "top": null,
            "visibility": null,
            "width": null
          }
        },
        "d2a7f2769a0641b090e4ac378e83ae38": {
          "model_module": "@jupyter-widgets/controls",
          "model_name": "DescriptionStyleModel",
          "model_module_version": "1.5.0",
          "state": {
            "_model_module": "@jupyter-widgets/controls",
            "_model_module_version": "1.5.0",
            "_model_name": "DescriptionStyleModel",
            "_view_count": null,
            "_view_module": "@jupyter-widgets/base",
            "_view_module_version": "1.2.0",
            "_view_name": "StyleView",
            "description_width": ""
          }
        },
        "f3d1590a4f2f40b8be44517c6d4dc002": {
          "model_module": "@jupyter-widgets/base",
          "model_name": "LayoutModel",
          "model_module_version": "1.2.0",
          "state": {
            "_model_module": "@jupyter-widgets/base",
            "_model_module_version": "1.2.0",
            "_model_name": "LayoutModel",
            "_view_count": null,
            "_view_module": "@jupyter-widgets/base",
            "_view_module_version": "1.2.0",
            "_view_name": "LayoutView",
            "align_content": null,
            "align_items": null,
            "align_self": null,
            "border": null,
            "bottom": null,
            "display": null,
            "flex": null,
            "flex_flow": null,
            "grid_area": null,
            "grid_auto_columns": null,
            "grid_auto_flow": null,
            "grid_auto_rows": null,
            "grid_column": null,
            "grid_gap": null,
            "grid_row": null,
            "grid_template_areas": null,
            "grid_template_columns": null,
            "grid_template_rows": null,
            "height": null,
            "justify_content": null,
            "justify_items": null,
            "left": null,
            "margin": null,
            "max_height": null,
            "max_width": null,
            "min_height": null,
            "min_width": null,
            "object_fit": null,
            "object_position": null,
            "order": null,
            "overflow": null,
            "overflow_x": null,
            "overflow_y": null,
            "padding": null,
            "right": null,
            "top": null,
            "visibility": null,
            "width": null
          }
        },
        "86475cba40dd4c3ab9373f1f21ab68f8": {
          "model_module": "@jupyter-widgets/controls",
          "model_name": "ProgressStyleModel",
          "model_module_version": "1.5.0",
          "state": {
            "_model_module": "@jupyter-widgets/controls",
            "_model_module_version": "1.5.0",
            "_model_name": "ProgressStyleModel",
            "_view_count": null,
            "_view_module": "@jupyter-widgets/base",
            "_view_module_version": "1.2.0",
            "_view_name": "StyleView",
            "bar_color": null,
            "description_width": ""
          }
        },
        "958a104f93ae42aea3f0a771e61ff3d0": {
          "model_module": "@jupyter-widgets/base",
          "model_name": "LayoutModel",
          "model_module_version": "1.2.0",
          "state": {
            "_model_module": "@jupyter-widgets/base",
            "_model_module_version": "1.2.0",
            "_model_name": "LayoutModel",
            "_view_count": null,
            "_view_module": "@jupyter-widgets/base",
            "_view_module_version": "1.2.0",
            "_view_name": "LayoutView",
            "align_content": null,
            "align_items": null,
            "align_self": null,
            "border": null,
            "bottom": null,
            "display": null,
            "flex": null,
            "flex_flow": null,
            "grid_area": null,
            "grid_auto_columns": null,
            "grid_auto_flow": null,
            "grid_auto_rows": null,
            "grid_column": null,
            "grid_gap": null,
            "grid_row": null,
            "grid_template_areas": null,
            "grid_template_columns": null,
            "grid_template_rows": null,
            "height": null,
            "justify_content": null,
            "justify_items": null,
            "left": null,
            "margin": null,
            "max_height": null,
            "max_width": null,
            "min_height": null,
            "min_width": null,
            "object_fit": null,
            "object_position": null,
            "order": null,
            "overflow": null,
            "overflow_x": null,
            "overflow_y": null,
            "padding": null,
            "right": null,
            "top": null,
            "visibility": null,
            "width": null
          }
        },
        "3c38bf7873614a81babe9219d6697eae": {
          "model_module": "@jupyter-widgets/controls",
          "model_name": "DescriptionStyleModel",
          "model_module_version": "1.5.0",
          "state": {
            "_model_module": "@jupyter-widgets/controls",
            "_model_module_version": "1.5.0",
            "_model_name": "DescriptionStyleModel",
            "_view_count": null,
            "_view_module": "@jupyter-widgets/base",
            "_view_module_version": "1.2.0",
            "_view_name": "StyleView",
            "description_width": ""
          }
        },
        "a9037996519949ba9fae9ed331cabf83": {
          "model_module": "@jupyter-widgets/controls",
          "model_name": "HBoxModel",
          "model_module_version": "1.5.0",
          "state": {
            "_dom_classes": [],
            "_model_module": "@jupyter-widgets/controls",
            "_model_module_version": "1.5.0",
            "_model_name": "HBoxModel",
            "_view_count": null,
            "_view_module": "@jupyter-widgets/controls",
            "_view_module_version": "1.5.0",
            "_view_name": "HBoxView",
            "box_style": "",
            "children": [
              "IPY_MODEL_d5a0a3f5f8d34373ac2147627998c667",
              "IPY_MODEL_36cdb5aadb514325b18183353acaf38d",
              "IPY_MODEL_6ed467c8fe0f4dcc9247782ace72109d"
            ],
            "layout": "IPY_MODEL_5b109e41d0334d09a480026841fa095f"
          }
        },
        "d5a0a3f5f8d34373ac2147627998c667": {
          "model_module": "@jupyter-widgets/controls",
          "model_name": "HTMLModel",
          "model_module_version": "1.5.0",
          "state": {
            "_dom_classes": [],
            "_model_module": "@jupyter-widgets/controls",
            "_model_module_version": "1.5.0",
            "_model_name": "HTMLModel",
            "_view_count": null,
            "_view_module": "@jupyter-widgets/controls",
            "_view_module_version": "1.5.0",
            "_view_name": "HTMLView",
            "description": "",
            "description_tooltip": null,
            "layout": "IPY_MODEL_2c100390b6064ec8a5975fdb73992bdb",
            "placeholder": "​",
            "style": "IPY_MODEL_4fe24c6bd68e44509b8ed6c7fd71f717",
            "value": "Downloading (…)olve/main/vocab.json: 100%"
          }
        },
        "36cdb5aadb514325b18183353acaf38d": {
          "model_module": "@jupyter-widgets/controls",
          "model_name": "FloatProgressModel",
          "model_module_version": "1.5.0",
          "state": {
            "_dom_classes": [],
            "_model_module": "@jupyter-widgets/controls",
            "_model_module_version": "1.5.0",
            "_model_name": "FloatProgressModel",
            "_view_count": null,
            "_view_module": "@jupyter-widgets/controls",
            "_view_module_version": "1.5.0",
            "_view_name": "ProgressView",
            "bar_style": "success",
            "description": "",
            "description_tooltip": null,
            "layout": "IPY_MODEL_e502981fea9342fdad0622e33ffe8e04",
            "max": 898823,
            "min": 0,
            "orientation": "horizontal",
            "style": "IPY_MODEL_088e03c040404d5c8868d9a8148141ca",
            "value": 898823
          }
        },
        "6ed467c8fe0f4dcc9247782ace72109d": {
          "model_module": "@jupyter-widgets/controls",
          "model_name": "HTMLModel",
          "model_module_version": "1.5.0",
          "state": {
            "_dom_classes": [],
            "_model_module": "@jupyter-widgets/controls",
            "_model_module_version": "1.5.0",
            "_model_name": "HTMLModel",
            "_view_count": null,
            "_view_module": "@jupyter-widgets/controls",
            "_view_module_version": "1.5.0",
            "_view_name": "HTMLView",
            "description": "",
            "description_tooltip": null,
            "layout": "IPY_MODEL_4d7f291a8674422e83d3cf32e9e6f805",
            "placeholder": "​",
            "style": "IPY_MODEL_e398e2d4a1674fd5b6dd80af366e2fbe",
            "value": " 899k/899k [00:01&lt;00:00, 810kB/s]"
          }
        },
        "5b109e41d0334d09a480026841fa095f": {
          "model_module": "@jupyter-widgets/base",
          "model_name": "LayoutModel",
          "model_module_version": "1.2.0",
          "state": {
            "_model_module": "@jupyter-widgets/base",
            "_model_module_version": "1.2.0",
            "_model_name": "LayoutModel",
            "_view_count": null,
            "_view_module": "@jupyter-widgets/base",
            "_view_module_version": "1.2.0",
            "_view_name": "LayoutView",
            "align_content": null,
            "align_items": null,
            "align_self": null,
            "border": null,
            "bottom": null,
            "display": null,
            "flex": null,
            "flex_flow": null,
            "grid_area": null,
            "grid_auto_columns": null,
            "grid_auto_flow": null,
            "grid_auto_rows": null,
            "grid_column": null,
            "grid_gap": null,
            "grid_row": null,
            "grid_template_areas": null,
            "grid_template_columns": null,
            "grid_template_rows": null,
            "height": null,
            "justify_content": null,
            "justify_items": null,
            "left": null,
            "margin": null,
            "max_height": null,
            "max_width": null,
            "min_height": null,
            "min_width": null,
            "object_fit": null,
            "object_position": null,
            "order": null,
            "overflow": null,
            "overflow_x": null,
            "overflow_y": null,
            "padding": null,
            "right": null,
            "top": null,
            "visibility": null,
            "width": null
          }
        },
        "2c100390b6064ec8a5975fdb73992bdb": {
          "model_module": "@jupyter-widgets/base",
          "model_name": "LayoutModel",
          "model_module_version": "1.2.0",
          "state": {
            "_model_module": "@jupyter-widgets/base",
            "_model_module_version": "1.2.0",
            "_model_name": "LayoutModel",
            "_view_count": null,
            "_view_module": "@jupyter-widgets/base",
            "_view_module_version": "1.2.0",
            "_view_name": "LayoutView",
            "align_content": null,
            "align_items": null,
            "align_self": null,
            "border": null,
            "bottom": null,
            "display": null,
            "flex": null,
            "flex_flow": null,
            "grid_area": null,
            "grid_auto_columns": null,
            "grid_auto_flow": null,
            "grid_auto_rows": null,
            "grid_column": null,
            "grid_gap": null,
            "grid_row": null,
            "grid_template_areas": null,
            "grid_template_columns": null,
            "grid_template_rows": null,
            "height": null,
            "justify_content": null,
            "justify_items": null,
            "left": null,
            "margin": null,
            "max_height": null,
            "max_width": null,
            "min_height": null,
            "min_width": null,
            "object_fit": null,
            "object_position": null,
            "order": null,
            "overflow": null,
            "overflow_x": null,
            "overflow_y": null,
            "padding": null,
            "right": null,
            "top": null,
            "visibility": null,
            "width": null
          }
        },
        "4fe24c6bd68e44509b8ed6c7fd71f717": {
          "model_module": "@jupyter-widgets/controls",
          "model_name": "DescriptionStyleModel",
          "model_module_version": "1.5.0",
          "state": {
            "_model_module": "@jupyter-widgets/controls",
            "_model_module_version": "1.5.0",
            "_model_name": "DescriptionStyleModel",
            "_view_count": null,
            "_view_module": "@jupyter-widgets/base",
            "_view_module_version": "1.2.0",
            "_view_name": "StyleView",
            "description_width": ""
          }
        },
        "e502981fea9342fdad0622e33ffe8e04": {
          "model_module": "@jupyter-widgets/base",
          "model_name": "LayoutModel",
          "model_module_version": "1.2.0",
          "state": {
            "_model_module": "@jupyter-widgets/base",
            "_model_module_version": "1.2.0",
            "_model_name": "LayoutModel",
            "_view_count": null,
            "_view_module": "@jupyter-widgets/base",
            "_view_module_version": "1.2.0",
            "_view_name": "LayoutView",
            "align_content": null,
            "align_items": null,
            "align_self": null,
            "border": null,
            "bottom": null,
            "display": null,
            "flex": null,
            "flex_flow": null,
            "grid_area": null,
            "grid_auto_columns": null,
            "grid_auto_flow": null,
            "grid_auto_rows": null,
            "grid_column": null,
            "grid_gap": null,
            "grid_row": null,
            "grid_template_areas": null,
            "grid_template_columns": null,
            "grid_template_rows": null,
            "height": null,
            "justify_content": null,
            "justify_items": null,
            "left": null,
            "margin": null,
            "max_height": null,
            "max_width": null,
            "min_height": null,
            "min_width": null,
            "object_fit": null,
            "object_position": null,
            "order": null,
            "overflow": null,
            "overflow_x": null,
            "overflow_y": null,
            "padding": null,
            "right": null,
            "top": null,
            "visibility": null,
            "width": null
          }
        },
        "088e03c040404d5c8868d9a8148141ca": {
          "model_module": "@jupyter-widgets/controls",
          "model_name": "ProgressStyleModel",
          "model_module_version": "1.5.0",
          "state": {
            "_model_module": "@jupyter-widgets/controls",
            "_model_module_version": "1.5.0",
            "_model_name": "ProgressStyleModel",
            "_view_count": null,
            "_view_module": "@jupyter-widgets/base",
            "_view_module_version": "1.2.0",
            "_view_name": "StyleView",
            "bar_color": null,
            "description_width": ""
          }
        },
        "4d7f291a8674422e83d3cf32e9e6f805": {
          "model_module": "@jupyter-widgets/base",
          "model_name": "LayoutModel",
          "model_module_version": "1.2.0",
          "state": {
            "_model_module": "@jupyter-widgets/base",
            "_model_module_version": "1.2.0",
            "_model_name": "LayoutModel",
            "_view_count": null,
            "_view_module": "@jupyter-widgets/base",
            "_view_module_version": "1.2.0",
            "_view_name": "LayoutView",
            "align_content": null,
            "align_items": null,
            "align_self": null,
            "border": null,
            "bottom": null,
            "display": null,
            "flex": null,
            "flex_flow": null,
            "grid_area": null,
            "grid_auto_columns": null,
            "grid_auto_flow": null,
            "grid_auto_rows": null,
            "grid_column": null,
            "grid_gap": null,
            "grid_row": null,
            "grid_template_areas": null,
            "grid_template_columns": null,
            "grid_template_rows": null,
            "height": null,
            "justify_content": null,
            "justify_items": null,
            "left": null,
            "margin": null,
            "max_height": null,
            "max_width": null,
            "min_height": null,
            "min_width": null,
            "object_fit": null,
            "object_position": null,
            "order": null,
            "overflow": null,
            "overflow_x": null,
            "overflow_y": null,
            "padding": null,
            "right": null,
            "top": null,
            "visibility": null,
            "width": null
          }
        },
        "e398e2d4a1674fd5b6dd80af366e2fbe": {
          "model_module": "@jupyter-widgets/controls",
          "model_name": "DescriptionStyleModel",
          "model_module_version": "1.5.0",
          "state": {
            "_model_module": "@jupyter-widgets/controls",
            "_model_module_version": "1.5.0",
            "_model_name": "DescriptionStyleModel",
            "_view_count": null,
            "_view_module": "@jupyter-widgets/base",
            "_view_module_version": "1.2.0",
            "_view_name": "StyleView",
            "description_width": ""
          }
        },
        "57a1fa7cd5b242b4a2b990568b97ceb0": {
          "model_module": "@jupyter-widgets/controls",
          "model_name": "HBoxModel",
          "model_module_version": "1.5.0",
          "state": {
            "_dom_classes": [],
            "_model_module": "@jupyter-widgets/controls",
            "_model_module_version": "1.5.0",
            "_model_name": "HBoxModel",
            "_view_count": null,
            "_view_module": "@jupyter-widgets/controls",
            "_view_module_version": "1.5.0",
            "_view_name": "HBoxView",
            "box_style": "",
            "children": [
              "IPY_MODEL_21e6f1bd006e4f468e7bdfbe44ac44da",
              "IPY_MODEL_f6aa1f9bc3084c46980961f450765b3a",
              "IPY_MODEL_d325cc2eb1524c369cfed77824b13091"
            ],
            "layout": "IPY_MODEL_db0a1ac6672c45c9919b8b63f99f3889"
          }
        },
        "21e6f1bd006e4f468e7bdfbe44ac44da": {
          "model_module": "@jupyter-widgets/controls",
          "model_name": "HTMLModel",
          "model_module_version": "1.5.0",
          "state": {
            "_dom_classes": [],
            "_model_module": "@jupyter-widgets/controls",
            "_model_module_version": "1.5.0",
            "_model_name": "HTMLModel",
            "_view_count": null,
            "_view_module": "@jupyter-widgets/controls",
            "_view_module_version": "1.5.0",
            "_view_name": "HTMLView",
            "description": "",
            "description_tooltip": null,
            "layout": "IPY_MODEL_43e8ef4618c44ea49e89ecb4a732eb8e",
            "placeholder": "​",
            "style": "IPY_MODEL_0d08033f91ed4f7babd6eafbaee3c9c1",
            "value": "Downloading (…)olve/main/merges.txt: 100%"
          }
        },
        "f6aa1f9bc3084c46980961f450765b3a": {
          "model_module": "@jupyter-widgets/controls",
          "model_name": "FloatProgressModel",
          "model_module_version": "1.5.0",
          "state": {
            "_dom_classes": [],
            "_model_module": "@jupyter-widgets/controls",
            "_model_module_version": "1.5.0",
            "_model_name": "FloatProgressModel",
            "_view_count": null,
            "_view_module": "@jupyter-widgets/controls",
            "_view_module_version": "1.5.0",
            "_view_name": "ProgressView",
            "bar_style": "success",
            "description": "",
            "description_tooltip": null,
            "layout": "IPY_MODEL_8924f3764b024863b38c002bb896b172",
            "max": 456318,
            "min": 0,
            "orientation": "horizontal",
            "style": "IPY_MODEL_bd86396e30854ba6959426ea7e4b80bf",
            "value": 456318
          }
        },
        "d325cc2eb1524c369cfed77824b13091": {
          "model_module": "@jupyter-widgets/controls",
          "model_name": "HTMLModel",
          "model_module_version": "1.5.0",
          "state": {
            "_dom_classes": [],
            "_model_module": "@jupyter-widgets/controls",
            "_model_module_version": "1.5.0",
            "_model_name": "HTMLModel",
            "_view_count": null,
            "_view_module": "@jupyter-widgets/controls",
            "_view_module_version": "1.5.0",
            "_view_name": "HTMLView",
            "description": "",
            "description_tooltip": null,
            "layout": "IPY_MODEL_172c8c797cf04ea7b1b6b0a4de4b4dee",
            "placeholder": "​",
            "style": "IPY_MODEL_1bd1866acae14bc0a2c6b332799e5ac4",
            "value": " 456k/456k [00:00&lt;00:00, 514kB/s]"
          }
        },
        "db0a1ac6672c45c9919b8b63f99f3889": {
          "model_module": "@jupyter-widgets/base",
          "model_name": "LayoutModel",
          "model_module_version": "1.2.0",
          "state": {
            "_model_module": "@jupyter-widgets/base",
            "_model_module_version": "1.2.0",
            "_model_name": "LayoutModel",
            "_view_count": null,
            "_view_module": "@jupyter-widgets/base",
            "_view_module_version": "1.2.0",
            "_view_name": "LayoutView",
            "align_content": null,
            "align_items": null,
            "align_self": null,
            "border": null,
            "bottom": null,
            "display": null,
            "flex": null,
            "flex_flow": null,
            "grid_area": null,
            "grid_auto_columns": null,
            "grid_auto_flow": null,
            "grid_auto_rows": null,
            "grid_column": null,
            "grid_gap": null,
            "grid_row": null,
            "grid_template_areas": null,
            "grid_template_columns": null,
            "grid_template_rows": null,
            "height": null,
            "justify_content": null,
            "justify_items": null,
            "left": null,
            "margin": null,
            "max_height": null,
            "max_width": null,
            "min_height": null,
            "min_width": null,
            "object_fit": null,
            "object_position": null,
            "order": null,
            "overflow": null,
            "overflow_x": null,
            "overflow_y": null,
            "padding": null,
            "right": null,
            "top": null,
            "visibility": null,
            "width": null
          }
        },
        "43e8ef4618c44ea49e89ecb4a732eb8e": {
          "model_module": "@jupyter-widgets/base",
          "model_name": "LayoutModel",
          "model_module_version": "1.2.0",
          "state": {
            "_model_module": "@jupyter-widgets/base",
            "_model_module_version": "1.2.0",
            "_model_name": "LayoutModel",
            "_view_count": null,
            "_view_module": "@jupyter-widgets/base",
            "_view_module_version": "1.2.0",
            "_view_name": "LayoutView",
            "align_content": null,
            "align_items": null,
            "align_self": null,
            "border": null,
            "bottom": null,
            "display": null,
            "flex": null,
            "flex_flow": null,
            "grid_area": null,
            "grid_auto_columns": null,
            "grid_auto_flow": null,
            "grid_auto_rows": null,
            "grid_column": null,
            "grid_gap": null,
            "grid_row": null,
            "grid_template_areas": null,
            "grid_template_columns": null,
            "grid_template_rows": null,
            "height": null,
            "justify_content": null,
            "justify_items": null,
            "left": null,
            "margin": null,
            "max_height": null,
            "max_width": null,
            "min_height": null,
            "min_width": null,
            "object_fit": null,
            "object_position": null,
            "order": null,
            "overflow": null,
            "overflow_x": null,
            "overflow_y": null,
            "padding": null,
            "right": null,
            "top": null,
            "visibility": null,
            "width": null
          }
        },
        "0d08033f91ed4f7babd6eafbaee3c9c1": {
          "model_module": "@jupyter-widgets/controls",
          "model_name": "DescriptionStyleModel",
          "model_module_version": "1.5.0",
          "state": {
            "_model_module": "@jupyter-widgets/controls",
            "_model_module_version": "1.5.0",
            "_model_name": "DescriptionStyleModel",
            "_view_count": null,
            "_view_module": "@jupyter-widgets/base",
            "_view_module_version": "1.2.0",
            "_view_name": "StyleView",
            "description_width": ""
          }
        },
        "8924f3764b024863b38c002bb896b172": {
          "model_module": "@jupyter-widgets/base",
          "model_name": "LayoutModel",
          "model_module_version": "1.2.0",
          "state": {
            "_model_module": "@jupyter-widgets/base",
            "_model_module_version": "1.2.0",
            "_model_name": "LayoutModel",
            "_view_count": null,
            "_view_module": "@jupyter-widgets/base",
            "_view_module_version": "1.2.0",
            "_view_name": "LayoutView",
            "align_content": null,
            "align_items": null,
            "align_self": null,
            "border": null,
            "bottom": null,
            "display": null,
            "flex": null,
            "flex_flow": null,
            "grid_area": null,
            "grid_auto_columns": null,
            "grid_auto_flow": null,
            "grid_auto_rows": null,
            "grid_column": null,
            "grid_gap": null,
            "grid_row": null,
            "grid_template_areas": null,
            "grid_template_columns": null,
            "grid_template_rows": null,
            "height": null,
            "justify_content": null,
            "justify_items": null,
            "left": null,
            "margin": null,
            "max_height": null,
            "max_width": null,
            "min_height": null,
            "min_width": null,
            "object_fit": null,
            "object_position": null,
            "order": null,
            "overflow": null,
            "overflow_x": null,
            "overflow_y": null,
            "padding": null,
            "right": null,
            "top": null,
            "visibility": null,
            "width": null
          }
        },
        "bd86396e30854ba6959426ea7e4b80bf": {
          "model_module": "@jupyter-widgets/controls",
          "model_name": "ProgressStyleModel",
          "model_module_version": "1.5.0",
          "state": {
            "_model_module": "@jupyter-widgets/controls",
            "_model_module_version": "1.5.0",
            "_model_name": "ProgressStyleModel",
            "_view_count": null,
            "_view_module": "@jupyter-widgets/base",
            "_view_module_version": "1.2.0",
            "_view_name": "StyleView",
            "bar_color": null,
            "description_width": ""
          }
        },
        "172c8c797cf04ea7b1b6b0a4de4b4dee": {
          "model_module": "@jupyter-widgets/base",
          "model_name": "LayoutModel",
          "model_module_version": "1.2.0",
          "state": {
            "_model_module": "@jupyter-widgets/base",
            "_model_module_version": "1.2.0",
            "_model_name": "LayoutModel",
            "_view_count": null,
            "_view_module": "@jupyter-widgets/base",
            "_view_module_version": "1.2.0",
            "_view_name": "LayoutView",
            "align_content": null,
            "align_items": null,
            "align_self": null,
            "border": null,
            "bottom": null,
            "display": null,
            "flex": null,
            "flex_flow": null,
            "grid_area": null,
            "grid_auto_columns": null,
            "grid_auto_flow": null,
            "grid_auto_rows": null,
            "grid_column": null,
            "grid_gap": null,
            "grid_row": null,
            "grid_template_areas": null,
            "grid_template_columns": null,
            "grid_template_rows": null,
            "height": null,
            "justify_content": null,
            "justify_items": null,
            "left": null,
            "margin": null,
            "max_height": null,
            "max_width": null,
            "min_height": null,
            "min_width": null,
            "object_fit": null,
            "object_position": null,
            "order": null,
            "overflow": null,
            "overflow_x": null,
            "overflow_y": null,
            "padding": null,
            "right": null,
            "top": null,
            "visibility": null,
            "width": null
          }
        },
        "1bd1866acae14bc0a2c6b332799e5ac4": {
          "model_module": "@jupyter-widgets/controls",
          "model_name": "DescriptionStyleModel",
          "model_module_version": "1.5.0",
          "state": {
            "_model_module": "@jupyter-widgets/controls",
            "_model_module_version": "1.5.0",
            "_model_name": "DescriptionStyleModel",
            "_view_count": null,
            "_view_module": "@jupyter-widgets/base",
            "_view_module_version": "1.2.0",
            "_view_name": "StyleView",
            "description_width": ""
          }
        },
        "a06c010915dc47c79895936dea3e9c76": {
          "model_module": "@jupyter-widgets/controls",
          "model_name": "HBoxModel",
          "model_module_version": "1.5.0",
          "state": {
            "_dom_classes": [],
            "_model_module": "@jupyter-widgets/controls",
            "_model_module_version": "1.5.0",
            "_model_name": "HBoxModel",
            "_view_count": null,
            "_view_module": "@jupyter-widgets/controls",
            "_view_module_version": "1.5.0",
            "_view_name": "HBoxView",
            "box_style": "",
            "children": [
              "IPY_MODEL_71de14b75fd146509e2590f9e03c7731",
              "IPY_MODEL_826ebf415f754ffeb2dc6e2047ee6d70",
              "IPY_MODEL_0d116d81f7b8498daaad2bef2910d0e0"
            ],
            "layout": "IPY_MODEL_615e6c45a17341a08a49f9a1cd5a71df"
          }
        },
        "71de14b75fd146509e2590f9e03c7731": {
          "model_module": "@jupyter-widgets/controls",
          "model_name": "HTMLModel",
          "model_module_version": "1.5.0",
          "state": {
            "_dom_classes": [],
            "_model_module": "@jupyter-widgets/controls",
            "_model_module_version": "1.5.0",
            "_model_name": "HTMLModel",
            "_view_count": null,
            "_view_module": "@jupyter-widgets/controls",
            "_view_module_version": "1.5.0",
            "_view_name": "HTMLView",
            "description": "",
            "description_tooltip": null,
            "layout": "IPY_MODEL_c5b52b2ee7394084a441ec2b36f1d011",
            "placeholder": "​",
            "style": "IPY_MODEL_ce23d4a3f6a647f6bb391c3d2e775286",
            "value": "Downloading (…)/main/tokenizer.json: 100%"
          }
        },
        "826ebf415f754ffeb2dc6e2047ee6d70": {
          "model_module": "@jupyter-widgets/controls",
          "model_name": "FloatProgressModel",
          "model_module_version": "1.5.0",
          "state": {
            "_dom_classes": [],
            "_model_module": "@jupyter-widgets/controls",
            "_model_module_version": "1.5.0",
            "_model_name": "FloatProgressModel",
            "_view_count": null,
            "_view_module": "@jupyter-widgets/controls",
            "_view_module_version": "1.5.0",
            "_view_name": "ProgressView",
            "bar_style": "success",
            "description": "",
            "description_tooltip": null,
            "layout": "IPY_MODEL_72586f7e86844081af145c35db9f0101",
            "max": 1355863,
            "min": 0,
            "orientation": "horizontal",
            "style": "IPY_MODEL_b90ead79a5d64e6abd4a33edb816fa19",
            "value": 1355863
          }
        },
        "0d116d81f7b8498daaad2bef2910d0e0": {
          "model_module": "@jupyter-widgets/controls",
          "model_name": "HTMLModel",
          "model_module_version": "1.5.0",
          "state": {
            "_dom_classes": [],
            "_model_module": "@jupyter-widgets/controls",
            "_model_module_version": "1.5.0",
            "_model_name": "HTMLModel",
            "_view_count": null,
            "_view_module": "@jupyter-widgets/controls",
            "_view_module_version": "1.5.0",
            "_view_name": "HTMLView",
            "description": "",
            "description_tooltip": null,
            "layout": "IPY_MODEL_ff67e8fd79924286a30e448709a23705",
            "placeholder": "​",
            "style": "IPY_MODEL_e73c6506f9c64a4e91a6cd067a278ab2",
            "value": " 1.36M/1.36M [00:01&lt;00:00, 1.18MB/s]"
          }
        },
        "615e6c45a17341a08a49f9a1cd5a71df": {
          "model_module": "@jupyter-widgets/base",
          "model_name": "LayoutModel",
          "model_module_version": "1.2.0",
          "state": {
            "_model_module": "@jupyter-widgets/base",
            "_model_module_version": "1.2.0",
            "_model_name": "LayoutModel",
            "_view_count": null,
            "_view_module": "@jupyter-widgets/base",
            "_view_module_version": "1.2.0",
            "_view_name": "LayoutView",
            "align_content": null,
            "align_items": null,
            "align_self": null,
            "border": null,
            "bottom": null,
            "display": null,
            "flex": null,
            "flex_flow": null,
            "grid_area": null,
            "grid_auto_columns": null,
            "grid_auto_flow": null,
            "grid_auto_rows": null,
            "grid_column": null,
            "grid_gap": null,
            "grid_row": null,
            "grid_template_areas": null,
            "grid_template_columns": null,
            "grid_template_rows": null,
            "height": null,
            "justify_content": null,
            "justify_items": null,
            "left": null,
            "margin": null,
            "max_height": null,
            "max_width": null,
            "min_height": null,
            "min_width": null,
            "object_fit": null,
            "object_position": null,
            "order": null,
            "overflow": null,
            "overflow_x": null,
            "overflow_y": null,
            "padding": null,
            "right": null,
            "top": null,
            "visibility": null,
            "width": null
          }
        },
        "c5b52b2ee7394084a441ec2b36f1d011": {
          "model_module": "@jupyter-widgets/base",
          "model_name": "LayoutModel",
          "model_module_version": "1.2.0",
          "state": {
            "_model_module": "@jupyter-widgets/base",
            "_model_module_version": "1.2.0",
            "_model_name": "LayoutModel",
            "_view_count": null,
            "_view_module": "@jupyter-widgets/base",
            "_view_module_version": "1.2.0",
            "_view_name": "LayoutView",
            "align_content": null,
            "align_items": null,
            "align_self": null,
            "border": null,
            "bottom": null,
            "display": null,
            "flex": null,
            "flex_flow": null,
            "grid_area": null,
            "grid_auto_columns": null,
            "grid_auto_flow": null,
            "grid_auto_rows": null,
            "grid_column": null,
            "grid_gap": null,
            "grid_row": null,
            "grid_template_areas": null,
            "grid_template_columns": null,
            "grid_template_rows": null,
            "height": null,
            "justify_content": null,
            "justify_items": null,
            "left": null,
            "margin": null,
            "max_height": null,
            "max_width": null,
            "min_height": null,
            "min_width": null,
            "object_fit": null,
            "object_position": null,
            "order": null,
            "overflow": null,
            "overflow_x": null,
            "overflow_y": null,
            "padding": null,
            "right": null,
            "top": null,
            "visibility": null,
            "width": null
          }
        },
        "ce23d4a3f6a647f6bb391c3d2e775286": {
          "model_module": "@jupyter-widgets/controls",
          "model_name": "DescriptionStyleModel",
          "model_module_version": "1.5.0",
          "state": {
            "_model_module": "@jupyter-widgets/controls",
            "_model_module_version": "1.5.0",
            "_model_name": "DescriptionStyleModel",
            "_view_count": null,
            "_view_module": "@jupyter-widgets/base",
            "_view_module_version": "1.2.0",
            "_view_name": "StyleView",
            "description_width": ""
          }
        },
        "72586f7e86844081af145c35db9f0101": {
          "model_module": "@jupyter-widgets/base",
          "model_name": "LayoutModel",
          "model_module_version": "1.2.0",
          "state": {
            "_model_module": "@jupyter-widgets/base",
            "_model_module_version": "1.2.0",
            "_model_name": "LayoutModel",
            "_view_count": null,
            "_view_module": "@jupyter-widgets/base",
            "_view_module_version": "1.2.0",
            "_view_name": "LayoutView",
            "align_content": null,
            "align_items": null,
            "align_self": null,
            "border": null,
            "bottom": null,
            "display": null,
            "flex": null,
            "flex_flow": null,
            "grid_area": null,
            "grid_auto_columns": null,
            "grid_auto_flow": null,
            "grid_auto_rows": null,
            "grid_column": null,
            "grid_gap": null,
            "grid_row": null,
            "grid_template_areas": null,
            "grid_template_columns": null,
            "grid_template_rows": null,
            "height": null,
            "justify_content": null,
            "justify_items": null,
            "left": null,
            "margin": null,
            "max_height": null,
            "max_width": null,
            "min_height": null,
            "min_width": null,
            "object_fit": null,
            "object_position": null,
            "order": null,
            "overflow": null,
            "overflow_x": null,
            "overflow_y": null,
            "padding": null,
            "right": null,
            "top": null,
            "visibility": null,
            "width": null
          }
        },
        "b90ead79a5d64e6abd4a33edb816fa19": {
          "model_module": "@jupyter-widgets/controls",
          "model_name": "ProgressStyleModel",
          "model_module_version": "1.5.0",
          "state": {
            "_model_module": "@jupyter-widgets/controls",
            "_model_module_version": "1.5.0",
            "_model_name": "ProgressStyleModel",
            "_view_count": null,
            "_view_module": "@jupyter-widgets/base",
            "_view_module_version": "1.2.0",
            "_view_name": "StyleView",
            "bar_color": null,
            "description_width": ""
          }
        },
        "ff67e8fd79924286a30e448709a23705": {
          "model_module": "@jupyter-widgets/base",
          "model_name": "LayoutModel",
          "model_module_version": "1.2.0",
          "state": {
            "_model_module": "@jupyter-widgets/base",
            "_model_module_version": "1.2.0",
            "_model_name": "LayoutModel",
            "_view_count": null,
            "_view_module": "@jupyter-widgets/base",
            "_view_module_version": "1.2.0",
            "_view_name": "LayoutView",
            "align_content": null,
            "align_items": null,
            "align_self": null,
            "border": null,
            "bottom": null,
            "display": null,
            "flex": null,
            "flex_flow": null,
            "grid_area": null,
            "grid_auto_columns": null,
            "grid_auto_flow": null,
            "grid_auto_rows": null,
            "grid_column": null,
            "grid_gap": null,
            "grid_row": null,
            "grid_template_areas": null,
            "grid_template_columns": null,
            "grid_template_rows": null,
            "height": null,
            "justify_content": null,
            "justify_items": null,
            "left": null,
            "margin": null,
            "max_height": null,
            "max_width": null,
            "min_height": null,
            "min_width": null,
            "object_fit": null,
            "object_position": null,
            "order": null,
            "overflow": null,
            "overflow_x": null,
            "overflow_y": null,
            "padding": null,
            "right": null,
            "top": null,
            "visibility": null,
            "width": null
          }
        },
        "e73c6506f9c64a4e91a6cd067a278ab2": {
          "model_module": "@jupyter-widgets/controls",
          "model_name": "DescriptionStyleModel",
          "model_module_version": "1.5.0",
          "state": {
            "_model_module": "@jupyter-widgets/controls",
            "_model_module_version": "1.5.0",
            "_model_name": "DescriptionStyleModel",
            "_view_count": null,
            "_view_module": "@jupyter-widgets/base",
            "_view_module_version": "1.2.0",
            "_view_name": "StyleView",
            "description_width": ""
          }
        },
        "4b47234f19d8427f8e53d4cd8b3b5059": {
          "model_module": "@jupyter-widgets/controls",
          "model_name": "HBoxModel",
          "model_module_version": "1.5.0",
          "state": {
            "_dom_classes": [],
            "_model_module": "@jupyter-widgets/controls",
            "_model_module_version": "1.5.0",
            "_model_name": "HBoxModel",
            "_view_count": null,
            "_view_module": "@jupyter-widgets/controls",
            "_view_module_version": "1.5.0",
            "_view_name": "HBoxView",
            "box_style": "",
            "children": [
              "IPY_MODEL_2ffab35892bc4d9688e58641a8143eb3",
              "IPY_MODEL_ad0fa4383eeb412f813c5585c0e23355",
              "IPY_MODEL_93bb6f0beee54afaa76b00a7af1e21cc"
            ],
            "layout": "IPY_MODEL_0f1464f66b614b8b9e004ec5e3c7b7e8"
          }
        },
        "2ffab35892bc4d9688e58641a8143eb3": {
          "model_module": "@jupyter-widgets/controls",
          "model_name": "HTMLModel",
          "model_module_version": "1.5.0",
          "state": {
            "_dom_classes": [],
            "_model_module": "@jupyter-widgets/controls",
            "_model_module_version": "1.5.0",
            "_model_name": "HTMLModel",
            "_view_count": null,
            "_view_module": "@jupyter-widgets/controls",
            "_view_module_version": "1.5.0",
            "_view_name": "HTMLView",
            "description": "",
            "description_tooltip": null,
            "layout": "IPY_MODEL_bbb5aeb2086c438bb783d20b65e14aff",
            "placeholder": "​",
            "style": "IPY_MODEL_68d20c16b84540ec9bfa6e6eebe14022",
            "value": "Downloading (…)lve/main/config.json: 100%"
          }
        },
        "ad0fa4383eeb412f813c5585c0e23355": {
          "model_module": "@jupyter-widgets/controls",
          "model_name": "FloatProgressModel",
          "model_module_version": "1.5.0",
          "state": {
            "_dom_classes": [],
            "_model_module": "@jupyter-widgets/controls",
            "_model_module_version": "1.5.0",
            "_model_name": "FloatProgressModel",
            "_view_count": null,
            "_view_module": "@jupyter-widgets/controls",
            "_view_module_version": "1.5.0",
            "_view_name": "ProgressView",
            "bar_style": "success",
            "description": "",
            "description_tooltip": null,
            "layout": "IPY_MODEL_0e5d932f5f484e96b8e3c163da01407a",
            "max": 761,
            "min": 0,
            "orientation": "horizontal",
            "style": "IPY_MODEL_1c75b9184b294e32aa5a38a47dd691a9",
            "value": 761
          }
        },
        "93bb6f0beee54afaa76b00a7af1e21cc": {
          "model_module": "@jupyter-widgets/controls",
          "model_name": "HTMLModel",
          "model_module_version": "1.5.0",
          "state": {
            "_dom_classes": [],
            "_model_module": "@jupyter-widgets/controls",
            "_model_module_version": "1.5.0",
            "_model_name": "HTMLModel",
            "_view_count": null,
            "_view_module": "@jupyter-widgets/controls",
            "_view_module_version": "1.5.0",
            "_view_name": "HTMLView",
            "description": "",
            "description_tooltip": null,
            "layout": "IPY_MODEL_819f5efa448b4ff9835947e377ee126e",
            "placeholder": "​",
            "style": "IPY_MODEL_f76f7c45b47845a9973251bfd29611cf",
            "value": " 761/761 [00:00&lt;00:00, 43.2kB/s]"
          }
        },
        "0f1464f66b614b8b9e004ec5e3c7b7e8": {
          "model_module": "@jupyter-widgets/base",
          "model_name": "LayoutModel",
          "model_module_version": "1.2.0",
          "state": {
            "_model_module": "@jupyter-widgets/base",
            "_model_module_version": "1.2.0",
            "_model_name": "LayoutModel",
            "_view_count": null,
            "_view_module": "@jupyter-widgets/base",
            "_view_module_version": "1.2.0",
            "_view_name": "LayoutView",
            "align_content": null,
            "align_items": null,
            "align_self": null,
            "border": null,
            "bottom": null,
            "display": null,
            "flex": null,
            "flex_flow": null,
            "grid_area": null,
            "grid_auto_columns": null,
            "grid_auto_flow": null,
            "grid_auto_rows": null,
            "grid_column": null,
            "grid_gap": null,
            "grid_row": null,
            "grid_template_areas": null,
            "grid_template_columns": null,
            "grid_template_rows": null,
            "height": null,
            "justify_content": null,
            "justify_items": null,
            "left": null,
            "margin": null,
            "max_height": null,
            "max_width": null,
            "min_height": null,
            "min_width": null,
            "object_fit": null,
            "object_position": null,
            "order": null,
            "overflow": null,
            "overflow_x": null,
            "overflow_y": null,
            "padding": null,
            "right": null,
            "top": null,
            "visibility": null,
            "width": null
          }
        },
        "bbb5aeb2086c438bb783d20b65e14aff": {
          "model_module": "@jupyter-widgets/base",
          "model_name": "LayoutModel",
          "model_module_version": "1.2.0",
          "state": {
            "_model_module": "@jupyter-widgets/base",
            "_model_module_version": "1.2.0",
            "_model_name": "LayoutModel",
            "_view_count": null,
            "_view_module": "@jupyter-widgets/base",
            "_view_module_version": "1.2.0",
            "_view_name": "LayoutView",
            "align_content": null,
            "align_items": null,
            "align_self": null,
            "border": null,
            "bottom": null,
            "display": null,
            "flex": null,
            "flex_flow": null,
            "grid_area": null,
            "grid_auto_columns": null,
            "grid_auto_flow": null,
            "grid_auto_rows": null,
            "grid_column": null,
            "grid_gap": null,
            "grid_row": null,
            "grid_template_areas": null,
            "grid_template_columns": null,
            "grid_template_rows": null,
            "height": null,
            "justify_content": null,
            "justify_items": null,
            "left": null,
            "margin": null,
            "max_height": null,
            "max_width": null,
            "min_height": null,
            "min_width": null,
            "object_fit": null,
            "object_position": null,
            "order": null,
            "overflow": null,
            "overflow_x": null,
            "overflow_y": null,
            "padding": null,
            "right": null,
            "top": null,
            "visibility": null,
            "width": null
          }
        },
        "68d20c16b84540ec9bfa6e6eebe14022": {
          "model_module": "@jupyter-widgets/controls",
          "model_name": "DescriptionStyleModel",
          "model_module_version": "1.5.0",
          "state": {
            "_model_module": "@jupyter-widgets/controls",
            "_model_module_version": "1.5.0",
            "_model_name": "DescriptionStyleModel",
            "_view_count": null,
            "_view_module": "@jupyter-widgets/base",
            "_view_module_version": "1.2.0",
            "_view_name": "StyleView",
            "description_width": ""
          }
        },
        "0e5d932f5f484e96b8e3c163da01407a": {
          "model_module": "@jupyter-widgets/base",
          "model_name": "LayoutModel",
          "model_module_version": "1.2.0",
          "state": {
            "_model_module": "@jupyter-widgets/base",
            "_model_module_version": "1.2.0",
            "_model_name": "LayoutModel",
            "_view_count": null,
            "_view_module": "@jupyter-widgets/base",
            "_view_module_version": "1.2.0",
            "_view_name": "LayoutView",
            "align_content": null,
            "align_items": null,
            "align_self": null,
            "border": null,
            "bottom": null,
            "display": null,
            "flex": null,
            "flex_flow": null,
            "grid_area": null,
            "grid_auto_columns": null,
            "grid_auto_flow": null,
            "grid_auto_rows": null,
            "grid_column": null,
            "grid_gap": null,
            "grid_row": null,
            "grid_template_areas": null,
            "grid_template_columns": null,
            "grid_template_rows": null,
            "height": null,
            "justify_content": null,
            "justify_items": null,
            "left": null,
            "margin": null,
            "max_height": null,
            "max_width": null,
            "min_height": null,
            "min_width": null,
            "object_fit": null,
            "object_position": null,
            "order": null,
            "overflow": null,
            "overflow_x": null,
            "overflow_y": null,
            "padding": null,
            "right": null,
            "top": null,
            "visibility": null,
            "width": null
          }
        },
        "1c75b9184b294e32aa5a38a47dd691a9": {
          "model_module": "@jupyter-widgets/controls",
          "model_name": "ProgressStyleModel",
          "model_module_version": "1.5.0",
          "state": {
            "_model_module": "@jupyter-widgets/controls",
            "_model_module_version": "1.5.0",
            "_model_name": "ProgressStyleModel",
            "_view_count": null,
            "_view_module": "@jupyter-widgets/base",
            "_view_module_version": "1.2.0",
            "_view_name": "StyleView",
            "bar_color": null,
            "description_width": ""
          }
        },
        "819f5efa448b4ff9835947e377ee126e": {
          "model_module": "@jupyter-widgets/base",
          "model_name": "LayoutModel",
          "model_module_version": "1.2.0",
          "state": {
            "_model_module": "@jupyter-widgets/base",
            "_model_module_version": "1.2.0",
            "_model_name": "LayoutModel",
            "_view_count": null,
            "_view_module": "@jupyter-widgets/base",
            "_view_module_version": "1.2.0",
            "_view_name": "LayoutView",
            "align_content": null,
            "align_items": null,
            "align_self": null,
            "border": null,
            "bottom": null,
            "display": null,
            "flex": null,
            "flex_flow": null,
            "grid_area": null,
            "grid_auto_columns": null,
            "grid_auto_flow": null,
            "grid_auto_rows": null,
            "grid_column": null,
            "grid_gap": null,
            "grid_row": null,
            "grid_template_areas": null,
            "grid_template_columns": null,
            "grid_template_rows": null,
            "height": null,
            "justify_content": null,
            "justify_items": null,
            "left": null,
            "margin": null,
            "max_height": null,
            "max_width": null,
            "min_height": null,
            "min_width": null,
            "object_fit": null,
            "object_position": null,
            "order": null,
            "overflow": null,
            "overflow_x": null,
            "overflow_y": null,
            "padding": null,
            "right": null,
            "top": null,
            "visibility": null,
            "width": null
          }
        },
        "f76f7c45b47845a9973251bfd29611cf": {
          "model_module": "@jupyter-widgets/controls",
          "model_name": "DescriptionStyleModel",
          "model_module_version": "1.5.0",
          "state": {
            "_model_module": "@jupyter-widgets/controls",
            "_model_module_version": "1.5.0",
            "_model_name": "DescriptionStyleModel",
            "_view_count": null,
            "_view_module": "@jupyter-widgets/base",
            "_view_module_version": "1.2.0",
            "_view_name": "StyleView",
            "description_width": ""
          }
        },
        "75acccb3a51a45cb8151e2fa6360fc04": {
          "model_module": "@jupyter-widgets/controls",
          "model_name": "HBoxModel",
          "model_module_version": "1.5.0",
          "state": {
            "_dom_classes": [],
            "_model_module": "@jupyter-widgets/controls",
            "_model_module_version": "1.5.0",
            "_model_name": "HBoxModel",
            "_view_count": null,
            "_view_module": "@jupyter-widgets/controls",
            "_view_module_version": "1.5.0",
            "_view_name": "HBoxView",
            "box_style": "",
            "children": [
              "IPY_MODEL_7ed1d872f5784d19b8c2c7fdd2baae74",
              "IPY_MODEL_405f2bf9c7c54c6d92cf8953e766f9a0",
              "IPY_MODEL_bc37ced55ce64b0f9e1d1c8c70f9266f"
            ],
            "layout": "IPY_MODEL_a0e95f08552845dc854289df40386d22"
          }
        },
        "7ed1d872f5784d19b8c2c7fdd2baae74": {
          "model_module": "@jupyter-widgets/controls",
          "model_name": "HTMLModel",
          "model_module_version": "1.5.0",
          "state": {
            "_dom_classes": [],
            "_model_module": "@jupyter-widgets/controls",
            "_model_module_version": "1.5.0",
            "_model_name": "HTMLModel",
            "_view_count": null,
            "_view_module": "@jupyter-widgets/controls",
            "_view_module_version": "1.5.0",
            "_view_name": "HTMLView",
            "description": "",
            "description_tooltip": null,
            "layout": "IPY_MODEL_5ea2d4b425e14ae8868885d6f9c56a66",
            "placeholder": "​",
            "style": "IPY_MODEL_5d894777e096453e96db381bb7026231",
            "value": "Downloading pytorch_model.bin: 100%"
          }
        },
        "405f2bf9c7c54c6d92cf8953e766f9a0": {
          "model_module": "@jupyter-widgets/controls",
          "model_name": "FloatProgressModel",
          "model_module_version": "1.5.0",
          "state": {
            "_dom_classes": [],
            "_model_module": "@jupyter-widgets/controls",
            "_model_module_version": "1.5.0",
            "_model_name": "FloatProgressModel",
            "_view_count": null,
            "_view_module": "@jupyter-widgets/controls",
            "_view_module_version": "1.5.0",
            "_view_name": "ProgressView",
            "bar_style": "success",
            "description": "",
            "description_tooltip": null,
            "layout": "IPY_MODEL_803ae9a1ec584c0799132877f14ac083",
            "max": 1441285815,
            "min": 0,
            "orientation": "horizontal",
            "style": "IPY_MODEL_a47c121f8ed94b4ab252d1a8d459179c",
            "value": 1441285815
          }
        },
        "bc37ced55ce64b0f9e1d1c8c70f9266f": {
          "model_module": "@jupyter-widgets/controls",
          "model_name": "HTMLModel",
          "model_module_version": "1.5.0",
          "state": {
            "_dom_classes": [],
            "_model_module": "@jupyter-widgets/controls",
            "_model_module_version": "1.5.0",
            "_model_name": "HTMLModel",
            "_view_count": null,
            "_view_module": "@jupyter-widgets/controls",
            "_view_module_version": "1.5.0",
            "_view_name": "HTMLView",
            "description": "",
            "description_tooltip": null,
            "layout": "IPY_MODEL_4254ab7c64394220b281b3d1189b01e9",
            "placeholder": "​",
            "style": "IPY_MODEL_19a10050e19142808119758c5441a455",
            "value": " 1.44G/1.44G [00:14&lt;00:00, 94.4MB/s]"
          }
        },
        "a0e95f08552845dc854289df40386d22": {
          "model_module": "@jupyter-widgets/base",
          "model_name": "LayoutModel",
          "model_module_version": "1.2.0",
          "state": {
            "_model_module": "@jupyter-widgets/base",
            "_model_module_version": "1.2.0",
            "_model_name": "LayoutModel",
            "_view_count": null,
            "_view_module": "@jupyter-widgets/base",
            "_view_module_version": "1.2.0",
            "_view_name": "LayoutView",
            "align_content": null,
            "align_items": null,
            "align_self": null,
            "border": null,
            "bottom": null,
            "display": null,
            "flex": null,
            "flex_flow": null,
            "grid_area": null,
            "grid_auto_columns": null,
            "grid_auto_flow": null,
            "grid_auto_rows": null,
            "grid_column": null,
            "grid_gap": null,
            "grid_row": null,
            "grid_template_areas": null,
            "grid_template_columns": null,
            "grid_template_rows": null,
            "height": null,
            "justify_content": null,
            "justify_items": null,
            "left": null,
            "margin": null,
            "max_height": null,
            "max_width": null,
            "min_height": null,
            "min_width": null,
            "object_fit": null,
            "object_position": null,
            "order": null,
            "overflow": null,
            "overflow_x": null,
            "overflow_y": null,
            "padding": null,
            "right": null,
            "top": null,
            "visibility": null,
            "width": null
          }
        },
        "5ea2d4b425e14ae8868885d6f9c56a66": {
          "model_module": "@jupyter-widgets/base",
          "model_name": "LayoutModel",
          "model_module_version": "1.2.0",
          "state": {
            "_model_module": "@jupyter-widgets/base",
            "_model_module_version": "1.2.0",
            "_model_name": "LayoutModel",
            "_view_count": null,
            "_view_module": "@jupyter-widgets/base",
            "_view_module_version": "1.2.0",
            "_view_name": "LayoutView",
            "align_content": null,
            "align_items": null,
            "align_self": null,
            "border": null,
            "bottom": null,
            "display": null,
            "flex": null,
            "flex_flow": null,
            "grid_area": null,
            "grid_auto_columns": null,
            "grid_auto_flow": null,
            "grid_auto_rows": null,
            "grid_column": null,
            "grid_gap": null,
            "grid_row": null,
            "grid_template_areas": null,
            "grid_template_columns": null,
            "grid_template_rows": null,
            "height": null,
            "justify_content": null,
            "justify_items": null,
            "left": null,
            "margin": null,
            "max_height": null,
            "max_width": null,
            "min_height": null,
            "min_width": null,
            "object_fit": null,
            "object_position": null,
            "order": null,
            "overflow": null,
            "overflow_x": null,
            "overflow_y": null,
            "padding": null,
            "right": null,
            "top": null,
            "visibility": null,
            "width": null
          }
        },
        "5d894777e096453e96db381bb7026231": {
          "model_module": "@jupyter-widgets/controls",
          "model_name": "DescriptionStyleModel",
          "model_module_version": "1.5.0",
          "state": {
            "_model_module": "@jupyter-widgets/controls",
            "_model_module_version": "1.5.0",
            "_model_name": "DescriptionStyleModel",
            "_view_count": null,
            "_view_module": "@jupyter-widgets/base",
            "_view_module_version": "1.2.0",
            "_view_name": "StyleView",
            "description_width": ""
          }
        },
        "803ae9a1ec584c0799132877f14ac083": {
          "model_module": "@jupyter-widgets/base",
          "model_name": "LayoutModel",
          "model_module_version": "1.2.0",
          "state": {
            "_model_module": "@jupyter-widgets/base",
            "_model_module_version": "1.2.0",
            "_model_name": "LayoutModel",
            "_view_count": null,
            "_view_module": "@jupyter-widgets/base",
            "_view_module_version": "1.2.0",
            "_view_name": "LayoutView",
            "align_content": null,
            "align_items": null,
            "align_self": null,
            "border": null,
            "bottom": null,
            "display": null,
            "flex": null,
            "flex_flow": null,
            "grid_area": null,
            "grid_auto_columns": null,
            "grid_auto_flow": null,
            "grid_auto_rows": null,
            "grid_column": null,
            "grid_gap": null,
            "grid_row": null,
            "grid_template_areas": null,
            "grid_template_columns": null,
            "grid_template_rows": null,
            "height": null,
            "justify_content": null,
            "justify_items": null,
            "left": null,
            "margin": null,
            "max_height": null,
            "max_width": null,
            "min_height": null,
            "min_width": null,
            "object_fit": null,
            "object_position": null,
            "order": null,
            "overflow": null,
            "overflow_x": null,
            "overflow_y": null,
            "padding": null,
            "right": null,
            "top": null,
            "visibility": null,
            "width": null
          }
        },
        "a47c121f8ed94b4ab252d1a8d459179c": {
          "model_module": "@jupyter-widgets/controls",
          "model_name": "ProgressStyleModel",
          "model_module_version": "1.5.0",
          "state": {
            "_model_module": "@jupyter-widgets/controls",
            "_model_module_version": "1.5.0",
            "_model_name": "ProgressStyleModel",
            "_view_count": null,
            "_view_module": "@jupyter-widgets/base",
            "_view_module_version": "1.2.0",
            "_view_name": "StyleView",
            "bar_color": null,
            "description_width": ""
          }
        },
        "4254ab7c64394220b281b3d1189b01e9": {
          "model_module": "@jupyter-widgets/base",
          "model_name": "LayoutModel",
          "model_module_version": "1.2.0",
          "state": {
            "_model_module": "@jupyter-widgets/base",
            "_model_module_version": "1.2.0",
            "_model_name": "LayoutModel",
            "_view_count": null,
            "_view_module": "@jupyter-widgets/base",
            "_view_module_version": "1.2.0",
            "_view_name": "LayoutView",
            "align_content": null,
            "align_items": null,
            "align_self": null,
            "border": null,
            "bottom": null,
            "display": null,
            "flex": null,
            "flex_flow": null,
            "grid_area": null,
            "grid_auto_columns": null,
            "grid_auto_flow": null,
            "grid_auto_rows": null,
            "grid_column": null,
            "grid_gap": null,
            "grid_row": null,
            "grid_template_areas": null,
            "grid_template_columns": null,
            "grid_template_rows": null,
            "height": null,
            "justify_content": null,
            "justify_items": null,
            "left": null,
            "margin": null,
            "max_height": null,
            "max_width": null,
            "min_height": null,
            "min_width": null,
            "object_fit": null,
            "object_position": null,
            "order": null,
            "overflow": null,
            "overflow_x": null,
            "overflow_y": null,
            "padding": null,
            "right": null,
            "top": null,
            "visibility": null,
            "width": null
          }
        },
        "19a10050e19142808119758c5441a455": {
          "model_module": "@jupyter-widgets/controls",
          "model_name": "DescriptionStyleModel",
          "model_module_version": "1.5.0",
          "state": {
            "_model_module": "@jupyter-widgets/controls",
            "_model_module_version": "1.5.0",
            "_model_name": "DescriptionStyleModel",
            "_view_count": null,
            "_view_module": "@jupyter-widgets/base",
            "_view_module_version": "1.2.0",
            "_view_name": "StyleView",
            "description_width": ""
          }
        },
        "ce68cf776e8f4310becfe7a507d606c9": {
          "model_module": "@jupyter-widgets/controls",
          "model_name": "HBoxModel",
          "model_module_version": "1.5.0",
          "state": {
            "_dom_classes": [],
            "_model_module": "@jupyter-widgets/controls",
            "_model_module_version": "1.5.0",
            "_model_name": "HBoxModel",
            "_view_count": null,
            "_view_module": "@jupyter-widgets/controls",
            "_view_module_version": "1.5.0",
            "_view_name": "HBoxView",
            "box_style": "",
            "children": [
              "IPY_MODEL_89690e360bc146249f731ca5f1a8e747",
              "IPY_MODEL_72c74644eb5346db89cc2e74bfb13bd0",
              "IPY_MODEL_bbec08e5e84f4cbfa7374fe42944f85a"
            ],
            "layout": "IPY_MODEL_b046867bfe13471e976ef3e8dedf1f30"
          }
        },
        "89690e360bc146249f731ca5f1a8e747": {
          "model_module": "@jupyter-widgets/controls",
          "model_name": "HTMLModel",
          "model_module_version": "1.5.0",
          "state": {
            "_dom_classes": [],
            "_model_module": "@jupyter-widgets/controls",
            "_model_module_version": "1.5.0",
            "_model_name": "HTMLModel",
            "_view_count": null,
            "_view_module": "@jupyter-widgets/controls",
            "_view_module_version": "1.5.0",
            "_view_name": "HTMLView",
            "description": "",
            "description_tooltip": null,
            "layout": "IPY_MODEL_5d0654e2437d467280578b100512afe4",
            "placeholder": "​",
            "style": "IPY_MODEL_019a2884f6b4496c8f148c754469268c",
            "value": "Downloading (…)ve/main/spiece.model: 100%"
          }
        },
        "72c74644eb5346db89cc2e74bfb13bd0": {
          "model_module": "@jupyter-widgets/controls",
          "model_name": "FloatProgressModel",
          "model_module_version": "1.5.0",
          "state": {
            "_dom_classes": [],
            "_model_module": "@jupyter-widgets/controls",
            "_model_module_version": "1.5.0",
            "_model_name": "FloatProgressModel",
            "_view_count": null,
            "_view_module": "@jupyter-widgets/controls",
            "_view_module_version": "1.5.0",
            "_view_name": "ProgressView",
            "bar_style": "success",
            "description": "",
            "description_tooltip": null,
            "layout": "IPY_MODEL_5bfd2fa414d74d2d8e5679c98d6637c4",
            "max": 798011,
            "min": 0,
            "orientation": "horizontal",
            "style": "IPY_MODEL_6f21174d9eef4fc7b1712d11851c1e6b",
            "value": 798011
          }
        },
        "bbec08e5e84f4cbfa7374fe42944f85a": {
          "model_module": "@jupyter-widgets/controls",
          "model_name": "HTMLModel",
          "model_module_version": "1.5.0",
          "state": {
            "_dom_classes": [],
            "_model_module": "@jupyter-widgets/controls",
            "_model_module_version": "1.5.0",
            "_model_name": "HTMLModel",
            "_view_count": null,
            "_view_module": "@jupyter-widgets/controls",
            "_view_module_version": "1.5.0",
            "_view_name": "HTMLView",
            "description": "",
            "description_tooltip": null,
            "layout": "IPY_MODEL_8a2f714bbaa640c08377b742ec46feac",
            "placeholder": "​",
            "style": "IPY_MODEL_16294c35e4e44c47a660dff63e8ebf76",
            "value": " 798k/798k [00:01&lt;00:00, 722kB/s]"
          }
        },
        "b046867bfe13471e976ef3e8dedf1f30": {
          "model_module": "@jupyter-widgets/base",
          "model_name": "LayoutModel",
          "model_module_version": "1.2.0",
          "state": {
            "_model_module": "@jupyter-widgets/base",
            "_model_module_version": "1.2.0",
            "_model_name": "LayoutModel",
            "_view_count": null,
            "_view_module": "@jupyter-widgets/base",
            "_view_module_version": "1.2.0",
            "_view_name": "LayoutView",
            "align_content": null,
            "align_items": null,
            "align_self": null,
            "border": null,
            "bottom": null,
            "display": null,
            "flex": null,
            "flex_flow": null,
            "grid_area": null,
            "grid_auto_columns": null,
            "grid_auto_flow": null,
            "grid_auto_rows": null,
            "grid_column": null,
            "grid_gap": null,
            "grid_row": null,
            "grid_template_areas": null,
            "grid_template_columns": null,
            "grid_template_rows": null,
            "height": null,
            "justify_content": null,
            "justify_items": null,
            "left": null,
            "margin": null,
            "max_height": null,
            "max_width": null,
            "min_height": null,
            "min_width": null,
            "object_fit": null,
            "object_position": null,
            "order": null,
            "overflow": null,
            "overflow_x": null,
            "overflow_y": null,
            "padding": null,
            "right": null,
            "top": null,
            "visibility": null,
            "width": null
          }
        },
        "5d0654e2437d467280578b100512afe4": {
          "model_module": "@jupyter-widgets/base",
          "model_name": "LayoutModel",
          "model_module_version": "1.2.0",
          "state": {
            "_model_module": "@jupyter-widgets/base",
            "_model_module_version": "1.2.0",
            "_model_name": "LayoutModel",
            "_view_count": null,
            "_view_module": "@jupyter-widgets/base",
            "_view_module_version": "1.2.0",
            "_view_name": "LayoutView",
            "align_content": null,
            "align_items": null,
            "align_self": null,
            "border": null,
            "bottom": null,
            "display": null,
            "flex": null,
            "flex_flow": null,
            "grid_area": null,
            "grid_auto_columns": null,
            "grid_auto_flow": null,
            "grid_auto_rows": null,
            "grid_column": null,
            "grid_gap": null,
            "grid_row": null,
            "grid_template_areas": null,
            "grid_template_columns": null,
            "grid_template_rows": null,
            "height": null,
            "justify_content": null,
            "justify_items": null,
            "left": null,
            "margin": null,
            "max_height": null,
            "max_width": null,
            "min_height": null,
            "min_width": null,
            "object_fit": null,
            "object_position": null,
            "order": null,
            "overflow": null,
            "overflow_x": null,
            "overflow_y": null,
            "padding": null,
            "right": null,
            "top": null,
            "visibility": null,
            "width": null
          }
        },
        "019a2884f6b4496c8f148c754469268c": {
          "model_module": "@jupyter-widgets/controls",
          "model_name": "DescriptionStyleModel",
          "model_module_version": "1.5.0",
          "state": {
            "_model_module": "@jupyter-widgets/controls",
            "_model_module_version": "1.5.0",
            "_model_name": "DescriptionStyleModel",
            "_view_count": null,
            "_view_module": "@jupyter-widgets/base",
            "_view_module_version": "1.2.0",
            "_view_name": "StyleView",
            "description_width": ""
          }
        },
        "5bfd2fa414d74d2d8e5679c98d6637c4": {
          "model_module": "@jupyter-widgets/base",
          "model_name": "LayoutModel",
          "model_module_version": "1.2.0",
          "state": {
            "_model_module": "@jupyter-widgets/base",
            "_model_module_version": "1.2.0",
            "_model_name": "LayoutModel",
            "_view_count": null,
            "_view_module": "@jupyter-widgets/base",
            "_view_module_version": "1.2.0",
            "_view_name": "LayoutView",
            "align_content": null,
            "align_items": null,
            "align_self": null,
            "border": null,
            "bottom": null,
            "display": null,
            "flex": null,
            "flex_flow": null,
            "grid_area": null,
            "grid_auto_columns": null,
            "grid_auto_flow": null,
            "grid_auto_rows": null,
            "grid_column": null,
            "grid_gap": null,
            "grid_row": null,
            "grid_template_areas": null,
            "grid_template_columns": null,
            "grid_template_rows": null,
            "height": null,
            "justify_content": null,
            "justify_items": null,
            "left": null,
            "margin": null,
            "max_height": null,
            "max_width": null,
            "min_height": null,
            "min_width": null,
            "object_fit": null,
            "object_position": null,
            "order": null,
            "overflow": null,
            "overflow_x": null,
            "overflow_y": null,
            "padding": null,
            "right": null,
            "top": null,
            "visibility": null,
            "width": null
          }
        },
        "6f21174d9eef4fc7b1712d11851c1e6b": {
          "model_module": "@jupyter-widgets/controls",
          "model_name": "ProgressStyleModel",
          "model_module_version": "1.5.0",
          "state": {
            "_model_module": "@jupyter-widgets/controls",
            "_model_module_version": "1.5.0",
            "_model_name": "ProgressStyleModel",
            "_view_count": null,
            "_view_module": "@jupyter-widgets/base",
            "_view_module_version": "1.2.0",
            "_view_name": "StyleView",
            "bar_color": null,
            "description_width": ""
          }
        },
        "8a2f714bbaa640c08377b742ec46feac": {
          "model_module": "@jupyter-widgets/base",
          "model_name": "LayoutModel",
          "model_module_version": "1.2.0",
          "state": {
            "_model_module": "@jupyter-widgets/base",
            "_model_module_version": "1.2.0",
            "_model_name": "LayoutModel",
            "_view_count": null,
            "_view_module": "@jupyter-widgets/base",
            "_view_module_version": "1.2.0",
            "_view_name": "LayoutView",
            "align_content": null,
            "align_items": null,
            "align_self": null,
            "border": null,
            "bottom": null,
            "display": null,
            "flex": null,
            "flex_flow": null,
            "grid_area": null,
            "grid_auto_columns": null,
            "grid_auto_flow": null,
            "grid_auto_rows": null,
            "grid_column": null,
            "grid_gap": null,
            "grid_row": null,
            "grid_template_areas": null,
            "grid_template_columns": null,
            "grid_template_rows": null,
            "height": null,
            "justify_content": null,
            "justify_items": null,
            "left": null,
            "margin": null,
            "max_height": null,
            "max_width": null,
            "min_height": null,
            "min_width": null,
            "object_fit": null,
            "object_position": null,
            "order": null,
            "overflow": null,
            "overflow_x": null,
            "overflow_y": null,
            "padding": null,
            "right": null,
            "top": null,
            "visibility": null,
            "width": null
          }
        },
        "16294c35e4e44c47a660dff63e8ebf76": {
          "model_module": "@jupyter-widgets/controls",
          "model_name": "DescriptionStyleModel",
          "model_module_version": "1.5.0",
          "state": {
            "_model_module": "@jupyter-widgets/controls",
            "_model_module_version": "1.5.0",
            "_model_name": "DescriptionStyleModel",
            "_view_count": null,
            "_view_module": "@jupyter-widgets/base",
            "_view_module_version": "1.2.0",
            "_view_name": "StyleView",
            "description_width": ""
          }
        },
        "a2e5c51b4d78408f837cb3aa686dafe3": {
          "model_module": "@jupyter-widgets/controls",
          "model_name": "HBoxModel",
          "model_module_version": "1.5.0",
          "state": {
            "_dom_classes": [],
            "_model_module": "@jupyter-widgets/controls",
            "_model_module_version": "1.5.0",
            "_model_name": "HBoxModel",
            "_view_count": null,
            "_view_module": "@jupyter-widgets/controls",
            "_view_module_version": "1.5.0",
            "_view_name": "HBoxView",
            "box_style": "",
            "children": [
              "IPY_MODEL_6586a336d5ac47dfba3ab2803d710fd1",
              "IPY_MODEL_312358e887654378848fda9541b2e77b",
              "IPY_MODEL_efa0c424dda94dd7b2f8da626e52df88"
            ],
            "layout": "IPY_MODEL_e14f3a8d6f564282b03896318be529c1"
          }
        },
        "6586a336d5ac47dfba3ab2803d710fd1": {
          "model_module": "@jupyter-widgets/controls",
          "model_name": "HTMLModel",
          "model_module_version": "1.5.0",
          "state": {
            "_dom_classes": [],
            "_model_module": "@jupyter-widgets/controls",
            "_model_module_version": "1.5.0",
            "_model_name": "HTMLModel",
            "_view_count": null,
            "_view_module": "@jupyter-widgets/controls",
            "_view_module_version": "1.5.0",
            "_view_name": "HTMLView",
            "description": "",
            "description_tooltip": null,
            "layout": "IPY_MODEL_9f96cea504994db38be78fcc3c6ea286",
            "placeholder": "​",
            "style": "IPY_MODEL_18f2fc73283f4f4bbc5104ecad2fe4e4",
            "value": "Downloading (…)/main/tokenizer.json: 100%"
          }
        },
        "312358e887654378848fda9541b2e77b": {
          "model_module": "@jupyter-widgets/controls",
          "model_name": "FloatProgressModel",
          "model_module_version": "1.5.0",
          "state": {
            "_dom_classes": [],
            "_model_module": "@jupyter-widgets/controls",
            "_model_module_version": "1.5.0",
            "_model_name": "FloatProgressModel",
            "_view_count": null,
            "_view_module": "@jupyter-widgets/controls",
            "_view_module_version": "1.5.0",
            "_view_name": "ProgressView",
            "bar_style": "success",
            "description": "",
            "description_tooltip": null,
            "layout": "IPY_MODEL_7c99b247ffe142f2b1c9eeb1cdb1529b",
            "max": 1382015,
            "min": 0,
            "orientation": "horizontal",
            "style": "IPY_MODEL_23a9bc7b6d27475188630a3eef464d99",
            "value": 1382015
          }
        },
        "efa0c424dda94dd7b2f8da626e52df88": {
          "model_module": "@jupyter-widgets/controls",
          "model_name": "HTMLModel",
          "model_module_version": "1.5.0",
          "state": {
            "_dom_classes": [],
            "_model_module": "@jupyter-widgets/controls",
            "_model_module_version": "1.5.0",
            "_model_name": "HTMLModel",
            "_view_count": null,
            "_view_module": "@jupyter-widgets/controls",
            "_view_module_version": "1.5.0",
            "_view_name": "HTMLView",
            "description": "",
            "description_tooltip": null,
            "layout": "IPY_MODEL_a0e888dbcaa34d7b9dbc8ee8adbf3801",
            "placeholder": "​",
            "style": "IPY_MODEL_8c2d55455b584d9d84f45b3c36eca9b6",
            "value": " 1.38M/1.38M [00:01&lt;00:00, 1.04MB/s]"
          }
        },
        "e14f3a8d6f564282b03896318be529c1": {
          "model_module": "@jupyter-widgets/base",
          "model_name": "LayoutModel",
          "model_module_version": "1.2.0",
          "state": {
            "_model_module": "@jupyter-widgets/base",
            "_model_module_version": "1.2.0",
            "_model_name": "LayoutModel",
            "_view_count": null,
            "_view_module": "@jupyter-widgets/base",
            "_view_module_version": "1.2.0",
            "_view_name": "LayoutView",
            "align_content": null,
            "align_items": null,
            "align_self": null,
            "border": null,
            "bottom": null,
            "display": null,
            "flex": null,
            "flex_flow": null,
            "grid_area": null,
            "grid_auto_columns": null,
            "grid_auto_flow": null,
            "grid_auto_rows": null,
            "grid_column": null,
            "grid_gap": null,
            "grid_row": null,
            "grid_template_areas": null,
            "grid_template_columns": null,
            "grid_template_rows": null,
            "height": null,
            "justify_content": null,
            "justify_items": null,
            "left": null,
            "margin": null,
            "max_height": null,
            "max_width": null,
            "min_height": null,
            "min_width": null,
            "object_fit": null,
            "object_position": null,
            "order": null,
            "overflow": null,
            "overflow_x": null,
            "overflow_y": null,
            "padding": null,
            "right": null,
            "top": null,
            "visibility": null,
            "width": null
          }
        },
        "9f96cea504994db38be78fcc3c6ea286": {
          "model_module": "@jupyter-widgets/base",
          "model_name": "LayoutModel",
          "model_module_version": "1.2.0",
          "state": {
            "_model_module": "@jupyter-widgets/base",
            "_model_module_version": "1.2.0",
            "_model_name": "LayoutModel",
            "_view_count": null,
            "_view_module": "@jupyter-widgets/base",
            "_view_module_version": "1.2.0",
            "_view_name": "LayoutView",
            "align_content": null,
            "align_items": null,
            "align_self": null,
            "border": null,
            "bottom": null,
            "display": null,
            "flex": null,
            "flex_flow": null,
            "grid_area": null,
            "grid_auto_columns": null,
            "grid_auto_flow": null,
            "grid_auto_rows": null,
            "grid_column": null,
            "grid_gap": null,
            "grid_row": null,
            "grid_template_areas": null,
            "grid_template_columns": null,
            "grid_template_rows": null,
            "height": null,
            "justify_content": null,
            "justify_items": null,
            "left": null,
            "margin": null,
            "max_height": null,
            "max_width": null,
            "min_height": null,
            "min_width": null,
            "object_fit": null,
            "object_position": null,
            "order": null,
            "overflow": null,
            "overflow_x": null,
            "overflow_y": null,
            "padding": null,
            "right": null,
            "top": null,
            "visibility": null,
            "width": null
          }
        },
        "18f2fc73283f4f4bbc5104ecad2fe4e4": {
          "model_module": "@jupyter-widgets/controls",
          "model_name": "DescriptionStyleModel",
          "model_module_version": "1.5.0",
          "state": {
            "_model_module": "@jupyter-widgets/controls",
            "_model_module_version": "1.5.0",
            "_model_name": "DescriptionStyleModel",
            "_view_count": null,
            "_view_module": "@jupyter-widgets/base",
            "_view_module_version": "1.2.0",
            "_view_name": "StyleView",
            "description_width": ""
          }
        },
        "7c99b247ffe142f2b1c9eeb1cdb1529b": {
          "model_module": "@jupyter-widgets/base",
          "model_name": "LayoutModel",
          "model_module_version": "1.2.0",
          "state": {
            "_model_module": "@jupyter-widgets/base",
            "_model_module_version": "1.2.0",
            "_model_name": "LayoutModel",
            "_view_count": null,
            "_view_module": "@jupyter-widgets/base",
            "_view_module_version": "1.2.0",
            "_view_name": "LayoutView",
            "align_content": null,
            "align_items": null,
            "align_self": null,
            "border": null,
            "bottom": null,
            "display": null,
            "flex": null,
            "flex_flow": null,
            "grid_area": null,
            "grid_auto_columns": null,
            "grid_auto_flow": null,
            "grid_auto_rows": null,
            "grid_column": null,
            "grid_gap": null,
            "grid_row": null,
            "grid_template_areas": null,
            "grid_template_columns": null,
            "grid_template_rows": null,
            "height": null,
            "justify_content": null,
            "justify_items": null,
            "left": null,
            "margin": null,
            "max_height": null,
            "max_width": null,
            "min_height": null,
            "min_width": null,
            "object_fit": null,
            "object_position": null,
            "order": null,
            "overflow": null,
            "overflow_x": null,
            "overflow_y": null,
            "padding": null,
            "right": null,
            "top": null,
            "visibility": null,
            "width": null
          }
        },
        "23a9bc7b6d27475188630a3eef464d99": {
          "model_module": "@jupyter-widgets/controls",
          "model_name": "ProgressStyleModel",
          "model_module_version": "1.5.0",
          "state": {
            "_model_module": "@jupyter-widgets/controls",
            "_model_module_version": "1.5.0",
            "_model_name": "ProgressStyleModel",
            "_view_count": null,
            "_view_module": "@jupyter-widgets/base",
            "_view_module_version": "1.2.0",
            "_view_name": "StyleView",
            "bar_color": null,
            "description_width": ""
          }
        },
        "a0e888dbcaa34d7b9dbc8ee8adbf3801": {
          "model_module": "@jupyter-widgets/base",
          "model_name": "LayoutModel",
          "model_module_version": "1.2.0",
          "state": {
            "_model_module": "@jupyter-widgets/base",
            "_model_module_version": "1.2.0",
            "_model_name": "LayoutModel",
            "_view_count": null,
            "_view_module": "@jupyter-widgets/base",
            "_view_module_version": "1.2.0",
            "_view_name": "LayoutView",
            "align_content": null,
            "align_items": null,
            "align_self": null,
            "border": null,
            "bottom": null,
            "display": null,
            "flex": null,
            "flex_flow": null,
            "grid_area": null,
            "grid_auto_columns": null,
            "grid_auto_flow": null,
            "grid_auto_rows": null,
            "grid_column": null,
            "grid_gap": null,
            "grid_row": null,
            "grid_template_areas": null,
            "grid_template_columns": null,
            "grid_template_rows": null,
            "height": null,
            "justify_content": null,
            "justify_items": null,
            "left": null,
            "margin": null,
            "max_height": null,
            "max_width": null,
            "min_height": null,
            "min_width": null,
            "object_fit": null,
            "object_position": null,
            "order": null,
            "overflow": null,
            "overflow_x": null,
            "overflow_y": null,
            "padding": null,
            "right": null,
            "top": null,
            "visibility": null,
            "width": null
          }
        },
        "8c2d55455b584d9d84f45b3c36eca9b6": {
          "model_module": "@jupyter-widgets/controls",
          "model_name": "DescriptionStyleModel",
          "model_module_version": "1.5.0",
          "state": {
            "_model_module": "@jupyter-widgets/controls",
            "_model_module_version": "1.5.0",
            "_model_name": "DescriptionStyleModel",
            "_view_count": null,
            "_view_module": "@jupyter-widgets/base",
            "_view_module_version": "1.2.0",
            "_view_name": "StyleView",
            "description_width": ""
          }
        },
        "d3d9447d70c74ac1917456fda4c8130d": {
          "model_module": "@jupyter-widgets/controls",
          "model_name": "HBoxModel",
          "model_module_version": "1.5.0",
          "state": {
            "_dom_classes": [],
            "_model_module": "@jupyter-widgets/controls",
            "_model_module_version": "1.5.0",
            "_model_name": "HBoxModel",
            "_view_count": null,
            "_view_module": "@jupyter-widgets/controls",
            "_view_module_version": "1.5.0",
            "_view_name": "HBoxView",
            "box_style": "",
            "children": [
              "IPY_MODEL_17f3aefa41ba4955badcc9e0c4bdb1c1",
              "IPY_MODEL_9e7ba14871ba404089faeaae3b9c2ba2",
              "IPY_MODEL_c8f57c5f943c48deb89a04b0a2ef500d"
            ],
            "layout": "IPY_MODEL_ba59e46a52284d599bf0971dd4e90d18"
          }
        },
        "17f3aefa41ba4955badcc9e0c4bdb1c1": {
          "model_module": "@jupyter-widgets/controls",
          "model_name": "HTMLModel",
          "model_module_version": "1.5.0",
          "state": {
            "_dom_classes": [],
            "_model_module": "@jupyter-widgets/controls",
            "_model_module_version": "1.5.0",
            "_model_name": "HTMLModel",
            "_view_count": null,
            "_view_module": "@jupyter-widgets/controls",
            "_view_module_version": "1.5.0",
            "_view_name": "HTMLView",
            "description": "",
            "description_tooltip": null,
            "layout": "IPY_MODEL_b248525e193a43c5b669693f3453a822",
            "placeholder": "​",
            "style": "IPY_MODEL_d96a8d8620e7408f80daad509a5ccdd0",
            "value": "Downloading (…)lve/main/config.json: 100%"
          }
        },
        "9e7ba14871ba404089faeaae3b9c2ba2": {
          "model_module": "@jupyter-widgets/controls",
          "model_name": "FloatProgressModel",
          "model_module_version": "1.5.0",
          "state": {
            "_dom_classes": [],
            "_model_module": "@jupyter-widgets/controls",
            "_model_module_version": "1.5.0",
            "_model_name": "FloatProgressModel",
            "_view_count": null,
            "_view_module": "@jupyter-widgets/controls",
            "_view_module_version": "1.5.0",
            "_view_name": "ProgressView",
            "bar_style": "success",
            "description": "",
            "description_tooltip": null,
            "layout": "IPY_MODEL_dddb91dc1980441cb792a12d5cc3fde3",
            "max": 710,
            "min": 0,
            "orientation": "horizontal",
            "style": "IPY_MODEL_4473596826ba48a39b1e8a037262dff3",
            "value": 710
          }
        },
        "c8f57c5f943c48deb89a04b0a2ef500d": {
          "model_module": "@jupyter-widgets/controls",
          "model_name": "HTMLModel",
          "model_module_version": "1.5.0",
          "state": {
            "_dom_classes": [],
            "_model_module": "@jupyter-widgets/controls",
            "_model_module_version": "1.5.0",
            "_model_name": "HTMLModel",
            "_view_count": null,
            "_view_module": "@jupyter-widgets/controls",
            "_view_module_version": "1.5.0",
            "_view_name": "HTMLView",
            "description": "",
            "description_tooltip": null,
            "layout": "IPY_MODEL_6860bd9292d545098a31b8a76e61325c",
            "placeholder": "​",
            "style": "IPY_MODEL_d07f40fb48f348f086e96da4ab241d3c",
            "value": " 710/710 [00:00&lt;00:00, 32.7kB/s]"
          }
        },
        "ba59e46a52284d599bf0971dd4e90d18": {
          "model_module": "@jupyter-widgets/base",
          "model_name": "LayoutModel",
          "model_module_version": "1.2.0",
          "state": {
            "_model_module": "@jupyter-widgets/base",
            "_model_module_version": "1.2.0",
            "_model_name": "LayoutModel",
            "_view_count": null,
            "_view_module": "@jupyter-widgets/base",
            "_view_module_version": "1.2.0",
            "_view_name": "LayoutView",
            "align_content": null,
            "align_items": null,
            "align_self": null,
            "border": null,
            "bottom": null,
            "display": null,
            "flex": null,
            "flex_flow": null,
            "grid_area": null,
            "grid_auto_columns": null,
            "grid_auto_flow": null,
            "grid_auto_rows": null,
            "grid_column": null,
            "grid_gap": null,
            "grid_row": null,
            "grid_template_areas": null,
            "grid_template_columns": null,
            "grid_template_rows": null,
            "height": null,
            "justify_content": null,
            "justify_items": null,
            "left": null,
            "margin": null,
            "max_height": null,
            "max_width": null,
            "min_height": null,
            "min_width": null,
            "object_fit": null,
            "object_position": null,
            "order": null,
            "overflow": null,
            "overflow_x": null,
            "overflow_y": null,
            "padding": null,
            "right": null,
            "top": null,
            "visibility": null,
            "width": null
          }
        },
        "b248525e193a43c5b669693f3453a822": {
          "model_module": "@jupyter-widgets/base",
          "model_name": "LayoutModel",
          "model_module_version": "1.2.0",
          "state": {
            "_model_module": "@jupyter-widgets/base",
            "_model_module_version": "1.2.0",
            "_model_name": "LayoutModel",
            "_view_count": null,
            "_view_module": "@jupyter-widgets/base",
            "_view_module_version": "1.2.0",
            "_view_name": "LayoutView",
            "align_content": null,
            "align_items": null,
            "align_self": null,
            "border": null,
            "bottom": null,
            "display": null,
            "flex": null,
            "flex_flow": null,
            "grid_area": null,
            "grid_auto_columns": null,
            "grid_auto_flow": null,
            "grid_auto_rows": null,
            "grid_column": null,
            "grid_gap": null,
            "grid_row": null,
            "grid_template_areas": null,
            "grid_template_columns": null,
            "grid_template_rows": null,
            "height": null,
            "justify_content": null,
            "justify_items": null,
            "left": null,
            "margin": null,
            "max_height": null,
            "max_width": null,
            "min_height": null,
            "min_width": null,
            "object_fit": null,
            "object_position": null,
            "order": null,
            "overflow": null,
            "overflow_x": null,
            "overflow_y": null,
            "padding": null,
            "right": null,
            "top": null,
            "visibility": null,
            "width": null
          }
        },
        "d96a8d8620e7408f80daad509a5ccdd0": {
          "model_module": "@jupyter-widgets/controls",
          "model_name": "DescriptionStyleModel",
          "model_module_version": "1.5.0",
          "state": {
            "_model_module": "@jupyter-widgets/controls",
            "_model_module_version": "1.5.0",
            "_model_name": "DescriptionStyleModel",
            "_view_count": null,
            "_view_module": "@jupyter-widgets/base",
            "_view_module_version": "1.2.0",
            "_view_name": "StyleView",
            "description_width": ""
          }
        },
        "dddb91dc1980441cb792a12d5cc3fde3": {
          "model_module": "@jupyter-widgets/base",
          "model_name": "LayoutModel",
          "model_module_version": "1.2.0",
          "state": {
            "_model_module": "@jupyter-widgets/base",
            "_model_module_version": "1.2.0",
            "_model_name": "LayoutModel",
            "_view_count": null,
            "_view_module": "@jupyter-widgets/base",
            "_view_module_version": "1.2.0",
            "_view_name": "LayoutView",
            "align_content": null,
            "align_items": null,
            "align_self": null,
            "border": null,
            "bottom": null,
            "display": null,
            "flex": null,
            "flex_flow": null,
            "grid_area": null,
            "grid_auto_columns": null,
            "grid_auto_flow": null,
            "grid_auto_rows": null,
            "grid_column": null,
            "grid_gap": null,
            "grid_row": null,
            "grid_template_areas": null,
            "grid_template_columns": null,
            "grid_template_rows": null,
            "height": null,
            "justify_content": null,
            "justify_items": null,
            "left": null,
            "margin": null,
            "max_height": null,
            "max_width": null,
            "min_height": null,
            "min_width": null,
            "object_fit": null,
            "object_position": null,
            "order": null,
            "overflow": null,
            "overflow_x": null,
            "overflow_y": null,
            "padding": null,
            "right": null,
            "top": null,
            "visibility": null,
            "width": null
          }
        },
        "4473596826ba48a39b1e8a037262dff3": {
          "model_module": "@jupyter-widgets/controls",
          "model_name": "ProgressStyleModel",
          "model_module_version": "1.5.0",
          "state": {
            "_model_module": "@jupyter-widgets/controls",
            "_model_module_version": "1.5.0",
            "_model_name": "ProgressStyleModel",
            "_view_count": null,
            "_view_module": "@jupyter-widgets/base",
            "_view_module_version": "1.2.0",
            "_view_name": "StyleView",
            "bar_color": null,
            "description_width": ""
          }
        },
        "6860bd9292d545098a31b8a76e61325c": {
          "model_module": "@jupyter-widgets/base",
          "model_name": "LayoutModel",
          "model_module_version": "1.2.0",
          "state": {
            "_model_module": "@jupyter-widgets/base",
            "_model_module_version": "1.2.0",
            "_model_name": "LayoutModel",
            "_view_count": null,
            "_view_module": "@jupyter-widgets/base",
            "_view_module_version": "1.2.0",
            "_view_name": "LayoutView",
            "align_content": null,
            "align_items": null,
            "align_self": null,
            "border": null,
            "bottom": null,
            "display": null,
            "flex": null,
            "flex_flow": null,
            "grid_area": null,
            "grid_auto_columns": null,
            "grid_auto_flow": null,
            "grid_auto_rows": null,
            "grid_column": null,
            "grid_gap": null,
            "grid_row": null,
            "grid_template_areas": null,
            "grid_template_columns": null,
            "grid_template_rows": null,
            "height": null,
            "justify_content": null,
            "justify_items": null,
            "left": null,
            "margin": null,
            "max_height": null,
            "max_width": null,
            "min_height": null,
            "min_width": null,
            "object_fit": null,
            "object_position": null,
            "order": null,
            "overflow": null,
            "overflow_x": null,
            "overflow_y": null,
            "padding": null,
            "right": null,
            "top": null,
            "visibility": null,
            "width": null
          }
        },
        "d07f40fb48f348f086e96da4ab241d3c": {
          "model_module": "@jupyter-widgets/controls",
          "model_name": "DescriptionStyleModel",
          "model_module_version": "1.5.0",
          "state": {
            "_model_module": "@jupyter-widgets/controls",
            "_model_module_version": "1.5.0",
            "_model_name": "DescriptionStyleModel",
            "_view_count": null,
            "_view_module": "@jupyter-widgets/base",
            "_view_module_version": "1.2.0",
            "_view_name": "StyleView",
            "description_width": ""
          }
        },
        "55f70f8481ce409188cd8727d70d7700": {
          "model_module": "@jupyter-widgets/controls",
          "model_name": "HBoxModel",
          "model_module_version": "1.5.0",
          "state": {
            "_dom_classes": [],
            "_model_module": "@jupyter-widgets/controls",
            "_model_module_version": "1.5.0",
            "_model_name": "HBoxModel",
            "_view_count": null,
            "_view_module": "@jupyter-widgets/controls",
            "_view_module_version": "1.5.0",
            "_view_name": "HBoxView",
            "box_style": "",
            "children": [
              "IPY_MODEL_4be773470d2f4f32961173e7ca820065",
              "IPY_MODEL_00a30968bdfa4896bf80801fea7957cb",
              "IPY_MODEL_aacd4743574f476ab4a6c4bbce7ba2e7"
            ],
            "layout": "IPY_MODEL_588605c2dbe54b0daf8a42cf34088d0c"
          }
        },
        "4be773470d2f4f32961173e7ca820065": {
          "model_module": "@jupyter-widgets/controls",
          "model_name": "HTMLModel",
          "model_module_version": "1.5.0",
          "state": {
            "_dom_classes": [],
            "_model_module": "@jupyter-widgets/controls",
            "_model_module_version": "1.5.0",
            "_model_name": "HTMLModel",
            "_view_count": null,
            "_view_module": "@jupyter-widgets/controls",
            "_view_module_version": "1.5.0",
            "_view_name": "HTMLView",
            "description": "",
            "description_tooltip": null,
            "layout": "IPY_MODEL_3abfbf80834b4f5095675a54a1c6c2b2",
            "placeholder": "​",
            "style": "IPY_MODEL_a1feacda23394a98bb7a8e8e198792e0",
            "value": "Downloading pytorch_model.bin: 100%"
          }
        },
        "00a30968bdfa4896bf80801fea7957cb": {
          "model_module": "@jupyter-widgets/controls",
          "model_name": "FloatProgressModel",
          "model_module_version": "1.5.0",
          "state": {
            "_dom_classes": [],
            "_model_module": "@jupyter-widgets/controls",
            "_model_module_version": "1.5.0",
            "_model_name": "FloatProgressModel",
            "_view_count": null,
            "_view_module": "@jupyter-widgets/controls",
            "_view_module_version": "1.5.0",
            "_view_name": "ProgressView",
            "bar_style": "success",
            "description": "",
            "description_tooltip": null,
            "layout": "IPY_MODEL_07781b1e7c2140ca9f6bdfeb0d1404db",
            "max": 892728632,
            "min": 0,
            "orientation": "horizontal",
            "style": "IPY_MODEL_2ce0ab5be2a44febb4df6bbba1197ac9",
            "value": 892728632
          }
        },
        "aacd4743574f476ab4a6c4bbce7ba2e7": {
          "model_module": "@jupyter-widgets/controls",
          "model_name": "HTMLModel",
          "model_module_version": "1.5.0",
          "state": {
            "_dom_classes": [],
            "_model_module": "@jupyter-widgets/controls",
            "_model_module_version": "1.5.0",
            "_model_name": "HTMLModel",
            "_view_count": null,
            "_view_module": "@jupyter-widgets/controls",
            "_view_module_version": "1.5.0",
            "_view_name": "HTMLView",
            "description": "",
            "description_tooltip": null,
            "layout": "IPY_MODEL_f341ac9e92dd411d89505ca6131be72f",
            "placeholder": "​",
            "style": "IPY_MODEL_fc61f89d787f4a93a86b0898e9919af9",
            "value": " 893M/893M [00:40&lt;00:00, 23.3MB/s]"
          }
        },
        "588605c2dbe54b0daf8a42cf34088d0c": {
          "model_module": "@jupyter-widgets/base",
          "model_name": "LayoutModel",
          "model_module_version": "1.2.0",
          "state": {
            "_model_module": "@jupyter-widgets/base",
            "_model_module_version": "1.2.0",
            "_model_name": "LayoutModel",
            "_view_count": null,
            "_view_module": "@jupyter-widgets/base",
            "_view_module_version": "1.2.0",
            "_view_name": "LayoutView",
            "align_content": null,
            "align_items": null,
            "align_self": null,
            "border": null,
            "bottom": null,
            "display": null,
            "flex": null,
            "flex_flow": null,
            "grid_area": null,
            "grid_auto_columns": null,
            "grid_auto_flow": null,
            "grid_auto_rows": null,
            "grid_column": null,
            "grid_gap": null,
            "grid_row": null,
            "grid_template_areas": null,
            "grid_template_columns": null,
            "grid_template_rows": null,
            "height": null,
            "justify_content": null,
            "justify_items": null,
            "left": null,
            "margin": null,
            "max_height": null,
            "max_width": null,
            "min_height": null,
            "min_width": null,
            "object_fit": null,
            "object_position": null,
            "order": null,
            "overflow": null,
            "overflow_x": null,
            "overflow_y": null,
            "padding": null,
            "right": null,
            "top": null,
            "visibility": null,
            "width": null
          }
        },
        "3abfbf80834b4f5095675a54a1c6c2b2": {
          "model_module": "@jupyter-widgets/base",
          "model_name": "LayoutModel",
          "model_module_version": "1.2.0",
          "state": {
            "_model_module": "@jupyter-widgets/base",
            "_model_module_version": "1.2.0",
            "_model_name": "LayoutModel",
            "_view_count": null,
            "_view_module": "@jupyter-widgets/base",
            "_view_module_version": "1.2.0",
            "_view_name": "LayoutView",
            "align_content": null,
            "align_items": null,
            "align_self": null,
            "border": null,
            "bottom": null,
            "display": null,
            "flex": null,
            "flex_flow": null,
            "grid_area": null,
            "grid_auto_columns": null,
            "grid_auto_flow": null,
            "grid_auto_rows": null,
            "grid_column": null,
            "grid_gap": null,
            "grid_row": null,
            "grid_template_areas": null,
            "grid_template_columns": null,
            "grid_template_rows": null,
            "height": null,
            "justify_content": null,
            "justify_items": null,
            "left": null,
            "margin": null,
            "max_height": null,
            "max_width": null,
            "min_height": null,
            "min_width": null,
            "object_fit": null,
            "object_position": null,
            "order": null,
            "overflow": null,
            "overflow_x": null,
            "overflow_y": null,
            "padding": null,
            "right": null,
            "top": null,
            "visibility": null,
            "width": null
          }
        },
        "a1feacda23394a98bb7a8e8e198792e0": {
          "model_module": "@jupyter-widgets/controls",
          "model_name": "DescriptionStyleModel",
          "model_module_version": "1.5.0",
          "state": {
            "_model_module": "@jupyter-widgets/controls",
            "_model_module_version": "1.5.0",
            "_model_name": "DescriptionStyleModel",
            "_view_count": null,
            "_view_module": "@jupyter-widgets/base",
            "_view_module_version": "1.2.0",
            "_view_name": "StyleView",
            "description_width": ""
          }
        },
        "07781b1e7c2140ca9f6bdfeb0d1404db": {
          "model_module": "@jupyter-widgets/base",
          "model_name": "LayoutModel",
          "model_module_version": "1.2.0",
          "state": {
            "_model_module": "@jupyter-widgets/base",
            "_model_module_version": "1.2.0",
            "_model_name": "LayoutModel",
            "_view_count": null,
            "_view_module": "@jupyter-widgets/base",
            "_view_module_version": "1.2.0",
            "_view_name": "LayoutView",
            "align_content": null,
            "align_items": null,
            "align_self": null,
            "border": null,
            "bottom": null,
            "display": null,
            "flex": null,
            "flex_flow": null,
            "grid_area": null,
            "grid_auto_columns": null,
            "grid_auto_flow": null,
            "grid_auto_rows": null,
            "grid_column": null,
            "grid_gap": null,
            "grid_row": null,
            "grid_template_areas": null,
            "grid_template_columns": null,
            "grid_template_rows": null,
            "height": null,
            "justify_content": null,
            "justify_items": null,
            "left": null,
            "margin": null,
            "max_height": null,
            "max_width": null,
            "min_height": null,
            "min_width": null,
            "object_fit": null,
            "object_position": null,
            "order": null,
            "overflow": null,
            "overflow_x": null,
            "overflow_y": null,
            "padding": null,
            "right": null,
            "top": null,
            "visibility": null,
            "width": null
          }
        },
        "2ce0ab5be2a44febb4df6bbba1197ac9": {
          "model_module": "@jupyter-widgets/controls",
          "model_name": "ProgressStyleModel",
          "model_module_version": "1.5.0",
          "state": {
            "_model_module": "@jupyter-widgets/controls",
            "_model_module_version": "1.5.0",
            "_model_name": "ProgressStyleModel",
            "_view_count": null,
            "_view_module": "@jupyter-widgets/base",
            "_view_module_version": "1.2.0",
            "_view_name": "StyleView",
            "bar_color": null,
            "description_width": ""
          }
        },
        "f341ac9e92dd411d89505ca6131be72f": {
          "model_module": "@jupyter-widgets/base",
          "model_name": "LayoutModel",
          "model_module_version": "1.2.0",
          "state": {
            "_model_module": "@jupyter-widgets/base",
            "_model_module_version": "1.2.0",
            "_model_name": "LayoutModel",
            "_view_count": null,
            "_view_module": "@jupyter-widgets/base",
            "_view_module_version": "1.2.0",
            "_view_name": "LayoutView",
            "align_content": null,
            "align_items": null,
            "align_self": null,
            "border": null,
            "bottom": null,
            "display": null,
            "flex": null,
            "flex_flow": null,
            "grid_area": null,
            "grid_auto_columns": null,
            "grid_auto_flow": null,
            "grid_auto_rows": null,
            "grid_column": null,
            "grid_gap": null,
            "grid_row": null,
            "grid_template_areas": null,
            "grid_template_columns": null,
            "grid_template_rows": null,
            "height": null,
            "justify_content": null,
            "justify_items": null,
            "left": null,
            "margin": null,
            "max_height": null,
            "max_width": null,
            "min_height": null,
            "min_width": null,
            "object_fit": null,
            "object_position": null,
            "order": null,
            "overflow": null,
            "overflow_x": null,
            "overflow_y": null,
            "padding": null,
            "right": null,
            "top": null,
            "visibility": null,
            "width": null
          }
        },
        "fc61f89d787f4a93a86b0898e9919af9": {
          "model_module": "@jupyter-widgets/controls",
          "model_name": "DescriptionStyleModel",
          "model_module_version": "1.5.0",
          "state": {
            "_model_module": "@jupyter-widgets/controls",
            "_model_module_version": "1.5.0",
            "_model_name": "DescriptionStyleModel",
            "_view_count": null,
            "_view_module": "@jupyter-widgets/base",
            "_view_module_version": "1.2.0",
            "_view_name": "StyleView",
            "description_width": ""
          }
        },
        "762ec0c2642b4fd5ac5c03196ac2f00f": {
          "model_module": "@jupyter-widgets/controls",
          "model_name": "HBoxModel",
          "model_module_version": "1.5.0",
          "state": {
            "_dom_classes": [],
            "_model_module": "@jupyter-widgets/controls",
            "_model_module_version": "1.5.0",
            "_model_name": "HBoxModel",
            "_view_count": null,
            "_view_module": "@jupyter-widgets/controls",
            "_view_module_version": "1.5.0",
            "_view_name": "HBoxView",
            "box_style": "",
            "children": [
              "IPY_MODEL_9ac50aee49e34d6bab2c8542785ff9db",
              "IPY_MODEL_b927fd1479e748beaff1015257f5ad03",
              "IPY_MODEL_cacac32b6c8b485c8f61bd1df9298011"
            ],
            "layout": "IPY_MODEL_dab785528e0a42d98a1b3b79d56d90d8"
          }
        },
        "9ac50aee49e34d6bab2c8542785ff9db": {
          "model_module": "@jupyter-widgets/controls",
          "model_name": "HTMLModel",
          "model_module_version": "1.5.0",
          "state": {
            "_dom_classes": [],
            "_model_module": "@jupyter-widgets/controls",
            "_model_module_version": "1.5.0",
            "_model_name": "HTMLModel",
            "_view_count": null,
            "_view_module": "@jupyter-widgets/controls",
            "_view_module_version": "1.5.0",
            "_view_name": "HTMLView",
            "description": "",
            "description_tooltip": null,
            "layout": "IPY_MODEL_3e75f70438ea430abd1ab2bea897cf9e",
            "placeholder": "​",
            "style": "IPY_MODEL_c6e5e536108f4b7da37ac19fdd3b2257",
            "value": "Downloading (…)ve/main/spiece.model: 100%"
          }
        },
        "b927fd1479e748beaff1015257f5ad03": {
          "model_module": "@jupyter-widgets/controls",
          "model_name": "FloatProgressModel",
          "model_module_version": "1.5.0",
          "state": {
            "_dom_classes": [],
            "_model_module": "@jupyter-widgets/controls",
            "_model_module_version": "1.5.0",
            "_model_name": "FloatProgressModel",
            "_view_count": null,
            "_view_module": "@jupyter-widgets/controls",
            "_view_module_version": "1.5.0",
            "_view_name": "ProgressView",
            "bar_style": "success",
            "description": "",
            "description_tooltip": null,
            "layout": "IPY_MODEL_f83161547a79492b83054d1d629f605c",
            "max": 760289,
            "min": 0,
            "orientation": "horizontal",
            "style": "IPY_MODEL_7b41ae4888524095896146c7319edd05",
            "value": 760289
          }
        },
        "cacac32b6c8b485c8f61bd1df9298011": {
          "model_module": "@jupyter-widgets/controls",
          "model_name": "HTMLModel",
          "model_module_version": "1.5.0",
          "state": {
            "_dom_classes": [],
            "_model_module": "@jupyter-widgets/controls",
            "_model_module_version": "1.5.0",
            "_model_name": "HTMLModel",
            "_view_count": null,
            "_view_module": "@jupyter-widgets/controls",
            "_view_module_version": "1.5.0",
            "_view_name": "HTMLView",
            "description": "",
            "description_tooltip": null,
            "layout": "IPY_MODEL_e445559064df4db1aaac908dbafc0ab3",
            "placeholder": "​",
            "style": "IPY_MODEL_96d84b1fda804ae7969f35653daa7ceb",
            "value": " 760k/760k [00:00&lt;00:00, 831kB/s]"
          }
        },
        "dab785528e0a42d98a1b3b79d56d90d8": {
          "model_module": "@jupyter-widgets/base",
          "model_name": "LayoutModel",
          "model_module_version": "1.2.0",
          "state": {
            "_model_module": "@jupyter-widgets/base",
            "_model_module_version": "1.2.0",
            "_model_name": "LayoutModel",
            "_view_count": null,
            "_view_module": "@jupyter-widgets/base",
            "_view_module_version": "1.2.0",
            "_view_name": "LayoutView",
            "align_content": null,
            "align_items": null,
            "align_self": null,
            "border": null,
            "bottom": null,
            "display": null,
            "flex": null,
            "flex_flow": null,
            "grid_area": null,
            "grid_auto_columns": null,
            "grid_auto_flow": null,
            "grid_auto_rows": null,
            "grid_column": null,
            "grid_gap": null,
            "grid_row": null,
            "grid_template_areas": null,
            "grid_template_columns": null,
            "grid_template_rows": null,
            "height": null,
            "justify_content": null,
            "justify_items": null,
            "left": null,
            "margin": null,
            "max_height": null,
            "max_width": null,
            "min_height": null,
            "min_width": null,
            "object_fit": null,
            "object_position": null,
            "order": null,
            "overflow": null,
            "overflow_x": null,
            "overflow_y": null,
            "padding": null,
            "right": null,
            "top": null,
            "visibility": null,
            "width": null
          }
        },
        "3e75f70438ea430abd1ab2bea897cf9e": {
          "model_module": "@jupyter-widgets/base",
          "model_name": "LayoutModel",
          "model_module_version": "1.2.0",
          "state": {
            "_model_module": "@jupyter-widgets/base",
            "_model_module_version": "1.2.0",
            "_model_name": "LayoutModel",
            "_view_count": null,
            "_view_module": "@jupyter-widgets/base",
            "_view_module_version": "1.2.0",
            "_view_name": "LayoutView",
            "align_content": null,
            "align_items": null,
            "align_self": null,
            "border": null,
            "bottom": null,
            "display": null,
            "flex": null,
            "flex_flow": null,
            "grid_area": null,
            "grid_auto_columns": null,
            "grid_auto_flow": null,
            "grid_auto_rows": null,
            "grid_column": null,
            "grid_gap": null,
            "grid_row": null,
            "grid_template_areas": null,
            "grid_template_columns": null,
            "grid_template_rows": null,
            "height": null,
            "justify_content": null,
            "justify_items": null,
            "left": null,
            "margin": null,
            "max_height": null,
            "max_width": null,
            "min_height": null,
            "min_width": null,
            "object_fit": null,
            "object_position": null,
            "order": null,
            "overflow": null,
            "overflow_x": null,
            "overflow_y": null,
            "padding": null,
            "right": null,
            "top": null,
            "visibility": null,
            "width": null
          }
        },
        "c6e5e536108f4b7da37ac19fdd3b2257": {
          "model_module": "@jupyter-widgets/controls",
          "model_name": "DescriptionStyleModel",
          "model_module_version": "1.5.0",
          "state": {
            "_model_module": "@jupyter-widgets/controls",
            "_model_module_version": "1.5.0",
            "_model_name": "DescriptionStyleModel",
            "_view_count": null,
            "_view_module": "@jupyter-widgets/base",
            "_view_module_version": "1.2.0",
            "_view_name": "StyleView",
            "description_width": ""
          }
        },
        "f83161547a79492b83054d1d629f605c": {
          "model_module": "@jupyter-widgets/base",
          "model_name": "LayoutModel",
          "model_module_version": "1.2.0",
          "state": {
            "_model_module": "@jupyter-widgets/base",
            "_model_module_version": "1.2.0",
            "_model_name": "LayoutModel",
            "_view_count": null,
            "_view_module": "@jupyter-widgets/base",
            "_view_module_version": "1.2.0",
            "_view_name": "LayoutView",
            "align_content": null,
            "align_items": null,
            "align_self": null,
            "border": null,
            "bottom": null,
            "display": null,
            "flex": null,
            "flex_flow": null,
            "grid_area": null,
            "grid_auto_columns": null,
            "grid_auto_flow": null,
            "grid_auto_rows": null,
            "grid_column": null,
            "grid_gap": null,
            "grid_row": null,
            "grid_template_areas": null,
            "grid_template_columns": null,
            "grid_template_rows": null,
            "height": null,
            "justify_content": null,
            "justify_items": null,
            "left": null,
            "margin": null,
            "max_height": null,
            "max_width": null,
            "min_height": null,
            "min_width": null,
            "object_fit": null,
            "object_position": null,
            "order": null,
            "overflow": null,
            "overflow_x": null,
            "overflow_y": null,
            "padding": null,
            "right": null,
            "top": null,
            "visibility": null,
            "width": null
          }
        },
        "7b41ae4888524095896146c7319edd05": {
          "model_module": "@jupyter-widgets/controls",
          "model_name": "ProgressStyleModel",
          "model_module_version": "1.5.0",
          "state": {
            "_model_module": "@jupyter-widgets/controls",
            "_model_module_version": "1.5.0",
            "_model_name": "ProgressStyleModel",
            "_view_count": null,
            "_view_module": "@jupyter-widgets/base",
            "_view_module_version": "1.2.0",
            "_view_name": "StyleView",
            "bar_color": null,
            "description_width": ""
          }
        },
        "e445559064df4db1aaac908dbafc0ab3": {
          "model_module": "@jupyter-widgets/base",
          "model_name": "LayoutModel",
          "model_module_version": "1.2.0",
          "state": {
            "_model_module": "@jupyter-widgets/base",
            "_model_module_version": "1.2.0",
            "_model_name": "LayoutModel",
            "_view_count": null,
            "_view_module": "@jupyter-widgets/base",
            "_view_module_version": "1.2.0",
            "_view_name": "LayoutView",
            "align_content": null,
            "align_items": null,
            "align_self": null,
            "border": null,
            "bottom": null,
            "display": null,
            "flex": null,
            "flex_flow": null,
            "grid_area": null,
            "grid_auto_columns": null,
            "grid_auto_flow": null,
            "grid_auto_rows": null,
            "grid_column": null,
            "grid_gap": null,
            "grid_row": null,
            "grid_template_areas": null,
            "grid_template_columns": null,
            "grid_template_rows": null,
            "height": null,
            "justify_content": null,
            "justify_items": null,
            "left": null,
            "margin": null,
            "max_height": null,
            "max_width": null,
            "min_height": null,
            "min_width": null,
            "object_fit": null,
            "object_position": null,
            "order": null,
            "overflow": null,
            "overflow_x": null,
            "overflow_y": null,
            "padding": null,
            "right": null,
            "top": null,
            "visibility": null,
            "width": null
          }
        },
        "96d84b1fda804ae7969f35653daa7ceb": {
          "model_module": "@jupyter-widgets/controls",
          "model_name": "DescriptionStyleModel",
          "model_module_version": "1.5.0",
          "state": {
            "_model_module": "@jupyter-widgets/controls",
            "_model_module_version": "1.5.0",
            "_model_name": "DescriptionStyleModel",
            "_view_count": null,
            "_view_module": "@jupyter-widgets/base",
            "_view_module_version": "1.2.0",
            "_view_name": "StyleView",
            "description_width": ""
          }
        },
        "58333356c0a84fa0a88de81d6b58f922": {
          "model_module": "@jupyter-widgets/controls",
          "model_name": "HBoxModel",
          "model_module_version": "1.5.0",
          "state": {
            "_dom_classes": [],
            "_model_module": "@jupyter-widgets/controls",
            "_model_module_version": "1.5.0",
            "_model_name": "HBoxModel",
            "_view_count": null,
            "_view_module": "@jupyter-widgets/controls",
            "_view_module_version": "1.5.0",
            "_view_name": "HBoxView",
            "box_style": "",
            "children": [
              "IPY_MODEL_6e41fea416cf459c9a3bc0b4e32092b7",
              "IPY_MODEL_caae0f248a9a44bc9bf3b8c0bff4b85b",
              "IPY_MODEL_b6fd4aac089c4998975e31322e10886d"
            ],
            "layout": "IPY_MODEL_53d2f0d5e72042939882d0646aece0de"
          }
        },
        "6e41fea416cf459c9a3bc0b4e32092b7": {
          "model_module": "@jupyter-widgets/controls",
          "model_name": "HTMLModel",
          "model_module_version": "1.5.0",
          "state": {
            "_dom_classes": [],
            "_model_module": "@jupyter-widgets/controls",
            "_model_module_version": "1.5.0",
            "_model_name": "HTMLModel",
            "_view_count": null,
            "_view_module": "@jupyter-widgets/controls",
            "_view_module_version": "1.5.0",
            "_view_name": "HTMLView",
            "description": "",
            "description_tooltip": null,
            "layout": "IPY_MODEL_e6a0687a98954f51ad66b7ec27de239c",
            "placeholder": "​",
            "style": "IPY_MODEL_2fd72798420249d4afa139720f4d07d0",
            "value": "Downloading (…)/main/tokenizer.json: 100%"
          }
        },
        "caae0f248a9a44bc9bf3b8c0bff4b85b": {
          "model_module": "@jupyter-widgets/controls",
          "model_name": "FloatProgressModel",
          "model_module_version": "1.5.0",
          "state": {
            "_dom_classes": [],
            "_model_module": "@jupyter-widgets/controls",
            "_model_module_version": "1.5.0",
            "_model_name": "FloatProgressModel",
            "_view_count": null,
            "_view_module": "@jupyter-widgets/controls",
            "_view_module_version": "1.5.0",
            "_view_name": "ProgressView",
            "bar_style": "success",
            "description": "",
            "description_tooltip": null,
            "layout": "IPY_MODEL_1df6cc3309fd4f369bdf2ca77aa9870a",
            "max": 1312669,
            "min": 0,
            "orientation": "horizontal",
            "style": "IPY_MODEL_680b4517bbe64f29ba47693fc592315b",
            "value": 1312669
          }
        },
        "b6fd4aac089c4998975e31322e10886d": {
          "model_module": "@jupyter-widgets/controls",
          "model_name": "HTMLModel",
          "model_module_version": "1.5.0",
          "state": {
            "_dom_classes": [],
            "_model_module": "@jupyter-widgets/controls",
            "_model_module_version": "1.5.0",
            "_model_name": "HTMLModel",
            "_view_count": null,
            "_view_module": "@jupyter-widgets/controls",
            "_view_module_version": "1.5.0",
            "_view_name": "HTMLView",
            "description": "",
            "description_tooltip": null,
            "layout": "IPY_MODEL_600f4d3ee3834bc8800ff8f4da7faea5",
            "placeholder": "​",
            "style": "IPY_MODEL_de02128d0d2a467eaec7aa791e4fb7b8",
            "value": " 1.31M/1.31M [00:00&lt;00:00, 1.41MB/s]"
          }
        },
        "53d2f0d5e72042939882d0646aece0de": {
          "model_module": "@jupyter-widgets/base",
          "model_name": "LayoutModel",
          "model_module_version": "1.2.0",
          "state": {
            "_model_module": "@jupyter-widgets/base",
            "_model_module_version": "1.2.0",
            "_model_name": "LayoutModel",
            "_view_count": null,
            "_view_module": "@jupyter-widgets/base",
            "_view_module_version": "1.2.0",
            "_view_name": "LayoutView",
            "align_content": null,
            "align_items": null,
            "align_self": null,
            "border": null,
            "bottom": null,
            "display": null,
            "flex": null,
            "flex_flow": null,
            "grid_area": null,
            "grid_auto_columns": null,
            "grid_auto_flow": null,
            "grid_auto_rows": null,
            "grid_column": null,
            "grid_gap": null,
            "grid_row": null,
            "grid_template_areas": null,
            "grid_template_columns": null,
            "grid_template_rows": null,
            "height": null,
            "justify_content": null,
            "justify_items": null,
            "left": null,
            "margin": null,
            "max_height": null,
            "max_width": null,
            "min_height": null,
            "min_width": null,
            "object_fit": null,
            "object_position": null,
            "order": null,
            "overflow": null,
            "overflow_x": null,
            "overflow_y": null,
            "padding": null,
            "right": null,
            "top": null,
            "visibility": null,
            "width": null
          }
        },
        "e6a0687a98954f51ad66b7ec27de239c": {
          "model_module": "@jupyter-widgets/base",
          "model_name": "LayoutModel",
          "model_module_version": "1.2.0",
          "state": {
            "_model_module": "@jupyter-widgets/base",
            "_model_module_version": "1.2.0",
            "_model_name": "LayoutModel",
            "_view_count": null,
            "_view_module": "@jupyter-widgets/base",
            "_view_module_version": "1.2.0",
            "_view_name": "LayoutView",
            "align_content": null,
            "align_items": null,
            "align_self": null,
            "border": null,
            "bottom": null,
            "display": null,
            "flex": null,
            "flex_flow": null,
            "grid_area": null,
            "grid_auto_columns": null,
            "grid_auto_flow": null,
            "grid_auto_rows": null,
            "grid_column": null,
            "grid_gap": null,
            "grid_row": null,
            "grid_template_areas": null,
            "grid_template_columns": null,
            "grid_template_rows": null,
            "height": null,
            "justify_content": null,
            "justify_items": null,
            "left": null,
            "margin": null,
            "max_height": null,
            "max_width": null,
            "min_height": null,
            "min_width": null,
            "object_fit": null,
            "object_position": null,
            "order": null,
            "overflow": null,
            "overflow_x": null,
            "overflow_y": null,
            "padding": null,
            "right": null,
            "top": null,
            "visibility": null,
            "width": null
          }
        },
        "2fd72798420249d4afa139720f4d07d0": {
          "model_module": "@jupyter-widgets/controls",
          "model_name": "DescriptionStyleModel",
          "model_module_version": "1.5.0",
          "state": {
            "_model_module": "@jupyter-widgets/controls",
            "_model_module_version": "1.5.0",
            "_model_name": "DescriptionStyleModel",
            "_view_count": null,
            "_view_module": "@jupyter-widgets/base",
            "_view_module_version": "1.2.0",
            "_view_name": "StyleView",
            "description_width": ""
          }
        },
        "1df6cc3309fd4f369bdf2ca77aa9870a": {
          "model_module": "@jupyter-widgets/base",
          "model_name": "LayoutModel",
          "model_module_version": "1.2.0",
          "state": {
            "_model_module": "@jupyter-widgets/base",
            "_model_module_version": "1.2.0",
            "_model_name": "LayoutModel",
            "_view_count": null,
            "_view_module": "@jupyter-widgets/base",
            "_view_module_version": "1.2.0",
            "_view_name": "LayoutView",
            "align_content": null,
            "align_items": null,
            "align_self": null,
            "border": null,
            "bottom": null,
            "display": null,
            "flex": null,
            "flex_flow": null,
            "grid_area": null,
            "grid_auto_columns": null,
            "grid_auto_flow": null,
            "grid_auto_rows": null,
            "grid_column": null,
            "grid_gap": null,
            "grid_row": null,
            "grid_template_areas": null,
            "grid_template_columns": null,
            "grid_template_rows": null,
            "height": null,
            "justify_content": null,
            "justify_items": null,
            "left": null,
            "margin": null,
            "max_height": null,
            "max_width": null,
            "min_height": null,
            "min_width": null,
            "object_fit": null,
            "object_position": null,
            "order": null,
            "overflow": null,
            "overflow_x": null,
            "overflow_y": null,
            "padding": null,
            "right": null,
            "top": null,
            "visibility": null,
            "width": null
          }
        },
        "680b4517bbe64f29ba47693fc592315b": {
          "model_module": "@jupyter-widgets/controls",
          "model_name": "ProgressStyleModel",
          "model_module_version": "1.5.0",
          "state": {
            "_model_module": "@jupyter-widgets/controls",
            "_model_module_version": "1.5.0",
            "_model_name": "ProgressStyleModel",
            "_view_count": null,
            "_view_module": "@jupyter-widgets/base",
            "_view_module_version": "1.2.0",
            "_view_name": "StyleView",
            "bar_color": null,
            "description_width": ""
          }
        },
        "600f4d3ee3834bc8800ff8f4da7faea5": {
          "model_module": "@jupyter-widgets/base",
          "model_name": "LayoutModel",
          "model_module_version": "1.2.0",
          "state": {
            "_model_module": "@jupyter-widgets/base",
            "_model_module_version": "1.2.0",
            "_model_name": "LayoutModel",
            "_view_count": null,
            "_view_module": "@jupyter-widgets/base",
            "_view_module_version": "1.2.0",
            "_view_name": "LayoutView",
            "align_content": null,
            "align_items": null,
            "align_self": null,
            "border": null,
            "bottom": null,
            "display": null,
            "flex": null,
            "flex_flow": null,
            "grid_area": null,
            "grid_auto_columns": null,
            "grid_auto_flow": null,
            "grid_auto_rows": null,
            "grid_column": null,
            "grid_gap": null,
            "grid_row": null,
            "grid_template_areas": null,
            "grid_template_columns": null,
            "grid_template_rows": null,
            "height": null,
            "justify_content": null,
            "justify_items": null,
            "left": null,
            "margin": null,
            "max_height": null,
            "max_width": null,
            "min_height": null,
            "min_width": null,
            "object_fit": null,
            "object_position": null,
            "order": null,
            "overflow": null,
            "overflow_x": null,
            "overflow_y": null,
            "padding": null,
            "right": null,
            "top": null,
            "visibility": null,
            "width": null
          }
        },
        "de02128d0d2a467eaec7aa791e4fb7b8": {
          "model_module": "@jupyter-widgets/controls",
          "model_name": "DescriptionStyleModel",
          "model_module_version": "1.5.0",
          "state": {
            "_model_module": "@jupyter-widgets/controls",
            "_model_module_version": "1.5.0",
            "_model_name": "DescriptionStyleModel",
            "_view_count": null,
            "_view_module": "@jupyter-widgets/base",
            "_view_module_version": "1.2.0",
            "_view_name": "StyleView",
            "description_width": ""
          }
        },
        "fdf9419cd68d4c6680b6e9ddd483def3": {
          "model_module": "@jupyter-widgets/controls",
          "model_name": "HBoxModel",
          "model_module_version": "1.5.0",
          "state": {
            "_dom_classes": [],
            "_model_module": "@jupyter-widgets/controls",
            "_model_module_version": "1.5.0",
            "_model_name": "HBoxModel",
            "_view_count": null,
            "_view_module": "@jupyter-widgets/controls",
            "_view_module_version": "1.5.0",
            "_view_name": "HBoxView",
            "box_style": "",
            "children": [
              "IPY_MODEL_e75bdad12c2b4737b032bb1884970e56",
              "IPY_MODEL_6de0b1542389470a9c8d8617a1a84e21",
              "IPY_MODEL_0625c98b768f4906b0f42caaff79c633"
            ],
            "layout": "IPY_MODEL_ce65496cbdbc4cf7ba0348e294b007e4"
          }
        },
        "e75bdad12c2b4737b032bb1884970e56": {
          "model_module": "@jupyter-widgets/controls",
          "model_name": "HTMLModel",
          "model_module_version": "1.5.0",
          "state": {
            "_dom_classes": [],
            "_model_module": "@jupyter-widgets/controls",
            "_model_module_version": "1.5.0",
            "_model_name": "HTMLModel",
            "_view_count": null,
            "_view_module": "@jupyter-widgets/controls",
            "_view_module_version": "1.5.0",
            "_view_name": "HTMLView",
            "description": "",
            "description_tooltip": null,
            "layout": "IPY_MODEL_74f5135b92bb4e2fb8df712fe5306ebd",
            "placeholder": "​",
            "style": "IPY_MODEL_e1893498306c4f3197ce4fd03bec0491",
            "value": "Downloading (…)lve/main/config.json: 100%"
          }
        },
        "6de0b1542389470a9c8d8617a1a84e21": {
          "model_module": "@jupyter-widgets/controls",
          "model_name": "FloatProgressModel",
          "model_module_version": "1.5.0",
          "state": {
            "_dom_classes": [],
            "_model_module": "@jupyter-widgets/controls",
            "_model_module_version": "1.5.0",
            "_model_name": "FloatProgressModel",
            "_view_count": null,
            "_view_module": "@jupyter-widgets/controls",
            "_view_module_version": "1.5.0",
            "_view_name": "ProgressView",
            "bar_style": "success",
            "description": "",
            "description_tooltip": null,
            "layout": "IPY_MODEL_69c1bef781864c83bdbfc20621d1c9d7",
            "max": 710,
            "min": 0,
            "orientation": "horizontal",
            "style": "IPY_MODEL_a0e48d8d47594955beabd4944262b49d",
            "value": 710
          }
        },
        "0625c98b768f4906b0f42caaff79c633": {
          "model_module": "@jupyter-widgets/controls",
          "model_name": "HTMLModel",
          "model_module_version": "1.5.0",
          "state": {
            "_dom_classes": [],
            "_model_module": "@jupyter-widgets/controls",
            "_model_module_version": "1.5.0",
            "_model_name": "HTMLModel",
            "_view_count": null,
            "_view_module": "@jupyter-widgets/controls",
            "_view_module_version": "1.5.0",
            "_view_name": "HTMLView",
            "description": "",
            "description_tooltip": null,
            "layout": "IPY_MODEL_18a5c66ce5ee41e7a69c7780e8b14518",
            "placeholder": "​",
            "style": "IPY_MODEL_9474a6fea6aa4ad1b066a9f4741aedc9",
            "value": " 710/710 [00:00&lt;00:00, 34.0kB/s]"
          }
        },
        "ce65496cbdbc4cf7ba0348e294b007e4": {
          "model_module": "@jupyter-widgets/base",
          "model_name": "LayoutModel",
          "model_module_version": "1.2.0",
          "state": {
            "_model_module": "@jupyter-widgets/base",
            "_model_module_version": "1.2.0",
            "_model_name": "LayoutModel",
            "_view_count": null,
            "_view_module": "@jupyter-widgets/base",
            "_view_module_version": "1.2.0",
            "_view_name": "LayoutView",
            "align_content": null,
            "align_items": null,
            "align_self": null,
            "border": null,
            "bottom": null,
            "display": null,
            "flex": null,
            "flex_flow": null,
            "grid_area": null,
            "grid_auto_columns": null,
            "grid_auto_flow": null,
            "grid_auto_rows": null,
            "grid_column": null,
            "grid_gap": null,
            "grid_row": null,
            "grid_template_areas": null,
            "grid_template_columns": null,
            "grid_template_rows": null,
            "height": null,
            "justify_content": null,
            "justify_items": null,
            "left": null,
            "margin": null,
            "max_height": null,
            "max_width": null,
            "min_height": null,
            "min_width": null,
            "object_fit": null,
            "object_position": null,
            "order": null,
            "overflow": null,
            "overflow_x": null,
            "overflow_y": null,
            "padding": null,
            "right": null,
            "top": null,
            "visibility": null,
            "width": null
          }
        },
        "74f5135b92bb4e2fb8df712fe5306ebd": {
          "model_module": "@jupyter-widgets/base",
          "model_name": "LayoutModel",
          "model_module_version": "1.2.0",
          "state": {
            "_model_module": "@jupyter-widgets/base",
            "_model_module_version": "1.2.0",
            "_model_name": "LayoutModel",
            "_view_count": null,
            "_view_module": "@jupyter-widgets/base",
            "_view_module_version": "1.2.0",
            "_view_name": "LayoutView",
            "align_content": null,
            "align_items": null,
            "align_self": null,
            "border": null,
            "bottom": null,
            "display": null,
            "flex": null,
            "flex_flow": null,
            "grid_area": null,
            "grid_auto_columns": null,
            "grid_auto_flow": null,
            "grid_auto_rows": null,
            "grid_column": null,
            "grid_gap": null,
            "grid_row": null,
            "grid_template_areas": null,
            "grid_template_columns": null,
            "grid_template_rows": null,
            "height": null,
            "justify_content": null,
            "justify_items": null,
            "left": null,
            "margin": null,
            "max_height": null,
            "max_width": null,
            "min_height": null,
            "min_width": null,
            "object_fit": null,
            "object_position": null,
            "order": null,
            "overflow": null,
            "overflow_x": null,
            "overflow_y": null,
            "padding": null,
            "right": null,
            "top": null,
            "visibility": null,
            "width": null
          }
        },
        "e1893498306c4f3197ce4fd03bec0491": {
          "model_module": "@jupyter-widgets/controls",
          "model_name": "DescriptionStyleModel",
          "model_module_version": "1.5.0",
          "state": {
            "_model_module": "@jupyter-widgets/controls",
            "_model_module_version": "1.5.0",
            "_model_name": "DescriptionStyleModel",
            "_view_count": null,
            "_view_module": "@jupyter-widgets/base",
            "_view_module_version": "1.2.0",
            "_view_name": "StyleView",
            "description_width": ""
          }
        },
        "69c1bef781864c83bdbfc20621d1c9d7": {
          "model_module": "@jupyter-widgets/base",
          "model_name": "LayoutModel",
          "model_module_version": "1.2.0",
          "state": {
            "_model_module": "@jupyter-widgets/base",
            "_model_module_version": "1.2.0",
            "_model_name": "LayoutModel",
            "_view_count": null,
            "_view_module": "@jupyter-widgets/base",
            "_view_module_version": "1.2.0",
            "_view_name": "LayoutView",
            "align_content": null,
            "align_items": null,
            "align_self": null,
            "border": null,
            "bottom": null,
            "display": null,
            "flex": null,
            "flex_flow": null,
            "grid_area": null,
            "grid_auto_columns": null,
            "grid_auto_flow": null,
            "grid_auto_rows": null,
            "grid_column": null,
            "grid_gap": null,
            "grid_row": null,
            "grid_template_areas": null,
            "grid_template_columns": null,
            "grid_template_rows": null,
            "height": null,
            "justify_content": null,
            "justify_items": null,
            "left": null,
            "margin": null,
            "max_height": null,
            "max_width": null,
            "min_height": null,
            "min_width": null,
            "object_fit": null,
            "object_position": null,
            "order": null,
            "overflow": null,
            "overflow_x": null,
            "overflow_y": null,
            "padding": null,
            "right": null,
            "top": null,
            "visibility": null,
            "width": null
          }
        },
        "a0e48d8d47594955beabd4944262b49d": {
          "model_module": "@jupyter-widgets/controls",
          "model_name": "ProgressStyleModel",
          "model_module_version": "1.5.0",
          "state": {
            "_model_module": "@jupyter-widgets/controls",
            "_model_module_version": "1.5.0",
            "_model_name": "ProgressStyleModel",
            "_view_count": null,
            "_view_module": "@jupyter-widgets/base",
            "_view_module_version": "1.2.0",
            "_view_name": "StyleView",
            "bar_color": null,
            "description_width": ""
          }
        },
        "18a5c66ce5ee41e7a69c7780e8b14518": {
          "model_module": "@jupyter-widgets/base",
          "model_name": "LayoutModel",
          "model_module_version": "1.2.0",
          "state": {
            "_model_module": "@jupyter-widgets/base",
            "_model_module_version": "1.2.0",
            "_model_name": "LayoutModel",
            "_view_count": null,
            "_view_module": "@jupyter-widgets/base",
            "_view_module_version": "1.2.0",
            "_view_name": "LayoutView",
            "align_content": null,
            "align_items": null,
            "align_self": null,
            "border": null,
            "bottom": null,
            "display": null,
            "flex": null,
            "flex_flow": null,
            "grid_area": null,
            "grid_auto_columns": null,
            "grid_auto_flow": null,
            "grid_auto_rows": null,
            "grid_column": null,
            "grid_gap": null,
            "grid_row": null,
            "grid_template_areas": null,
            "grid_template_columns": null,
            "grid_template_rows": null,
            "height": null,
            "justify_content": null,
            "justify_items": null,
            "left": null,
            "margin": null,
            "max_height": null,
            "max_width": null,
            "min_height": null,
            "min_width": null,
            "object_fit": null,
            "object_position": null,
            "order": null,
            "overflow": null,
            "overflow_x": null,
            "overflow_y": null,
            "padding": null,
            "right": null,
            "top": null,
            "visibility": null,
            "width": null
          }
        },
        "9474a6fea6aa4ad1b066a9f4741aedc9": {
          "model_module": "@jupyter-widgets/controls",
          "model_name": "DescriptionStyleModel",
          "model_module_version": "1.5.0",
          "state": {
            "_model_module": "@jupyter-widgets/controls",
            "_model_module_version": "1.5.0",
            "_model_name": "DescriptionStyleModel",
            "_view_count": null,
            "_view_module": "@jupyter-widgets/base",
            "_view_module_version": "1.2.0",
            "_view_name": "StyleView",
            "description_width": ""
          }
        },
        "fbbcda0801eb4b4eb44be0d97284dde1": {
          "model_module": "@jupyter-widgets/controls",
          "model_name": "HBoxModel",
          "model_module_version": "1.5.0",
          "state": {
            "_dom_classes": [],
            "_model_module": "@jupyter-widgets/controls",
            "_model_module_version": "1.5.0",
            "_model_name": "HBoxModel",
            "_view_count": null,
            "_view_module": "@jupyter-widgets/controls",
            "_view_module_version": "1.5.0",
            "_view_name": "HBoxView",
            "box_style": "",
            "children": [
              "IPY_MODEL_e35da9cdef284c5d8866c3500299cf8f",
              "IPY_MODEL_f80c944abd894a1696d62388ba436711",
              "IPY_MODEL_dbb7a97800a84f6d831e3c6e1db2491b"
            ],
            "layout": "IPY_MODEL_c2f92e21269742b8afdfe1d619a43c7d"
          }
        },
        "e35da9cdef284c5d8866c3500299cf8f": {
          "model_module": "@jupyter-widgets/controls",
          "model_name": "HTMLModel",
          "model_module_version": "1.5.0",
          "state": {
            "_dom_classes": [],
            "_model_module": "@jupyter-widgets/controls",
            "_model_module_version": "1.5.0",
            "_model_name": "HTMLModel",
            "_view_count": null,
            "_view_module": "@jupyter-widgets/controls",
            "_view_module_version": "1.5.0",
            "_view_name": "HTMLView",
            "description": "",
            "description_tooltip": null,
            "layout": "IPY_MODEL_f8fbc00742a54e4f97c834292427e95d",
            "placeholder": "​",
            "style": "IPY_MODEL_ea3c64a830174f08bf754fdc72b41578",
            "value": "Downloading pytorch_model.bin: 100%"
          }
        },
        "f80c944abd894a1696d62388ba436711": {
          "model_module": "@jupyter-widgets/controls",
          "model_name": "FloatProgressModel",
          "model_module_version": "1.5.0",
          "state": {
            "_dom_classes": [],
            "_model_module": "@jupyter-widgets/controls",
            "_model_module_version": "1.5.0",
            "_model_name": "FloatProgressModel",
            "_view_count": null,
            "_view_module": "@jupyter-widgets/controls",
            "_view_module_version": "1.5.0",
            "_view_name": "ProgressView",
            "bar_style": "success",
            "description": "",
            "description_tooltip": null,
            "layout": "IPY_MODEL_7b3d2b30f6514beda4f9e91109c5bb53",
            "max": 892728632,
            "min": 0,
            "orientation": "horizontal",
            "style": "IPY_MODEL_5de9d0f0f925472c8684dc9182b80b56",
            "value": 892728632
          }
        },
        "dbb7a97800a84f6d831e3c6e1db2491b": {
          "model_module": "@jupyter-widgets/controls",
          "model_name": "HTMLModel",
          "model_module_version": "1.5.0",
          "state": {
            "_dom_classes": [],
            "_model_module": "@jupyter-widgets/controls",
            "_model_module_version": "1.5.0",
            "_model_name": "HTMLModel",
            "_view_count": null,
            "_view_module": "@jupyter-widgets/controls",
            "_view_module_version": "1.5.0",
            "_view_name": "HTMLView",
            "description": "",
            "description_tooltip": null,
            "layout": "IPY_MODEL_98e676f4f0094802a4510425187dd16e",
            "placeholder": "​",
            "style": "IPY_MODEL_0761fc3fd0f64146a9fe01ee40d62cf4",
            "value": " 893M/893M [00:23&lt;00:00, 41.9MB/s]"
          }
        },
        "c2f92e21269742b8afdfe1d619a43c7d": {
          "model_module": "@jupyter-widgets/base",
          "model_name": "LayoutModel",
          "model_module_version": "1.2.0",
          "state": {
            "_model_module": "@jupyter-widgets/base",
            "_model_module_version": "1.2.0",
            "_model_name": "LayoutModel",
            "_view_count": null,
            "_view_module": "@jupyter-widgets/base",
            "_view_module_version": "1.2.0",
            "_view_name": "LayoutView",
            "align_content": null,
            "align_items": null,
            "align_self": null,
            "border": null,
            "bottom": null,
            "display": null,
            "flex": null,
            "flex_flow": null,
            "grid_area": null,
            "grid_auto_columns": null,
            "grid_auto_flow": null,
            "grid_auto_rows": null,
            "grid_column": null,
            "grid_gap": null,
            "grid_row": null,
            "grid_template_areas": null,
            "grid_template_columns": null,
            "grid_template_rows": null,
            "height": null,
            "justify_content": null,
            "justify_items": null,
            "left": null,
            "margin": null,
            "max_height": null,
            "max_width": null,
            "min_height": null,
            "min_width": null,
            "object_fit": null,
            "object_position": null,
            "order": null,
            "overflow": null,
            "overflow_x": null,
            "overflow_y": null,
            "padding": null,
            "right": null,
            "top": null,
            "visibility": null,
            "width": null
          }
        },
        "f8fbc00742a54e4f97c834292427e95d": {
          "model_module": "@jupyter-widgets/base",
          "model_name": "LayoutModel",
          "model_module_version": "1.2.0",
          "state": {
            "_model_module": "@jupyter-widgets/base",
            "_model_module_version": "1.2.0",
            "_model_name": "LayoutModel",
            "_view_count": null,
            "_view_module": "@jupyter-widgets/base",
            "_view_module_version": "1.2.0",
            "_view_name": "LayoutView",
            "align_content": null,
            "align_items": null,
            "align_self": null,
            "border": null,
            "bottom": null,
            "display": null,
            "flex": null,
            "flex_flow": null,
            "grid_area": null,
            "grid_auto_columns": null,
            "grid_auto_flow": null,
            "grid_auto_rows": null,
            "grid_column": null,
            "grid_gap": null,
            "grid_row": null,
            "grid_template_areas": null,
            "grid_template_columns": null,
            "grid_template_rows": null,
            "height": null,
            "justify_content": null,
            "justify_items": null,
            "left": null,
            "margin": null,
            "max_height": null,
            "max_width": null,
            "min_height": null,
            "min_width": null,
            "object_fit": null,
            "object_position": null,
            "order": null,
            "overflow": null,
            "overflow_x": null,
            "overflow_y": null,
            "padding": null,
            "right": null,
            "top": null,
            "visibility": null,
            "width": null
          }
        },
        "ea3c64a830174f08bf754fdc72b41578": {
          "model_module": "@jupyter-widgets/controls",
          "model_name": "DescriptionStyleModel",
          "model_module_version": "1.5.0",
          "state": {
            "_model_module": "@jupyter-widgets/controls",
            "_model_module_version": "1.5.0",
            "_model_name": "DescriptionStyleModel",
            "_view_count": null,
            "_view_module": "@jupyter-widgets/base",
            "_view_module_version": "1.2.0",
            "_view_name": "StyleView",
            "description_width": ""
          }
        },
        "7b3d2b30f6514beda4f9e91109c5bb53": {
          "model_module": "@jupyter-widgets/base",
          "model_name": "LayoutModel",
          "model_module_version": "1.2.0",
          "state": {
            "_model_module": "@jupyter-widgets/base",
            "_model_module_version": "1.2.0",
            "_model_name": "LayoutModel",
            "_view_count": null,
            "_view_module": "@jupyter-widgets/base",
            "_view_module_version": "1.2.0",
            "_view_name": "LayoutView",
            "align_content": null,
            "align_items": null,
            "align_self": null,
            "border": null,
            "bottom": null,
            "display": null,
            "flex": null,
            "flex_flow": null,
            "grid_area": null,
            "grid_auto_columns": null,
            "grid_auto_flow": null,
            "grid_auto_rows": null,
            "grid_column": null,
            "grid_gap": null,
            "grid_row": null,
            "grid_template_areas": null,
            "grid_template_columns": null,
            "grid_template_rows": null,
            "height": null,
            "justify_content": null,
            "justify_items": null,
            "left": null,
            "margin": null,
            "max_height": null,
            "max_width": null,
            "min_height": null,
            "min_width": null,
            "object_fit": null,
            "object_position": null,
            "order": null,
            "overflow": null,
            "overflow_x": null,
            "overflow_y": null,
            "padding": null,
            "right": null,
            "top": null,
            "visibility": null,
            "width": null
          }
        },
        "5de9d0f0f925472c8684dc9182b80b56": {
          "model_module": "@jupyter-widgets/controls",
          "model_name": "ProgressStyleModel",
          "model_module_version": "1.5.0",
          "state": {
            "_model_module": "@jupyter-widgets/controls",
            "_model_module_version": "1.5.0",
            "_model_name": "ProgressStyleModel",
            "_view_count": null,
            "_view_module": "@jupyter-widgets/base",
            "_view_module_version": "1.2.0",
            "_view_name": "StyleView",
            "bar_color": null,
            "description_width": ""
          }
        },
        "98e676f4f0094802a4510425187dd16e": {
          "model_module": "@jupyter-widgets/base",
          "model_name": "LayoutModel",
          "model_module_version": "1.2.0",
          "state": {
            "_model_module": "@jupyter-widgets/base",
            "_model_module_version": "1.2.0",
            "_model_name": "LayoutModel",
            "_view_count": null,
            "_view_module": "@jupyter-widgets/base",
            "_view_module_version": "1.2.0",
            "_view_name": "LayoutView",
            "align_content": null,
            "align_items": null,
            "align_self": null,
            "border": null,
            "bottom": null,
            "display": null,
            "flex": null,
            "flex_flow": null,
            "grid_area": null,
            "grid_auto_columns": null,
            "grid_auto_flow": null,
            "grid_auto_rows": null,
            "grid_column": null,
            "grid_gap": null,
            "grid_row": null,
            "grid_template_areas": null,
            "grid_template_columns": null,
            "grid_template_rows": null,
            "height": null,
            "justify_content": null,
            "justify_items": null,
            "left": null,
            "margin": null,
            "max_height": null,
            "max_width": null,
            "min_height": null,
            "min_width": null,
            "object_fit": null,
            "object_position": null,
            "order": null,
            "overflow": null,
            "overflow_x": null,
            "overflow_y": null,
            "padding": null,
            "right": null,
            "top": null,
            "visibility": null,
            "width": null
          }
        },
        "0761fc3fd0f64146a9fe01ee40d62cf4": {
          "model_module": "@jupyter-widgets/controls",
          "model_name": "DescriptionStyleModel",
          "model_module_version": "1.5.0",
          "state": {
            "_model_module": "@jupyter-widgets/controls",
            "_model_module_version": "1.5.0",
            "_model_name": "DescriptionStyleModel",
            "_view_count": null,
            "_view_module": "@jupyter-widgets/base",
            "_view_module_version": "1.2.0",
            "_view_name": "StyleView",
            "description_width": ""
          }
        },
        "09d7e82483104ddb9433f48fc67dfba7": {
          "model_module": "@jupyter-widgets/controls",
          "model_name": "HBoxModel",
          "model_module_version": "1.5.0",
          "state": {
            "_dom_classes": [],
            "_model_module": "@jupyter-widgets/controls",
            "_model_module_version": "1.5.0",
            "_model_name": "HBoxModel",
            "_view_count": null,
            "_view_module": "@jupyter-widgets/controls",
            "_view_module_version": "1.5.0",
            "_view_name": "HBoxView",
            "box_style": "",
            "children": [
              "IPY_MODEL_2212e88b5fe64009a503aeacd216a844",
              "IPY_MODEL_9afe2f0e24f04896a5102a62223a5b83",
              "IPY_MODEL_4247d078640a43778548381a8282cd29"
            ],
            "layout": "IPY_MODEL_efb28c30b1c249b899ef8e306dc09b9e"
          }
        },
        "2212e88b5fe64009a503aeacd216a844": {
          "model_module": "@jupyter-widgets/controls",
          "model_name": "HTMLModel",
          "model_module_version": "1.5.0",
          "state": {
            "_dom_classes": [],
            "_model_module": "@jupyter-widgets/controls",
            "_model_module_version": "1.5.0",
            "_model_name": "HTMLModel",
            "_view_count": null,
            "_view_module": "@jupyter-widgets/controls",
            "_view_module_version": "1.5.0",
            "_view_name": "HTMLView",
            "description": "",
            "description_tooltip": null,
            "layout": "IPY_MODEL_81bf97a9a975495e86802e240ba359ae",
            "placeholder": "​",
            "style": "IPY_MODEL_be583e85ee8844998c577fb568e364b9",
            "value": "Downloading (…)ve/main/spiece.model: 100%"
          }
        },
        "9afe2f0e24f04896a5102a62223a5b83": {
          "model_module": "@jupyter-widgets/controls",
          "model_name": "FloatProgressModel",
          "model_module_version": "1.5.0",
          "state": {
            "_dom_classes": [],
            "_model_module": "@jupyter-widgets/controls",
            "_model_module_version": "1.5.0",
            "_model_name": "FloatProgressModel",
            "_view_count": null,
            "_view_module": "@jupyter-widgets/controls",
            "_view_module_version": "1.5.0",
            "_view_name": "ProgressView",
            "bar_style": "success",
            "description": "",
            "description_tooltip": null,
            "layout": "IPY_MODEL_0bbbd954301847ac829d9c25bf988d35",
            "max": 760289,
            "min": 0,
            "orientation": "horizontal",
            "style": "IPY_MODEL_698c0f52aab2420b876a40e1a37e274e",
            "value": 760289
          }
        },
        "4247d078640a43778548381a8282cd29": {
          "model_module": "@jupyter-widgets/controls",
          "model_name": "HTMLModel",
          "model_module_version": "1.5.0",
          "state": {
            "_dom_classes": [],
            "_model_module": "@jupyter-widgets/controls",
            "_model_module_version": "1.5.0",
            "_model_name": "HTMLModel",
            "_view_count": null,
            "_view_module": "@jupyter-widgets/controls",
            "_view_module_version": "1.5.0",
            "_view_name": "HTMLView",
            "description": "",
            "description_tooltip": null,
            "layout": "IPY_MODEL_39103edac4d34a5dad8566ba5d56140d",
            "placeholder": "​",
            "style": "IPY_MODEL_e870a1a185e44420bd2e02223168236f",
            "value": " 760k/760k [00:00&lt;00:00, 2.53MB/s]"
          }
        },
        "efb28c30b1c249b899ef8e306dc09b9e": {
          "model_module": "@jupyter-widgets/base",
          "model_name": "LayoutModel",
          "model_module_version": "1.2.0",
          "state": {
            "_model_module": "@jupyter-widgets/base",
            "_model_module_version": "1.2.0",
            "_model_name": "LayoutModel",
            "_view_count": null,
            "_view_module": "@jupyter-widgets/base",
            "_view_module_version": "1.2.0",
            "_view_name": "LayoutView",
            "align_content": null,
            "align_items": null,
            "align_self": null,
            "border": null,
            "bottom": null,
            "display": null,
            "flex": null,
            "flex_flow": null,
            "grid_area": null,
            "grid_auto_columns": null,
            "grid_auto_flow": null,
            "grid_auto_rows": null,
            "grid_column": null,
            "grid_gap": null,
            "grid_row": null,
            "grid_template_areas": null,
            "grid_template_columns": null,
            "grid_template_rows": null,
            "height": null,
            "justify_content": null,
            "justify_items": null,
            "left": null,
            "margin": null,
            "max_height": null,
            "max_width": null,
            "min_height": null,
            "min_width": null,
            "object_fit": null,
            "object_position": null,
            "order": null,
            "overflow": null,
            "overflow_x": null,
            "overflow_y": null,
            "padding": null,
            "right": null,
            "top": null,
            "visibility": null,
            "width": null
          }
        },
        "81bf97a9a975495e86802e240ba359ae": {
          "model_module": "@jupyter-widgets/base",
          "model_name": "LayoutModel",
          "model_module_version": "1.2.0",
          "state": {
            "_model_module": "@jupyter-widgets/base",
            "_model_module_version": "1.2.0",
            "_model_name": "LayoutModel",
            "_view_count": null,
            "_view_module": "@jupyter-widgets/base",
            "_view_module_version": "1.2.0",
            "_view_name": "LayoutView",
            "align_content": null,
            "align_items": null,
            "align_self": null,
            "border": null,
            "bottom": null,
            "display": null,
            "flex": null,
            "flex_flow": null,
            "grid_area": null,
            "grid_auto_columns": null,
            "grid_auto_flow": null,
            "grid_auto_rows": null,
            "grid_column": null,
            "grid_gap": null,
            "grid_row": null,
            "grid_template_areas": null,
            "grid_template_columns": null,
            "grid_template_rows": null,
            "height": null,
            "justify_content": null,
            "justify_items": null,
            "left": null,
            "margin": null,
            "max_height": null,
            "max_width": null,
            "min_height": null,
            "min_width": null,
            "object_fit": null,
            "object_position": null,
            "order": null,
            "overflow": null,
            "overflow_x": null,
            "overflow_y": null,
            "padding": null,
            "right": null,
            "top": null,
            "visibility": null,
            "width": null
          }
        },
        "be583e85ee8844998c577fb568e364b9": {
          "model_module": "@jupyter-widgets/controls",
          "model_name": "DescriptionStyleModel",
          "model_module_version": "1.5.0",
          "state": {
            "_model_module": "@jupyter-widgets/controls",
            "_model_module_version": "1.5.0",
            "_model_name": "DescriptionStyleModel",
            "_view_count": null,
            "_view_module": "@jupyter-widgets/base",
            "_view_module_version": "1.2.0",
            "_view_name": "StyleView",
            "description_width": ""
          }
        },
        "0bbbd954301847ac829d9c25bf988d35": {
          "model_module": "@jupyter-widgets/base",
          "model_name": "LayoutModel",
          "model_module_version": "1.2.0",
          "state": {
            "_model_module": "@jupyter-widgets/base",
            "_model_module_version": "1.2.0",
            "_model_name": "LayoutModel",
            "_view_count": null,
            "_view_module": "@jupyter-widgets/base",
            "_view_module_version": "1.2.0",
            "_view_name": "LayoutView",
            "align_content": null,
            "align_items": null,
            "align_self": null,
            "border": null,
            "bottom": null,
            "display": null,
            "flex": null,
            "flex_flow": null,
            "grid_area": null,
            "grid_auto_columns": null,
            "grid_auto_flow": null,
            "grid_auto_rows": null,
            "grid_column": null,
            "grid_gap": null,
            "grid_row": null,
            "grid_template_areas": null,
            "grid_template_columns": null,
            "grid_template_rows": null,
            "height": null,
            "justify_content": null,
            "justify_items": null,
            "left": null,
            "margin": null,
            "max_height": null,
            "max_width": null,
            "min_height": null,
            "min_width": null,
            "object_fit": null,
            "object_position": null,
            "order": null,
            "overflow": null,
            "overflow_x": null,
            "overflow_y": null,
            "padding": null,
            "right": null,
            "top": null,
            "visibility": null,
            "width": null
          }
        },
        "698c0f52aab2420b876a40e1a37e274e": {
          "model_module": "@jupyter-widgets/controls",
          "model_name": "ProgressStyleModel",
          "model_module_version": "1.5.0",
          "state": {
            "_model_module": "@jupyter-widgets/controls",
            "_model_module_version": "1.5.0",
            "_model_name": "ProgressStyleModel",
            "_view_count": null,
            "_view_module": "@jupyter-widgets/base",
            "_view_module_version": "1.2.0",
            "_view_name": "StyleView",
            "bar_color": null,
            "description_width": ""
          }
        },
        "39103edac4d34a5dad8566ba5d56140d": {
          "model_module": "@jupyter-widgets/base",
          "model_name": "LayoutModel",
          "model_module_version": "1.2.0",
          "state": {
            "_model_module": "@jupyter-widgets/base",
            "_model_module_version": "1.2.0",
            "_model_name": "LayoutModel",
            "_view_count": null,
            "_view_module": "@jupyter-widgets/base",
            "_view_module_version": "1.2.0",
            "_view_name": "LayoutView",
            "align_content": null,
            "align_items": null,
            "align_self": null,
            "border": null,
            "bottom": null,
            "display": null,
            "flex": null,
            "flex_flow": null,
            "grid_area": null,
            "grid_auto_columns": null,
            "grid_auto_flow": null,
            "grid_auto_rows": null,
            "grid_column": null,
            "grid_gap": null,
            "grid_row": null,
            "grid_template_areas": null,
            "grid_template_columns": null,
            "grid_template_rows": null,
            "height": null,
            "justify_content": null,
            "justify_items": null,
            "left": null,
            "margin": null,
            "max_height": null,
            "max_width": null,
            "min_height": null,
            "min_width": null,
            "object_fit": null,
            "object_position": null,
            "order": null,
            "overflow": null,
            "overflow_x": null,
            "overflow_y": null,
            "padding": null,
            "right": null,
            "top": null,
            "visibility": null,
            "width": null
          }
        },
        "e870a1a185e44420bd2e02223168236f": {
          "model_module": "@jupyter-widgets/controls",
          "model_name": "DescriptionStyleModel",
          "model_module_version": "1.5.0",
          "state": {
            "_model_module": "@jupyter-widgets/controls",
            "_model_module_version": "1.5.0",
            "_model_name": "DescriptionStyleModel",
            "_view_count": null,
            "_view_module": "@jupyter-widgets/base",
            "_view_module_version": "1.2.0",
            "_view_name": "StyleView",
            "description_width": ""
          }
        },
        "bbb3058fb1594ccd8094069ce80d4858": {
          "model_module": "@jupyter-widgets/controls",
          "model_name": "HBoxModel",
          "model_module_version": "1.5.0",
          "state": {
            "_dom_classes": [],
            "_model_module": "@jupyter-widgets/controls",
            "_model_module_version": "1.5.0",
            "_model_name": "HBoxModel",
            "_view_count": null,
            "_view_module": "@jupyter-widgets/controls",
            "_view_module_version": "1.5.0",
            "_view_name": "HBoxView",
            "box_style": "",
            "children": [
              "IPY_MODEL_8e42bc73680d4e31a2b36d58b45e721c",
              "IPY_MODEL_1cea606d321044d8a21123c5b6e1eebe",
              "IPY_MODEL_b2a72461553440ac88fddef1dc05fb6f"
            ],
            "layout": "IPY_MODEL_bbbe664146384a61aac84a06c437c181"
          }
        },
        "8e42bc73680d4e31a2b36d58b45e721c": {
          "model_module": "@jupyter-widgets/controls",
          "model_name": "HTMLModel",
          "model_module_version": "1.5.0",
          "state": {
            "_dom_classes": [],
            "_model_module": "@jupyter-widgets/controls",
            "_model_module_version": "1.5.0",
            "_model_name": "HTMLModel",
            "_view_count": null,
            "_view_module": "@jupyter-widgets/controls",
            "_view_module_version": "1.5.0",
            "_view_name": "HTMLView",
            "description": "",
            "description_tooltip": null,
            "layout": "IPY_MODEL_b6f9348eb2134737b603d95d8d33df69",
            "placeholder": "​",
            "style": "IPY_MODEL_6d6931cde85f4598a6d59033dca09ebc",
            "value": "Downloading (…)/main/tokenizer.json: 100%"
          }
        },
        "1cea606d321044d8a21123c5b6e1eebe": {
          "model_module": "@jupyter-widgets/controls",
          "model_name": "FloatProgressModel",
          "model_module_version": "1.5.0",
          "state": {
            "_dom_classes": [],
            "_model_module": "@jupyter-widgets/controls",
            "_model_module_version": "1.5.0",
            "_model_name": "FloatProgressModel",
            "_view_count": null,
            "_view_module": "@jupyter-widgets/controls",
            "_view_module_version": "1.5.0",
            "_view_name": "ProgressView",
            "bar_style": "success",
            "description": "",
            "description_tooltip": null,
            "layout": "IPY_MODEL_2103eac045b34b89a3d1642d7a988b31",
            "max": 1312669,
            "min": 0,
            "orientation": "horizontal",
            "style": "IPY_MODEL_4b45f6dd28564d3ca2fb61b4c16e9899",
            "value": 1312669
          }
        },
        "b2a72461553440ac88fddef1dc05fb6f": {
          "model_module": "@jupyter-widgets/controls",
          "model_name": "HTMLModel",
          "model_module_version": "1.5.0",
          "state": {
            "_dom_classes": [],
            "_model_module": "@jupyter-widgets/controls",
            "_model_module_version": "1.5.0",
            "_model_name": "HTMLModel",
            "_view_count": null,
            "_view_module": "@jupyter-widgets/controls",
            "_view_module_version": "1.5.0",
            "_view_name": "HTMLView",
            "description": "",
            "description_tooltip": null,
            "layout": "IPY_MODEL_27f06e6432e443ce932cde456239859a",
            "placeholder": "​",
            "style": "IPY_MODEL_4faef28686724009b01ce20cf4919bc6",
            "value": " 1.31M/1.31M [00:00&lt;00:00, 3.55MB/s]"
          }
        },
        "bbbe664146384a61aac84a06c437c181": {
          "model_module": "@jupyter-widgets/base",
          "model_name": "LayoutModel",
          "model_module_version": "1.2.0",
          "state": {
            "_model_module": "@jupyter-widgets/base",
            "_model_module_version": "1.2.0",
            "_model_name": "LayoutModel",
            "_view_count": null,
            "_view_module": "@jupyter-widgets/base",
            "_view_module_version": "1.2.0",
            "_view_name": "LayoutView",
            "align_content": null,
            "align_items": null,
            "align_self": null,
            "border": null,
            "bottom": null,
            "display": null,
            "flex": null,
            "flex_flow": null,
            "grid_area": null,
            "grid_auto_columns": null,
            "grid_auto_flow": null,
            "grid_auto_rows": null,
            "grid_column": null,
            "grid_gap": null,
            "grid_row": null,
            "grid_template_areas": null,
            "grid_template_columns": null,
            "grid_template_rows": null,
            "height": null,
            "justify_content": null,
            "justify_items": null,
            "left": null,
            "margin": null,
            "max_height": null,
            "max_width": null,
            "min_height": null,
            "min_width": null,
            "object_fit": null,
            "object_position": null,
            "order": null,
            "overflow": null,
            "overflow_x": null,
            "overflow_y": null,
            "padding": null,
            "right": null,
            "top": null,
            "visibility": null,
            "width": null
          }
        },
        "b6f9348eb2134737b603d95d8d33df69": {
          "model_module": "@jupyter-widgets/base",
          "model_name": "LayoutModel",
          "model_module_version": "1.2.0",
          "state": {
            "_model_module": "@jupyter-widgets/base",
            "_model_module_version": "1.2.0",
            "_model_name": "LayoutModel",
            "_view_count": null,
            "_view_module": "@jupyter-widgets/base",
            "_view_module_version": "1.2.0",
            "_view_name": "LayoutView",
            "align_content": null,
            "align_items": null,
            "align_self": null,
            "border": null,
            "bottom": null,
            "display": null,
            "flex": null,
            "flex_flow": null,
            "grid_area": null,
            "grid_auto_columns": null,
            "grid_auto_flow": null,
            "grid_auto_rows": null,
            "grid_column": null,
            "grid_gap": null,
            "grid_row": null,
            "grid_template_areas": null,
            "grid_template_columns": null,
            "grid_template_rows": null,
            "height": null,
            "justify_content": null,
            "justify_items": null,
            "left": null,
            "margin": null,
            "max_height": null,
            "max_width": null,
            "min_height": null,
            "min_width": null,
            "object_fit": null,
            "object_position": null,
            "order": null,
            "overflow": null,
            "overflow_x": null,
            "overflow_y": null,
            "padding": null,
            "right": null,
            "top": null,
            "visibility": null,
            "width": null
          }
        },
        "6d6931cde85f4598a6d59033dca09ebc": {
          "model_module": "@jupyter-widgets/controls",
          "model_name": "DescriptionStyleModel",
          "model_module_version": "1.5.0",
          "state": {
            "_model_module": "@jupyter-widgets/controls",
            "_model_module_version": "1.5.0",
            "_model_name": "DescriptionStyleModel",
            "_view_count": null,
            "_view_module": "@jupyter-widgets/base",
            "_view_module_version": "1.2.0",
            "_view_name": "StyleView",
            "description_width": ""
          }
        },
        "2103eac045b34b89a3d1642d7a988b31": {
          "model_module": "@jupyter-widgets/base",
          "model_name": "LayoutModel",
          "model_module_version": "1.2.0",
          "state": {
            "_model_module": "@jupyter-widgets/base",
            "_model_module_version": "1.2.0",
            "_model_name": "LayoutModel",
            "_view_count": null,
            "_view_module": "@jupyter-widgets/base",
            "_view_module_version": "1.2.0",
            "_view_name": "LayoutView",
            "align_content": null,
            "align_items": null,
            "align_self": null,
            "border": null,
            "bottom": null,
            "display": null,
            "flex": null,
            "flex_flow": null,
            "grid_area": null,
            "grid_auto_columns": null,
            "grid_auto_flow": null,
            "grid_auto_rows": null,
            "grid_column": null,
            "grid_gap": null,
            "grid_row": null,
            "grid_template_areas": null,
            "grid_template_columns": null,
            "grid_template_rows": null,
            "height": null,
            "justify_content": null,
            "justify_items": null,
            "left": null,
            "margin": null,
            "max_height": null,
            "max_width": null,
            "min_height": null,
            "min_width": null,
            "object_fit": null,
            "object_position": null,
            "order": null,
            "overflow": null,
            "overflow_x": null,
            "overflow_y": null,
            "padding": null,
            "right": null,
            "top": null,
            "visibility": null,
            "width": null
          }
        },
        "4b45f6dd28564d3ca2fb61b4c16e9899": {
          "model_module": "@jupyter-widgets/controls",
          "model_name": "ProgressStyleModel",
          "model_module_version": "1.5.0",
          "state": {
            "_model_module": "@jupyter-widgets/controls",
            "_model_module_version": "1.5.0",
            "_model_name": "ProgressStyleModel",
            "_view_count": null,
            "_view_module": "@jupyter-widgets/base",
            "_view_module_version": "1.2.0",
            "_view_name": "StyleView",
            "bar_color": null,
            "description_width": ""
          }
        },
        "27f06e6432e443ce932cde456239859a": {
          "model_module": "@jupyter-widgets/base",
          "model_name": "LayoutModel",
          "model_module_version": "1.2.0",
          "state": {
            "_model_module": "@jupyter-widgets/base",
            "_model_module_version": "1.2.0",
            "_model_name": "LayoutModel",
            "_view_count": null,
            "_view_module": "@jupyter-widgets/base",
            "_view_module_version": "1.2.0",
            "_view_name": "LayoutView",
            "align_content": null,
            "align_items": null,
            "align_self": null,
            "border": null,
            "bottom": null,
            "display": null,
            "flex": null,
            "flex_flow": null,
            "grid_area": null,
            "grid_auto_columns": null,
            "grid_auto_flow": null,
            "grid_auto_rows": null,
            "grid_column": null,
            "grid_gap": null,
            "grid_row": null,
            "grid_template_areas": null,
            "grid_template_columns": null,
            "grid_template_rows": null,
            "height": null,
            "justify_content": null,
            "justify_items": null,
            "left": null,
            "margin": null,
            "max_height": null,
            "max_width": null,
            "min_height": null,
            "min_width": null,
            "object_fit": null,
            "object_position": null,
            "order": null,
            "overflow": null,
            "overflow_x": null,
            "overflow_y": null,
            "padding": null,
            "right": null,
            "top": null,
            "visibility": null,
            "width": null
          }
        },
        "4faef28686724009b01ce20cf4919bc6": {
          "model_module": "@jupyter-widgets/controls",
          "model_name": "DescriptionStyleModel",
          "model_module_version": "1.5.0",
          "state": {
            "_model_module": "@jupyter-widgets/controls",
            "_model_module_version": "1.5.0",
            "_model_name": "DescriptionStyleModel",
            "_view_count": null,
            "_view_module": "@jupyter-widgets/base",
            "_view_module_version": "1.2.0",
            "_view_name": "StyleView",
            "description_width": ""
          }
        },
        "a73b12baa2654f399d1d4998771e6c55": {
          "model_module": "@jupyter-widgets/controls",
          "model_name": "HBoxModel",
          "model_module_version": "1.5.0",
          "state": {
            "_dom_classes": [],
            "_model_module": "@jupyter-widgets/controls",
            "_model_module_version": "1.5.0",
            "_model_name": "HBoxModel",
            "_view_count": null,
            "_view_module": "@jupyter-widgets/controls",
            "_view_module_version": "1.5.0",
            "_view_name": "HBoxView",
            "box_style": "",
            "children": [
              "IPY_MODEL_84e80b0312994204a822b50653804977",
              "IPY_MODEL_44e267daab054665aa11b7fae0d15d74",
              "IPY_MODEL_4e1787fd19c740999f1bd62e7409c7ee"
            ],
            "layout": "IPY_MODEL_84da732bd1364b5eb3ee0247e8400cb8"
          }
        },
        "84e80b0312994204a822b50653804977": {
          "model_module": "@jupyter-widgets/controls",
          "model_name": "HTMLModel",
          "model_module_version": "1.5.0",
          "state": {
            "_dom_classes": [],
            "_model_module": "@jupyter-widgets/controls",
            "_model_module_version": "1.5.0",
            "_model_name": "HTMLModel",
            "_view_count": null,
            "_view_module": "@jupyter-widgets/controls",
            "_view_module_version": "1.5.0",
            "_view_name": "HTMLView",
            "description": "",
            "description_tooltip": null,
            "layout": "IPY_MODEL_624e947f27094c0b9f92ac71c761ad35",
            "placeholder": "​",
            "style": "IPY_MODEL_e6d73a36c2cd4929b86a12ee075d25c1",
            "value": "Downloading (…)lve/main/config.json: 100%"
          }
        },
        "44e267daab054665aa11b7fae0d15d74": {
          "model_module": "@jupyter-widgets/controls",
          "model_name": "FloatProgressModel",
          "model_module_version": "1.5.0",
          "state": {
            "_dom_classes": [],
            "_model_module": "@jupyter-widgets/controls",
            "_model_module_version": "1.5.0",
            "_model_name": "FloatProgressModel",
            "_view_count": null,
            "_view_module": "@jupyter-widgets/controls",
            "_view_module_version": "1.5.0",
            "_view_name": "ProgressView",
            "bar_style": "success",
            "description": "",
            "description_tooltip": null,
            "layout": "IPY_MODEL_22f39bbeb53c4aa2b3b43c692f709b64",
            "max": 710,
            "min": 0,
            "orientation": "horizontal",
            "style": "IPY_MODEL_e59ac57e01444030a5a826abeedaf8c5",
            "value": 710
          }
        },
        "4e1787fd19c740999f1bd62e7409c7ee": {
          "model_module": "@jupyter-widgets/controls",
          "model_name": "HTMLModel",
          "model_module_version": "1.5.0",
          "state": {
            "_dom_classes": [],
            "_model_module": "@jupyter-widgets/controls",
            "_model_module_version": "1.5.0",
            "_model_name": "HTMLModel",
            "_view_count": null,
            "_view_module": "@jupyter-widgets/controls",
            "_view_module_version": "1.5.0",
            "_view_name": "HTMLView",
            "description": "",
            "description_tooltip": null,
            "layout": "IPY_MODEL_dbda92ecbd564b43bccc5dc7de5582d1",
            "placeholder": "​",
            "style": "IPY_MODEL_a2f357b1bc5341f1b98ab056874f1342",
            "value": " 710/710 [00:00&lt;00:00, 23.2kB/s]"
          }
        },
        "84da732bd1364b5eb3ee0247e8400cb8": {
          "model_module": "@jupyter-widgets/base",
          "model_name": "LayoutModel",
          "model_module_version": "1.2.0",
          "state": {
            "_model_module": "@jupyter-widgets/base",
            "_model_module_version": "1.2.0",
            "_model_name": "LayoutModel",
            "_view_count": null,
            "_view_module": "@jupyter-widgets/base",
            "_view_module_version": "1.2.0",
            "_view_name": "LayoutView",
            "align_content": null,
            "align_items": null,
            "align_self": null,
            "border": null,
            "bottom": null,
            "display": null,
            "flex": null,
            "flex_flow": null,
            "grid_area": null,
            "grid_auto_columns": null,
            "grid_auto_flow": null,
            "grid_auto_rows": null,
            "grid_column": null,
            "grid_gap": null,
            "grid_row": null,
            "grid_template_areas": null,
            "grid_template_columns": null,
            "grid_template_rows": null,
            "height": null,
            "justify_content": null,
            "justify_items": null,
            "left": null,
            "margin": null,
            "max_height": null,
            "max_width": null,
            "min_height": null,
            "min_width": null,
            "object_fit": null,
            "object_position": null,
            "order": null,
            "overflow": null,
            "overflow_x": null,
            "overflow_y": null,
            "padding": null,
            "right": null,
            "top": null,
            "visibility": null,
            "width": null
          }
        },
        "624e947f27094c0b9f92ac71c761ad35": {
          "model_module": "@jupyter-widgets/base",
          "model_name": "LayoutModel",
          "model_module_version": "1.2.0",
          "state": {
            "_model_module": "@jupyter-widgets/base",
            "_model_module_version": "1.2.0",
            "_model_name": "LayoutModel",
            "_view_count": null,
            "_view_module": "@jupyter-widgets/base",
            "_view_module_version": "1.2.0",
            "_view_name": "LayoutView",
            "align_content": null,
            "align_items": null,
            "align_self": null,
            "border": null,
            "bottom": null,
            "display": null,
            "flex": null,
            "flex_flow": null,
            "grid_area": null,
            "grid_auto_columns": null,
            "grid_auto_flow": null,
            "grid_auto_rows": null,
            "grid_column": null,
            "grid_gap": null,
            "grid_row": null,
            "grid_template_areas": null,
            "grid_template_columns": null,
            "grid_template_rows": null,
            "height": null,
            "justify_content": null,
            "justify_items": null,
            "left": null,
            "margin": null,
            "max_height": null,
            "max_width": null,
            "min_height": null,
            "min_width": null,
            "object_fit": null,
            "object_position": null,
            "order": null,
            "overflow": null,
            "overflow_x": null,
            "overflow_y": null,
            "padding": null,
            "right": null,
            "top": null,
            "visibility": null,
            "width": null
          }
        },
        "e6d73a36c2cd4929b86a12ee075d25c1": {
          "model_module": "@jupyter-widgets/controls",
          "model_name": "DescriptionStyleModel",
          "model_module_version": "1.5.0",
          "state": {
            "_model_module": "@jupyter-widgets/controls",
            "_model_module_version": "1.5.0",
            "_model_name": "DescriptionStyleModel",
            "_view_count": null,
            "_view_module": "@jupyter-widgets/base",
            "_view_module_version": "1.2.0",
            "_view_name": "StyleView",
            "description_width": ""
          }
        },
        "22f39bbeb53c4aa2b3b43c692f709b64": {
          "model_module": "@jupyter-widgets/base",
          "model_name": "LayoutModel",
          "model_module_version": "1.2.0",
          "state": {
            "_model_module": "@jupyter-widgets/base",
            "_model_module_version": "1.2.0",
            "_model_name": "LayoutModel",
            "_view_count": null,
            "_view_module": "@jupyter-widgets/base",
            "_view_module_version": "1.2.0",
            "_view_name": "LayoutView",
            "align_content": null,
            "align_items": null,
            "align_self": null,
            "border": null,
            "bottom": null,
            "display": null,
            "flex": null,
            "flex_flow": null,
            "grid_area": null,
            "grid_auto_columns": null,
            "grid_auto_flow": null,
            "grid_auto_rows": null,
            "grid_column": null,
            "grid_gap": null,
            "grid_row": null,
            "grid_template_areas": null,
            "grid_template_columns": null,
            "grid_template_rows": null,
            "height": null,
            "justify_content": null,
            "justify_items": null,
            "left": null,
            "margin": null,
            "max_height": null,
            "max_width": null,
            "min_height": null,
            "min_width": null,
            "object_fit": null,
            "object_position": null,
            "order": null,
            "overflow": null,
            "overflow_x": null,
            "overflow_y": null,
            "padding": null,
            "right": null,
            "top": null,
            "visibility": null,
            "width": null
          }
        },
        "e59ac57e01444030a5a826abeedaf8c5": {
          "model_module": "@jupyter-widgets/controls",
          "model_name": "ProgressStyleModel",
          "model_module_version": "1.5.0",
          "state": {
            "_model_module": "@jupyter-widgets/controls",
            "_model_module_version": "1.5.0",
            "_model_name": "ProgressStyleModel",
            "_view_count": null,
            "_view_module": "@jupyter-widgets/base",
            "_view_module_version": "1.2.0",
            "_view_name": "StyleView",
            "bar_color": null,
            "description_width": ""
          }
        },
        "dbda92ecbd564b43bccc5dc7de5582d1": {
          "model_module": "@jupyter-widgets/base",
          "model_name": "LayoutModel",
          "model_module_version": "1.2.0",
          "state": {
            "_model_module": "@jupyter-widgets/base",
            "_model_module_version": "1.2.0",
            "_model_name": "LayoutModel",
            "_view_count": null,
            "_view_module": "@jupyter-widgets/base",
            "_view_module_version": "1.2.0",
            "_view_name": "LayoutView",
            "align_content": null,
            "align_items": null,
            "align_self": null,
            "border": null,
            "bottom": null,
            "display": null,
            "flex": null,
            "flex_flow": null,
            "grid_area": null,
            "grid_auto_columns": null,
            "grid_auto_flow": null,
            "grid_auto_rows": null,
            "grid_column": null,
            "grid_gap": null,
            "grid_row": null,
            "grid_template_areas": null,
            "grid_template_columns": null,
            "grid_template_rows": null,
            "height": null,
            "justify_content": null,
            "justify_items": null,
            "left": null,
            "margin": null,
            "max_height": null,
            "max_width": null,
            "min_height": null,
            "min_width": null,
            "object_fit": null,
            "object_position": null,
            "order": null,
            "overflow": null,
            "overflow_x": null,
            "overflow_y": null,
            "padding": null,
            "right": null,
            "top": null,
            "visibility": null,
            "width": null
          }
        },
        "a2f357b1bc5341f1b98ab056874f1342": {
          "model_module": "@jupyter-widgets/controls",
          "model_name": "DescriptionStyleModel",
          "model_module_version": "1.5.0",
          "state": {
            "_model_module": "@jupyter-widgets/controls",
            "_model_module_version": "1.5.0",
            "_model_name": "DescriptionStyleModel",
            "_view_count": null,
            "_view_module": "@jupyter-widgets/base",
            "_view_module_version": "1.2.0",
            "_view_name": "StyleView",
            "description_width": ""
          }
        },
        "f4c15063f3af4c31b227511e4e71015a": {
          "model_module": "@jupyter-widgets/controls",
          "model_name": "HBoxModel",
          "model_module_version": "1.5.0",
          "state": {
            "_dom_classes": [],
            "_model_module": "@jupyter-widgets/controls",
            "_model_module_version": "1.5.0",
            "_model_name": "HBoxModel",
            "_view_count": null,
            "_view_module": "@jupyter-widgets/controls",
            "_view_module_version": "1.5.0",
            "_view_name": "HBoxView",
            "box_style": "",
            "children": [
              "IPY_MODEL_1edce431195946e79a8b3e0db3467690",
              "IPY_MODEL_d26931a0c8ae44d587d8b764dd476d18",
              "IPY_MODEL_2af243ac264e4d74b416a8a3ec995f5e"
            ],
            "layout": "IPY_MODEL_474f4c39bd374748a1dc6723b310423d"
          }
        },
        "1edce431195946e79a8b3e0db3467690": {
          "model_module": "@jupyter-widgets/controls",
          "model_name": "HTMLModel",
          "model_module_version": "1.5.0",
          "state": {
            "_dom_classes": [],
            "_model_module": "@jupyter-widgets/controls",
            "_model_module_version": "1.5.0",
            "_model_name": "HTMLModel",
            "_view_count": null,
            "_view_module": "@jupyter-widgets/controls",
            "_view_module_version": "1.5.0",
            "_view_name": "HTMLView",
            "description": "",
            "description_tooltip": null,
            "layout": "IPY_MODEL_af6484f3779a4efab8281e1cb46de5ca",
            "placeholder": "​",
            "style": "IPY_MODEL_6658ad49fe1e40bcab3069c419d3312d",
            "value": "Downloading pytorch_model.bin: 100%"
          }
        },
        "d26931a0c8ae44d587d8b764dd476d18": {
          "model_module": "@jupyter-widgets/controls",
          "model_name": "FloatProgressModel",
          "model_module_version": "1.5.0",
          "state": {
            "_dom_classes": [],
            "_model_module": "@jupyter-widgets/controls",
            "_model_module_version": "1.5.0",
            "_model_name": "FloatProgressModel",
            "_view_count": null,
            "_view_module": "@jupyter-widgets/controls",
            "_view_module_version": "1.5.0",
            "_view_name": "ProgressView",
            "bar_style": "success",
            "description": "",
            "description_tooltip": null,
            "layout": "IPY_MODEL_99aa4f6574ed4f80900cc8d9fb43d4da",
            "max": 892728632,
            "min": 0,
            "orientation": "horizontal",
            "style": "IPY_MODEL_bbf10138fc294c5fb1a688bda90fefb9",
            "value": 892728632
          }
        },
        "2af243ac264e4d74b416a8a3ec995f5e": {
          "model_module": "@jupyter-widgets/controls",
          "model_name": "HTMLModel",
          "model_module_version": "1.5.0",
          "state": {
            "_dom_classes": [],
            "_model_module": "@jupyter-widgets/controls",
            "_model_module_version": "1.5.0",
            "_model_name": "HTMLModel",
            "_view_count": null,
            "_view_module": "@jupyter-widgets/controls",
            "_view_module_version": "1.5.0",
            "_view_name": "HTMLView",
            "description": "",
            "description_tooltip": null,
            "layout": "IPY_MODEL_11396d5d79e149a29c2ea6882e76e565",
            "placeholder": "​",
            "style": "IPY_MODEL_ae49b59b300f4bfb9b5d97f50f313df1",
            "value": " 893M/893M [00:22&lt;00:00, 43.9MB/s]"
          }
        },
        "474f4c39bd374748a1dc6723b310423d": {
          "model_module": "@jupyter-widgets/base",
          "model_name": "LayoutModel",
          "model_module_version": "1.2.0",
          "state": {
            "_model_module": "@jupyter-widgets/base",
            "_model_module_version": "1.2.0",
            "_model_name": "LayoutModel",
            "_view_count": null,
            "_view_module": "@jupyter-widgets/base",
            "_view_module_version": "1.2.0",
            "_view_name": "LayoutView",
            "align_content": null,
            "align_items": null,
            "align_self": null,
            "border": null,
            "bottom": null,
            "display": null,
            "flex": null,
            "flex_flow": null,
            "grid_area": null,
            "grid_auto_columns": null,
            "grid_auto_flow": null,
            "grid_auto_rows": null,
            "grid_column": null,
            "grid_gap": null,
            "grid_row": null,
            "grid_template_areas": null,
            "grid_template_columns": null,
            "grid_template_rows": null,
            "height": null,
            "justify_content": null,
            "justify_items": null,
            "left": null,
            "margin": null,
            "max_height": null,
            "max_width": null,
            "min_height": null,
            "min_width": null,
            "object_fit": null,
            "object_position": null,
            "order": null,
            "overflow": null,
            "overflow_x": null,
            "overflow_y": null,
            "padding": null,
            "right": null,
            "top": null,
            "visibility": null,
            "width": null
          }
        },
        "af6484f3779a4efab8281e1cb46de5ca": {
          "model_module": "@jupyter-widgets/base",
          "model_name": "LayoutModel",
          "model_module_version": "1.2.0",
          "state": {
            "_model_module": "@jupyter-widgets/base",
            "_model_module_version": "1.2.0",
            "_model_name": "LayoutModel",
            "_view_count": null,
            "_view_module": "@jupyter-widgets/base",
            "_view_module_version": "1.2.0",
            "_view_name": "LayoutView",
            "align_content": null,
            "align_items": null,
            "align_self": null,
            "border": null,
            "bottom": null,
            "display": null,
            "flex": null,
            "flex_flow": null,
            "grid_area": null,
            "grid_auto_columns": null,
            "grid_auto_flow": null,
            "grid_auto_rows": null,
            "grid_column": null,
            "grid_gap": null,
            "grid_row": null,
            "grid_template_areas": null,
            "grid_template_columns": null,
            "grid_template_rows": null,
            "height": null,
            "justify_content": null,
            "justify_items": null,
            "left": null,
            "margin": null,
            "max_height": null,
            "max_width": null,
            "min_height": null,
            "min_width": null,
            "object_fit": null,
            "object_position": null,
            "order": null,
            "overflow": null,
            "overflow_x": null,
            "overflow_y": null,
            "padding": null,
            "right": null,
            "top": null,
            "visibility": null,
            "width": null
          }
        },
        "6658ad49fe1e40bcab3069c419d3312d": {
          "model_module": "@jupyter-widgets/controls",
          "model_name": "DescriptionStyleModel",
          "model_module_version": "1.5.0",
          "state": {
            "_model_module": "@jupyter-widgets/controls",
            "_model_module_version": "1.5.0",
            "_model_name": "DescriptionStyleModel",
            "_view_count": null,
            "_view_module": "@jupyter-widgets/base",
            "_view_module_version": "1.2.0",
            "_view_name": "StyleView",
            "description_width": ""
          }
        },
        "99aa4f6574ed4f80900cc8d9fb43d4da": {
          "model_module": "@jupyter-widgets/base",
          "model_name": "LayoutModel",
          "model_module_version": "1.2.0",
          "state": {
            "_model_module": "@jupyter-widgets/base",
            "_model_module_version": "1.2.0",
            "_model_name": "LayoutModel",
            "_view_count": null,
            "_view_module": "@jupyter-widgets/base",
            "_view_module_version": "1.2.0",
            "_view_name": "LayoutView",
            "align_content": null,
            "align_items": null,
            "align_self": null,
            "border": null,
            "bottom": null,
            "display": null,
            "flex": null,
            "flex_flow": null,
            "grid_area": null,
            "grid_auto_columns": null,
            "grid_auto_flow": null,
            "grid_auto_rows": null,
            "grid_column": null,
            "grid_gap": null,
            "grid_row": null,
            "grid_template_areas": null,
            "grid_template_columns": null,
            "grid_template_rows": null,
            "height": null,
            "justify_content": null,
            "justify_items": null,
            "left": null,
            "margin": null,
            "max_height": null,
            "max_width": null,
            "min_height": null,
            "min_width": null,
            "object_fit": null,
            "object_position": null,
            "order": null,
            "overflow": null,
            "overflow_x": null,
            "overflow_y": null,
            "padding": null,
            "right": null,
            "top": null,
            "visibility": null,
            "width": null
          }
        },
        "bbf10138fc294c5fb1a688bda90fefb9": {
          "model_module": "@jupyter-widgets/controls",
          "model_name": "ProgressStyleModel",
          "model_module_version": "1.5.0",
          "state": {
            "_model_module": "@jupyter-widgets/controls",
            "_model_module_version": "1.5.0",
            "_model_name": "ProgressStyleModel",
            "_view_count": null,
            "_view_module": "@jupyter-widgets/base",
            "_view_module_version": "1.2.0",
            "_view_name": "StyleView",
            "bar_color": null,
            "description_width": ""
          }
        },
        "11396d5d79e149a29c2ea6882e76e565": {
          "model_module": "@jupyter-widgets/base",
          "model_name": "LayoutModel",
          "model_module_version": "1.2.0",
          "state": {
            "_model_module": "@jupyter-widgets/base",
            "_model_module_version": "1.2.0",
            "_model_name": "LayoutModel",
            "_view_count": null,
            "_view_module": "@jupyter-widgets/base",
            "_view_module_version": "1.2.0",
            "_view_name": "LayoutView",
            "align_content": null,
            "align_items": null,
            "align_self": null,
            "border": null,
            "bottom": null,
            "display": null,
            "flex": null,
            "flex_flow": null,
            "grid_area": null,
            "grid_auto_columns": null,
            "grid_auto_flow": null,
            "grid_auto_rows": null,
            "grid_column": null,
            "grid_gap": null,
            "grid_row": null,
            "grid_template_areas": null,
            "grid_template_columns": null,
            "grid_template_rows": null,
            "height": null,
            "justify_content": null,
            "justify_items": null,
            "left": null,
            "margin": null,
            "max_height": null,
            "max_width": null,
            "min_height": null,
            "min_width": null,
            "object_fit": null,
            "object_position": null,
            "order": null,
            "overflow": null,
            "overflow_x": null,
            "overflow_y": null,
            "padding": null,
            "right": null,
            "top": null,
            "visibility": null,
            "width": null
          }
        },
        "ae49b59b300f4bfb9b5d97f50f313df1": {
          "model_module": "@jupyter-widgets/controls",
          "model_name": "DescriptionStyleModel",
          "model_module_version": "1.5.0",
          "state": {
            "_model_module": "@jupyter-widgets/controls",
            "_model_module_version": "1.5.0",
            "_model_name": "DescriptionStyleModel",
            "_view_count": null,
            "_view_module": "@jupyter-widgets/base",
            "_view_module_version": "1.2.0",
            "_view_name": "StyleView",
            "description_width": ""
          }
        },
        "1679db6cf42e44c19cba5876e612f378": {
          "model_module": "@jupyter-widgets/controls",
          "model_name": "HBoxModel",
          "model_module_version": "1.5.0",
          "state": {
            "_dom_classes": [],
            "_model_module": "@jupyter-widgets/controls",
            "_model_module_version": "1.5.0",
            "_model_name": "HBoxModel",
            "_view_count": null,
            "_view_module": "@jupyter-widgets/controls",
            "_view_module_version": "1.5.0",
            "_view_name": "HBoxView",
            "box_style": "",
            "children": [
              "IPY_MODEL_0c991674395240c19d3ac83ac308e6e9",
              "IPY_MODEL_3a93196d0d374560ac58940ea1dd3a57",
              "IPY_MODEL_a515241b68164e4c80de516d28b8571f"
            ],
            "layout": "IPY_MODEL_0cce7993bbc44f51a50c1d3b128ef9ef"
          }
        },
        "0c991674395240c19d3ac83ac308e6e9": {
          "model_module": "@jupyter-widgets/controls",
          "model_name": "HTMLModel",
          "model_module_version": "1.5.0",
          "state": {
            "_dom_classes": [],
            "_model_module": "@jupyter-widgets/controls",
            "_model_module_version": "1.5.0",
            "_model_name": "HTMLModel",
            "_view_count": null,
            "_view_module": "@jupyter-widgets/controls",
            "_view_module_version": "1.5.0",
            "_view_name": "HTMLView",
            "description": "",
            "description_tooltip": null,
            "layout": "IPY_MODEL_710d3021d8454114ba27edb495f1bee7",
            "placeholder": "​",
            "style": "IPY_MODEL_8b016404e3504ab2a112a00c055a3c9b",
            "value": "Downloading (…)ve/main/spiece.model: 100%"
          }
        },
        "3a93196d0d374560ac58940ea1dd3a57": {
          "model_module": "@jupyter-widgets/controls",
          "model_name": "FloatProgressModel",
          "model_module_version": "1.5.0",
          "state": {
            "_dom_classes": [],
            "_model_module": "@jupyter-widgets/controls",
            "_model_module_version": "1.5.0",
            "_model_name": "FloatProgressModel",
            "_view_count": null,
            "_view_module": "@jupyter-widgets/controls",
            "_view_module_version": "1.5.0",
            "_view_name": "ProgressView",
            "bar_style": "success",
            "description": "",
            "description_tooltip": null,
            "layout": "IPY_MODEL_1ca0afb3ef2e4320bd62023354e6bbc6",
            "max": 760289,
            "min": 0,
            "orientation": "horizontal",
            "style": "IPY_MODEL_e59ab628dd774fdd8ae3e1f41427cb43",
            "value": 760289
          }
        },
        "a515241b68164e4c80de516d28b8571f": {
          "model_module": "@jupyter-widgets/controls",
          "model_name": "HTMLModel",
          "model_module_version": "1.5.0",
          "state": {
            "_dom_classes": [],
            "_model_module": "@jupyter-widgets/controls",
            "_model_module_version": "1.5.0",
            "_model_name": "HTMLModel",
            "_view_count": null,
            "_view_module": "@jupyter-widgets/controls",
            "_view_module_version": "1.5.0",
            "_view_name": "HTMLView",
            "description": "",
            "description_tooltip": null,
            "layout": "IPY_MODEL_7cee7484a48641bf9563a67ed7a0103b",
            "placeholder": "​",
            "style": "IPY_MODEL_768e038f2999408d833bb3d4f29ac895",
            "value": " 760k/760k [00:00&lt;00:00, 1.78MB/s]"
          }
        },
        "0cce7993bbc44f51a50c1d3b128ef9ef": {
          "model_module": "@jupyter-widgets/base",
          "model_name": "LayoutModel",
          "model_module_version": "1.2.0",
          "state": {
            "_model_module": "@jupyter-widgets/base",
            "_model_module_version": "1.2.0",
            "_model_name": "LayoutModel",
            "_view_count": null,
            "_view_module": "@jupyter-widgets/base",
            "_view_module_version": "1.2.0",
            "_view_name": "LayoutView",
            "align_content": null,
            "align_items": null,
            "align_self": null,
            "border": null,
            "bottom": null,
            "display": null,
            "flex": null,
            "flex_flow": null,
            "grid_area": null,
            "grid_auto_columns": null,
            "grid_auto_flow": null,
            "grid_auto_rows": null,
            "grid_column": null,
            "grid_gap": null,
            "grid_row": null,
            "grid_template_areas": null,
            "grid_template_columns": null,
            "grid_template_rows": null,
            "height": null,
            "justify_content": null,
            "justify_items": null,
            "left": null,
            "margin": null,
            "max_height": null,
            "max_width": null,
            "min_height": null,
            "min_width": null,
            "object_fit": null,
            "object_position": null,
            "order": null,
            "overflow": null,
            "overflow_x": null,
            "overflow_y": null,
            "padding": null,
            "right": null,
            "top": null,
            "visibility": null,
            "width": null
          }
        },
        "710d3021d8454114ba27edb495f1bee7": {
          "model_module": "@jupyter-widgets/base",
          "model_name": "LayoutModel",
          "model_module_version": "1.2.0",
          "state": {
            "_model_module": "@jupyter-widgets/base",
            "_model_module_version": "1.2.0",
            "_model_name": "LayoutModel",
            "_view_count": null,
            "_view_module": "@jupyter-widgets/base",
            "_view_module_version": "1.2.0",
            "_view_name": "LayoutView",
            "align_content": null,
            "align_items": null,
            "align_self": null,
            "border": null,
            "bottom": null,
            "display": null,
            "flex": null,
            "flex_flow": null,
            "grid_area": null,
            "grid_auto_columns": null,
            "grid_auto_flow": null,
            "grid_auto_rows": null,
            "grid_column": null,
            "grid_gap": null,
            "grid_row": null,
            "grid_template_areas": null,
            "grid_template_columns": null,
            "grid_template_rows": null,
            "height": null,
            "justify_content": null,
            "justify_items": null,
            "left": null,
            "margin": null,
            "max_height": null,
            "max_width": null,
            "min_height": null,
            "min_width": null,
            "object_fit": null,
            "object_position": null,
            "order": null,
            "overflow": null,
            "overflow_x": null,
            "overflow_y": null,
            "padding": null,
            "right": null,
            "top": null,
            "visibility": null,
            "width": null
          }
        },
        "8b016404e3504ab2a112a00c055a3c9b": {
          "model_module": "@jupyter-widgets/controls",
          "model_name": "DescriptionStyleModel",
          "model_module_version": "1.5.0",
          "state": {
            "_model_module": "@jupyter-widgets/controls",
            "_model_module_version": "1.5.0",
            "_model_name": "DescriptionStyleModel",
            "_view_count": null,
            "_view_module": "@jupyter-widgets/base",
            "_view_module_version": "1.2.0",
            "_view_name": "StyleView",
            "description_width": ""
          }
        },
        "1ca0afb3ef2e4320bd62023354e6bbc6": {
          "model_module": "@jupyter-widgets/base",
          "model_name": "LayoutModel",
          "model_module_version": "1.2.0",
          "state": {
            "_model_module": "@jupyter-widgets/base",
            "_model_module_version": "1.2.0",
            "_model_name": "LayoutModel",
            "_view_count": null,
            "_view_module": "@jupyter-widgets/base",
            "_view_module_version": "1.2.0",
            "_view_name": "LayoutView",
            "align_content": null,
            "align_items": null,
            "align_self": null,
            "border": null,
            "bottom": null,
            "display": null,
            "flex": null,
            "flex_flow": null,
            "grid_area": null,
            "grid_auto_columns": null,
            "grid_auto_flow": null,
            "grid_auto_rows": null,
            "grid_column": null,
            "grid_gap": null,
            "grid_row": null,
            "grid_template_areas": null,
            "grid_template_columns": null,
            "grid_template_rows": null,
            "height": null,
            "justify_content": null,
            "justify_items": null,
            "left": null,
            "margin": null,
            "max_height": null,
            "max_width": null,
            "min_height": null,
            "min_width": null,
            "object_fit": null,
            "object_position": null,
            "order": null,
            "overflow": null,
            "overflow_x": null,
            "overflow_y": null,
            "padding": null,
            "right": null,
            "top": null,
            "visibility": null,
            "width": null
          }
        },
        "e59ab628dd774fdd8ae3e1f41427cb43": {
          "model_module": "@jupyter-widgets/controls",
          "model_name": "ProgressStyleModel",
          "model_module_version": "1.5.0",
          "state": {
            "_model_module": "@jupyter-widgets/controls",
            "_model_module_version": "1.5.0",
            "_model_name": "ProgressStyleModel",
            "_view_count": null,
            "_view_module": "@jupyter-widgets/base",
            "_view_module_version": "1.2.0",
            "_view_name": "StyleView",
            "bar_color": null,
            "description_width": ""
          }
        },
        "7cee7484a48641bf9563a67ed7a0103b": {
          "model_module": "@jupyter-widgets/base",
          "model_name": "LayoutModel",
          "model_module_version": "1.2.0",
          "state": {
            "_model_module": "@jupyter-widgets/base",
            "_model_module_version": "1.2.0",
            "_model_name": "LayoutModel",
            "_view_count": null,
            "_view_module": "@jupyter-widgets/base",
            "_view_module_version": "1.2.0",
            "_view_name": "LayoutView",
            "align_content": null,
            "align_items": null,
            "align_self": null,
            "border": null,
            "bottom": null,
            "display": null,
            "flex": null,
            "flex_flow": null,
            "grid_area": null,
            "grid_auto_columns": null,
            "grid_auto_flow": null,
            "grid_auto_rows": null,
            "grid_column": null,
            "grid_gap": null,
            "grid_row": null,
            "grid_template_areas": null,
            "grid_template_columns": null,
            "grid_template_rows": null,
            "height": null,
            "justify_content": null,
            "justify_items": null,
            "left": null,
            "margin": null,
            "max_height": null,
            "max_width": null,
            "min_height": null,
            "min_width": null,
            "object_fit": null,
            "object_position": null,
            "order": null,
            "overflow": null,
            "overflow_x": null,
            "overflow_y": null,
            "padding": null,
            "right": null,
            "top": null,
            "visibility": null,
            "width": null
          }
        },
        "768e038f2999408d833bb3d4f29ac895": {
          "model_module": "@jupyter-widgets/controls",
          "model_name": "DescriptionStyleModel",
          "model_module_version": "1.5.0",
          "state": {
            "_model_module": "@jupyter-widgets/controls",
            "_model_module_version": "1.5.0",
            "_model_name": "DescriptionStyleModel",
            "_view_count": null,
            "_view_module": "@jupyter-widgets/base",
            "_view_module_version": "1.2.0",
            "_view_name": "StyleView",
            "description_width": ""
          }
        },
        "6cb86b6711314920b61a25b8fbe6be3e": {
          "model_module": "@jupyter-widgets/controls",
          "model_name": "HBoxModel",
          "model_module_version": "1.5.0",
          "state": {
            "_dom_classes": [],
            "_model_module": "@jupyter-widgets/controls",
            "_model_module_version": "1.5.0",
            "_model_name": "HBoxModel",
            "_view_count": null,
            "_view_module": "@jupyter-widgets/controls",
            "_view_module_version": "1.5.0",
            "_view_name": "HBoxView",
            "box_style": "",
            "children": [
              "IPY_MODEL_fc00db4c702b4e4798c2c5858f35b591",
              "IPY_MODEL_5acf04df9de147e2a3859a84d48e9e1f",
              "IPY_MODEL_290b83a06f6449e9836feb569c357fd5"
            ],
            "layout": "IPY_MODEL_0bcca94c51814171a6a1960472c34896"
          }
        },
        "fc00db4c702b4e4798c2c5858f35b591": {
          "model_module": "@jupyter-widgets/controls",
          "model_name": "HTMLModel",
          "model_module_version": "1.5.0",
          "state": {
            "_dom_classes": [],
            "_model_module": "@jupyter-widgets/controls",
            "_model_module_version": "1.5.0",
            "_model_name": "HTMLModel",
            "_view_count": null,
            "_view_module": "@jupyter-widgets/controls",
            "_view_module_version": "1.5.0",
            "_view_name": "HTMLView",
            "description": "",
            "description_tooltip": null,
            "layout": "IPY_MODEL_8c9544ad888d415293708f59c5ce60d7",
            "placeholder": "​",
            "style": "IPY_MODEL_8b6f5918f47c4c3ab18a4b2a4ac41205",
            "value": "Downloading (…)/main/tokenizer.json: 100%"
          }
        },
        "5acf04df9de147e2a3859a84d48e9e1f": {
          "model_module": "@jupyter-widgets/controls",
          "model_name": "FloatProgressModel",
          "model_module_version": "1.5.0",
          "state": {
            "_dom_classes": [],
            "_model_module": "@jupyter-widgets/controls",
            "_model_module_version": "1.5.0",
            "_model_name": "FloatProgressModel",
            "_view_count": null,
            "_view_module": "@jupyter-widgets/controls",
            "_view_module_version": "1.5.0",
            "_view_name": "ProgressView",
            "bar_style": "success",
            "description": "",
            "description_tooltip": null,
            "layout": "IPY_MODEL_12ca9f07eddc4466a13f0b8c467074a4",
            "max": 1312669,
            "min": 0,
            "orientation": "horizontal",
            "style": "IPY_MODEL_0362b061f3324cbea8b6f1ab4a823717",
            "value": 1312669
          }
        },
        "290b83a06f6449e9836feb569c357fd5": {
          "model_module": "@jupyter-widgets/controls",
          "model_name": "HTMLModel",
          "model_module_version": "1.5.0",
          "state": {
            "_dom_classes": [],
            "_model_module": "@jupyter-widgets/controls",
            "_model_module_version": "1.5.0",
            "_model_name": "HTMLModel",
            "_view_count": null,
            "_view_module": "@jupyter-widgets/controls",
            "_view_module_version": "1.5.0",
            "_view_name": "HTMLView",
            "description": "",
            "description_tooltip": null,
            "layout": "IPY_MODEL_4494497b18394b4b9b5dc88a22d2bb56",
            "placeholder": "​",
            "style": "IPY_MODEL_83c393737e2543b383d778d4ee2161e6",
            "value": " 1.31M/1.31M [00:00&lt;00:00, 2.96MB/s]"
          }
        },
        "0bcca94c51814171a6a1960472c34896": {
          "model_module": "@jupyter-widgets/base",
          "model_name": "LayoutModel",
          "model_module_version": "1.2.0",
          "state": {
            "_model_module": "@jupyter-widgets/base",
            "_model_module_version": "1.2.0",
            "_model_name": "LayoutModel",
            "_view_count": null,
            "_view_module": "@jupyter-widgets/base",
            "_view_module_version": "1.2.0",
            "_view_name": "LayoutView",
            "align_content": null,
            "align_items": null,
            "align_self": null,
            "border": null,
            "bottom": null,
            "display": null,
            "flex": null,
            "flex_flow": null,
            "grid_area": null,
            "grid_auto_columns": null,
            "grid_auto_flow": null,
            "grid_auto_rows": null,
            "grid_column": null,
            "grid_gap": null,
            "grid_row": null,
            "grid_template_areas": null,
            "grid_template_columns": null,
            "grid_template_rows": null,
            "height": null,
            "justify_content": null,
            "justify_items": null,
            "left": null,
            "margin": null,
            "max_height": null,
            "max_width": null,
            "min_height": null,
            "min_width": null,
            "object_fit": null,
            "object_position": null,
            "order": null,
            "overflow": null,
            "overflow_x": null,
            "overflow_y": null,
            "padding": null,
            "right": null,
            "top": null,
            "visibility": null,
            "width": null
          }
        },
        "8c9544ad888d415293708f59c5ce60d7": {
          "model_module": "@jupyter-widgets/base",
          "model_name": "LayoutModel",
          "model_module_version": "1.2.0",
          "state": {
            "_model_module": "@jupyter-widgets/base",
            "_model_module_version": "1.2.0",
            "_model_name": "LayoutModel",
            "_view_count": null,
            "_view_module": "@jupyter-widgets/base",
            "_view_module_version": "1.2.0",
            "_view_name": "LayoutView",
            "align_content": null,
            "align_items": null,
            "align_self": null,
            "border": null,
            "bottom": null,
            "display": null,
            "flex": null,
            "flex_flow": null,
            "grid_area": null,
            "grid_auto_columns": null,
            "grid_auto_flow": null,
            "grid_auto_rows": null,
            "grid_column": null,
            "grid_gap": null,
            "grid_row": null,
            "grid_template_areas": null,
            "grid_template_columns": null,
            "grid_template_rows": null,
            "height": null,
            "justify_content": null,
            "justify_items": null,
            "left": null,
            "margin": null,
            "max_height": null,
            "max_width": null,
            "min_height": null,
            "min_width": null,
            "object_fit": null,
            "object_position": null,
            "order": null,
            "overflow": null,
            "overflow_x": null,
            "overflow_y": null,
            "padding": null,
            "right": null,
            "top": null,
            "visibility": null,
            "width": null
          }
        },
        "8b6f5918f47c4c3ab18a4b2a4ac41205": {
          "model_module": "@jupyter-widgets/controls",
          "model_name": "DescriptionStyleModel",
          "model_module_version": "1.5.0",
          "state": {
            "_model_module": "@jupyter-widgets/controls",
            "_model_module_version": "1.5.0",
            "_model_name": "DescriptionStyleModel",
            "_view_count": null,
            "_view_module": "@jupyter-widgets/base",
            "_view_module_version": "1.2.0",
            "_view_name": "StyleView",
            "description_width": ""
          }
        },
        "12ca9f07eddc4466a13f0b8c467074a4": {
          "model_module": "@jupyter-widgets/base",
          "model_name": "LayoutModel",
          "model_module_version": "1.2.0",
          "state": {
            "_model_module": "@jupyter-widgets/base",
            "_model_module_version": "1.2.0",
            "_model_name": "LayoutModel",
            "_view_count": null,
            "_view_module": "@jupyter-widgets/base",
            "_view_module_version": "1.2.0",
            "_view_name": "LayoutView",
            "align_content": null,
            "align_items": null,
            "align_self": null,
            "border": null,
            "bottom": null,
            "display": null,
            "flex": null,
            "flex_flow": null,
            "grid_area": null,
            "grid_auto_columns": null,
            "grid_auto_flow": null,
            "grid_auto_rows": null,
            "grid_column": null,
            "grid_gap": null,
            "grid_row": null,
            "grid_template_areas": null,
            "grid_template_columns": null,
            "grid_template_rows": null,
            "height": null,
            "justify_content": null,
            "justify_items": null,
            "left": null,
            "margin": null,
            "max_height": null,
            "max_width": null,
            "min_height": null,
            "min_width": null,
            "object_fit": null,
            "object_position": null,
            "order": null,
            "overflow": null,
            "overflow_x": null,
            "overflow_y": null,
            "padding": null,
            "right": null,
            "top": null,
            "visibility": null,
            "width": null
          }
        },
        "0362b061f3324cbea8b6f1ab4a823717": {
          "model_module": "@jupyter-widgets/controls",
          "model_name": "ProgressStyleModel",
          "model_module_version": "1.5.0",
          "state": {
            "_model_module": "@jupyter-widgets/controls",
            "_model_module_version": "1.5.0",
            "_model_name": "ProgressStyleModel",
            "_view_count": null,
            "_view_module": "@jupyter-widgets/base",
            "_view_module_version": "1.2.0",
            "_view_name": "StyleView",
            "bar_color": null,
            "description_width": ""
          }
        },
        "4494497b18394b4b9b5dc88a22d2bb56": {
          "model_module": "@jupyter-widgets/base",
          "model_name": "LayoutModel",
          "model_module_version": "1.2.0",
          "state": {
            "_model_module": "@jupyter-widgets/base",
            "_model_module_version": "1.2.0",
            "_model_name": "LayoutModel",
            "_view_count": null,
            "_view_module": "@jupyter-widgets/base",
            "_view_module_version": "1.2.0",
            "_view_name": "LayoutView",
            "align_content": null,
            "align_items": null,
            "align_self": null,
            "border": null,
            "bottom": null,
            "display": null,
            "flex": null,
            "flex_flow": null,
            "grid_area": null,
            "grid_auto_columns": null,
            "grid_auto_flow": null,
            "grid_auto_rows": null,
            "grid_column": null,
            "grid_gap": null,
            "grid_row": null,
            "grid_template_areas": null,
            "grid_template_columns": null,
            "grid_template_rows": null,
            "height": null,
            "justify_content": null,
            "justify_items": null,
            "left": null,
            "margin": null,
            "max_height": null,
            "max_width": null,
            "min_height": null,
            "min_width": null,
            "object_fit": null,
            "object_position": null,
            "order": null,
            "overflow": null,
            "overflow_x": null,
            "overflow_y": null,
            "padding": null,
            "right": null,
            "top": null,
            "visibility": null,
            "width": null
          }
        },
        "83c393737e2543b383d778d4ee2161e6": {
          "model_module": "@jupyter-widgets/controls",
          "model_name": "DescriptionStyleModel",
          "model_module_version": "1.5.0",
          "state": {
            "_model_module": "@jupyter-widgets/controls",
            "_model_module_version": "1.5.0",
            "_model_name": "DescriptionStyleModel",
            "_view_count": null,
            "_view_module": "@jupyter-widgets/base",
            "_view_module_version": "1.2.0",
            "_view_name": "StyleView",
            "description_width": ""
          }
        }
      }
    }
  },
  "cells": [
    {
      "cell_type": "markdown",
      "source": [
        "# 1. Abstract\n"
      ],
      "metadata": {
        "id": "zZesrE_zCjpw"
      }
    },
    {
      "cell_type": "markdown",
      "source": [
        "# ***Extension of Encoder：From Transformer to ALBERT***  \n",
        "\n",
        "BERT：通过预测文本中被掩码的词语和判断一个文本是否跟随着另一个来进行预训练，前一个任务被称为遮盖语言建模 (Masked Language Modeling, MLM)，后一个任务被称为下一句预测 (Next Sentence Prediction, NSP)；\n",
        "DistilBERT：尽管 BERT 模型性能优异，但它的模型大小使其难以部署在低延迟需求的环境中。 通过在预训练期间使用知识蒸馏 (knowledge distillation) 技术，DistilBERT 在内存占用减少 40%、计算速度提高 60% 的情况下，依然可以保持 BERT 模型 97% 的性能；\n",
        "RoBERTa：BERT 之后的一项研究表明，通过修改预训练方案可以进一步提高性能。 RoBERTa 在更多的训练数据上，以更大的批次训练了更长的时间，并且放弃了 NSP 任务。与 BERT 模型相比，这些改变显著地提高了模型的性能；\n",
        "XLM：跨语言语言模型 (XLM) 探索了构建多语言模型的数个预训练目标，包括来自 GPT 模型的自回归语言建模和来自 BERT 的 MLM。此外，研究者还通过将 MLM 任务拓展到多语言输入，提出了翻译语言建模 (Translation Language Modeling, TLM)。XLM 模型基于这些任务进行预训练后，在数个多语言 NLU 基准和翻译任务上取得了最好的性能；\n",
        "XLM-RoBERTa：跟随 XLM 和 RoBERTa 的工作，XLM-RoBERTa (XLM-R) 模型通过升级训练数据使得多语言预训练更进一步。具体地，首先基于 Common Crawl 语料库创建了一个包含 2.5 TB 文本数据的语料，然后在该数据集上运用 MLM 训练了一个编码器。由于数据集没有包含平行对照文本，因此移除了 XLM 的 TLM 目标。最终，该模型大幅超越了 XLM 和多语言 BERT 变体；\n",
        "ALBERT：ALBERT 模型通过三处变化使得 Encoder 架构更高效：首先，它将词嵌入维度与隐藏维度解耦，使得嵌入维度很小以减少模型参数；其次，所有模型层共享参数，这进一步减少了模型的实际参数量；最后，将 NSP 任务替换为句子排序预测，即预测两个连续句子的顺序是否被交换。这些变化使得可以用更少的参数训练更大的模型，并在 NLU 任务上取得了优异的性能；"
      ],
      "metadata": {
        "id": "7VnCjRmWjA5C"
      }
    },
    {
      "cell_type": "markdown",
      "source": [
        "结构：\n",
        "详细的解释四个算法五页左右  \n",
        "实验对比1-2页  \n",
        "结果推论1页  \n",
        "Limitations and future direction 一页  "
      ],
      "metadata": {
        "id": "evkHZIv2ilFf"
      }
    },
    {
      "cell_type": "markdown",
      "source": [
        "# ***Problem statement***"
      ],
      "metadata": {
        "id": "SRgPx6fclI9B"
      }
    },
    {
      "cell_type": "markdown",
      "source": [
        "In this paper, we explore the existing research on Transformer,Bert,ROBERTA,XLM,ALBERT. and proposing potentially more efficient and scalable architectures for processing and generating natural language text that can achieve state-of-the-art performance on a variety of natural language processing (NLP) tasks.\n",
        "\n",
        "This problem is important because natural language understanding is a fundamental task of artificial intelligence with a wide range of applications in areas such as machine translation, sentiment analysis, and chatbots. It is also difficult because natural language is highly complex, with many linguistic nuances that require a deep understanding of context and semantics.\n",
        "\n",
        "The main problem addressed by the Transformer-based models is language understanding, which involves capturing the contextual relationship between words and their representations in large-scale corpora. Traditional models such as recurrent neural networks and convolutional neural networks were not efficient in capturing these long-range dependencies. Hence, the Transformer architecture was introduced, which relies on self-attention mechanisms to attend to different parts of the input sequence to create a better representation.\n",
        "\n",
        "\n",
        "本文通过探讨Transformer的延伸,Bert,ROBERTA,XLM,ALBERT的已有研究.并提出潜在更有效和可扩展的架构来处理和生成自然语言文本的方法，能够在各种自然语言处理（NLP）任务上达到最先进的性能。\n",
        "\n",
        "这个问题很重要，因为自然语言理解是人工智能的一项基本任务，在机器翻译、情感分析和聊天机器人等领域有广泛的应用。它也很难，因为自然语言是高度复杂的，有许多语言上的细微差别，需要对语境和语义有深刻的理解。\n",
        "基于Transformer的模型所解决的主要问题是语言理解，这涉及到在大规模语料库中捕获单词和它们的表示之间的上下文关系。传统的模型，如递归神经网络和卷积神经网络，在捕捉这些长距离的依赖关系方面并不高效。因此，引入了Transformer架构，它依靠自我注意机制来关注输入序列的不同部分，以创建一个更好的表示。"
      ],
      "metadata": {
        "id": "rrbQ-I7flHCE"
      }
    },
    {
      "cell_type": "markdown",
      "source": [
        "# ***Main result***\n",
        "（对model与alogrithm进行详细的解释四个算法五页左右）"
      ],
      "metadata": {
        "id": "mPN3ONnRlNlt"
      }
    },
    {
      "cell_type": "markdown",
      "source": [
        "The main contribution of Transformer-based models is the pre-training technique, where the model is trained on a large corpus of text to learn the language's representation. BERT, RoBERTa, XLM, and ALBERT are examples of pre-trained models that have shown state-of-the-art performance in various NLP tasks.\n",
        "\n",
        "The pre-training technique involves two stages: (i) pre-training a transformer-based model on a large corpus of text, and (ii) fine-tuning the pre-trained model on specific NLP tasks. The pre-training stage is unsupervised, where the model learns the language's representation by predicting the masked words and next sentence prediction tasks.\n",
        "\n",
        "The fine-tuning stage involves training the pre-trained model on specific NLP tasks, such as sentiment analysis or question answering. The pre-trained model's weights are fine-tuned on the specific task's dataset, and the model is then used to predict the task's output.\n",
        "主要结果：\n",
        "基于Transformer的模型的主要贡献是预训练技术，即在大量的文本语料库中训练模型以学习语言的表示。BERT、RoBERTa、XLM和ALBERT是预训练模型的例子，它们在各种NLP任务中表现出最先进的性能。\n",
        "\n",
        "预训练技术包括两个阶段：(i) 在大型文本语料库上预训练基于转化器的模型，以及(ii) 在特定的NLP任务上微调预训练模型。预训练阶段是无监督的，模型通过预测被掩盖的词和下一个句子的预测任务来学习语言的表示。\n",
        "\n",
        "微调阶段包括在特定的NLP任务上训练预训练的模型，如情感分析或问题回答。预训练模型的权重在特定任务的数据集上进行微调，然后用该模型来预测任务的输出。"
      ],
      "metadata": {
        "id": "cXhXC0mulOo9"
      }
    },
    {
      "cell_type": "markdown",
      "source": [
        "# ***Examples and counterexamples***"
      ],
      "metadata": {
        "id": "pDHT-I6klP9z"
      }
    },
    {
      "cell_type": "markdown",
      "source": [
        "Example: In a machine translation task, the Transformer architecture is able to capture complex relationships between words in the source and target languages, resulting in more accurate translations.\n",
        "\n",
        "Counterexample: If the input text has significant noise or is from a domain that the model has not been trained on, the performance of the Transformer model may be negatively impacted. For instance, if the model has been trained on news articles but is applied to informal social media text, it may struggle to generate coherent and contextually accurate responses.\n",
        "\n",
        "例子： 在机器翻译任务中，Transformer架构能够捕捉到源语言和目标语言中的复杂关系，从而使翻译更加准确。\n",
        "\n",
        "反例： 如果输入的文本有明显的噪音，或者来自于模型没有被训练过的领域，Transformer模型的性能可能会受到负面的影响。例如，如果该模型已经在新闻文章上进行了训练，但被应用于非正式的社交媒体文本，它可能难以产生连贯和上下文准确的反应。"
      ],
      "metadata": {
        "id": "fE5Icn3LlSHI"
      }
    },
    {
      "cell_type": "markdown",
      "source": [
        "# ***Empirical Studies***"
      ],
      "metadata": {
        "id": "jW0GbZeplW7W"
      }
    },
    {
      "cell_type": "markdown",
      "source": [
        "经验研究表明，在各种NLP任务中，预训练的基于Transformer的模型，如BERT、RoBERTa、XLM和ALBERT都有优秀的表现。但四种算法却不是线性上升的，对不同的任务反而有好有坏。需要通过对比实验，后尝试根据模型的性质推断这种变化"
      ],
      "metadata": {
        "id": "7IMYAnQtlZie"
      }
    },
    {
      "cell_type": "markdown",
      "source": [
        "# 进行实验"
      ],
      "metadata": {
        "id": "paKZqeL9HyOV"
      }
    },
    {
      "cell_type": "code",
      "source": [],
      "metadata": {
        "id": "kJW_93t54N7b"
      },
      "execution_count": null,
      "outputs": []
    },
    {
      "cell_type": "markdown",
      "source": [
        "数据集：\n",
        "* SST：句子来源于电影评论，又有它们情感的人类注释，不同于CoLA的整体偏短，有些句子很长，有些句子很短，长短并不整齐划一。\n",
        "\n",
        "* COLA:句子看起来不是很长，有些错误是性别不符，有些是缺词、少词，有些是加s不加s的情况，各种语法错误。但我也注意到，有一些看起来错误并没有那么严重，甚至在某些情况还是可以说的通的。\n",
        "\n",
        "* MRPC:数据集，包含两句话，每个样本的句子长度都非常长，且数据不均衡，正样本占比68%，负样本仅占32%。\n",
        "\n",
        "\n",
        "\n"
      ],
      "metadata": {
        "id": "AY0cExOZhNWM"
      }
    },
    {
      "cell_type": "markdown",
      "source": [
        "# ***BERT***"
      ],
      "metadata": {
        "id": "yk1Tzq7l5P5O"
      }
    },
    {
      "cell_type": "markdown",
      "source": [
        "**这个一定要跑，为了和drive同步**"
      ],
      "metadata": {
        "id": "J_YNfcOV4Ofi"
      }
    },
    {
      "cell_type": "code",
      "source": [
        "\n",
        "from google.colab import drive\n",
        "drive.mount('/content/drive')"
      ],
      "metadata": {
        "colab": {
          "base_uri": "https://localhost:8080/"
        },
        "id": "JbbKuC72bU04",
        "outputId": "0ba8bba5-db11-41d6-df05-18352891c4b4"
      },
      "execution_count": null,
      "outputs": [
        {
          "output_type": "stream",
          "name": "stdout",
          "text": [
            "Drive already mounted at /content/drive; to attempt to forcibly remount, call drive.mount(\"/content/drive\", force_remount=True).\n"
          ]
        }
      ]
    },
    {
      "cell_type": "code",
      "source": [
        "import sys\n",
        "sys.path.append('/content/drive/MyDrive/Colab Notebooks/final proj/SST-2-sentiment-analysis-master')"
      ],
      "metadata": {
        "id": "KMsxg3cvbcsj"
      },
      "execution_count": null,
      "outputs": []
    },
    {
      "cell_type": "code",
      "source": [
        "! pip3 install transformers"
      ],
      "metadata": {
        "colab": {
          "base_uri": "https://localhost:8080/"
        },
        "id": "Rz3lUwUCbnzx",
        "outputId": "9d728ccf-6977-4694-8cc3-8f5c4398c8c6"
      },
      "execution_count": null,
      "outputs": [
        {
          "output_type": "stream",
          "name": "stdout",
          "text": [
            "Looking in indexes: https://pypi.org/simple, https://us-python.pkg.dev/colab-wheels/public/simple/\n",
            "Requirement already satisfied: transformers in /usr/local/lib/python3.9/dist-packages (4.27.4)\n",
            "Requirement already satisfied: huggingface-hub<1.0,>=0.11.0 in /usr/local/lib/python3.9/dist-packages (from transformers) (0.13.3)\n",
            "Requirement already satisfied: requests in /usr/local/lib/python3.9/dist-packages (from transformers) (2.27.1)\n",
            "Requirement already satisfied: pyyaml>=5.1 in /usr/local/lib/python3.9/dist-packages (from transformers) (6.0)\n",
            "Requirement already satisfied: packaging>=20.0 in /usr/local/lib/python3.9/dist-packages (from transformers) (23.0)\n",
            "Requirement already satisfied: numpy>=1.17 in /usr/local/lib/python3.9/dist-packages (from transformers) (1.22.4)\n",
            "Requirement already satisfied: tokenizers!=0.11.3,<0.14,>=0.11.1 in /usr/local/lib/python3.9/dist-packages (from transformers) (0.13.2)\n",
            "Requirement already satisfied: filelock in /usr/local/lib/python3.9/dist-packages (from transformers) (3.10.7)\n",
            "Requirement already satisfied: tqdm>=4.27 in /usr/local/lib/python3.9/dist-packages (from transformers) (4.65.0)\n",
            "Requirement already satisfied: regex!=2019.12.17 in /usr/local/lib/python3.9/dist-packages (from transformers) (2022.10.31)\n",
            "Requirement already satisfied: typing-extensions>=3.7.4.3 in /usr/local/lib/python3.9/dist-packages (from huggingface-hub<1.0,>=0.11.0->transformers) (4.5.0)\n",
            "Requirement already satisfied: certifi>=2017.4.17 in /usr/local/lib/python3.9/dist-packages (from requests->transformers) (2022.12.7)\n",
            "Requirement already satisfied: urllib3<1.27,>=1.21.1 in /usr/local/lib/python3.9/dist-packages (from requests->transformers) (1.26.15)\n",
            "Requirement already satisfied: charset-normalizer~=2.0.0 in /usr/local/lib/python3.9/dist-packages (from requests->transformers) (2.0.12)\n",
            "Requirement already satisfied: idna<4,>=2.5 in /usr/local/lib/python3.9/dist-packages (from requests->transformers) (3.4)\n"
          ]
        }
      ]
    },
    {
      "cell_type": "markdown",
      "source": [
        "用SST训练"
      ],
      "metadata": {
        "id": "KkWZ74-c5ng6"
      }
    },
    {
      "cell_type": "code",
      "source": [
        "from run_Bert_model import model_train_validate_test\n",
        "import pandas as pd\n",
        "from utils import Metric\n",
        "import os\n",
        "\n",
        "data_path = \"/content/drive/MyDrive/Colab Notebooks/final proj/SST-2-sentiment-analysis-master/data\"\n",
        "train_df = pd.read_csv(os.path.join(data_path,\"train.tsv\"),sep='\\t',header=None, names=['similarity','s1'])\n",
        "dev_df = pd.read_csv(os.path.join(data_path,\"dev.tsv\"),sep='\\t',header=None, names=['similarity','s1'])\n",
        "test_df = pd.read_csv(os.path.join(data_path,\"test.tsv\"),sep='\\t',header=None, names=['similarity','s1'])\n",
        "target_dir = \"/content/drive/MyDrive/Colab Notebooks/final proj/SST-2-sentiment-analysis-master/data/output/Bert/\"\n",
        "\n",
        "model_train_validate_test(train_df, dev_df, test_df, target_dir, \n",
        "         max_seq_len=50,\n",
        "         epochs=3,\n",
        "         batch_size=32,\n",
        "         lr=2e-05,\n",
        "         patience=1,\n",
        "         max_grad_norm=10.0,\n",
        "         if_save_model=True,\n",
        "         checkpoint=None)\n",
        "\n",
        "test_result = pd.read_csv(os.path.join(target_dir, 'test_prediction.csv'))\n",
        "Metric(test_df.similarity, test_result.prediction) "
      ],
      "metadata": {
        "colab": {
          "base_uri": "https://localhost:8080/"
        },
        "id": "N_BjCunPb4Qt",
        "outputId": "d206b614-a68f-4572-b88d-c92e39ad2d70"
      },
      "execution_count": null,
      "outputs": [
        {
          "output_type": "stream",
          "name": "stdout",
          "text": [
            "====================  Preparing for training  ====================\n",
            "\t* Loading training data...\n",
            "\t* Loading validation data...\n",
            "\t* Loading test data...\n",
            "\t* Building model...\n"
          ]
        },
        {
          "output_type": "stream",
          "name": "stderr",
          "text": [
            "/usr/local/lib/python3.9/dist-packages/transformers/optimization.py:391: FutureWarning: This implementation of AdamW is deprecated and will be removed in a future version. Use the PyTorch implementation torch.optim.AdamW instead, or set `no_deprecation_warning=True` to disable this warning\n",
            "  warnings.warn(\n"
          ]
        },
        {
          "output_type": "stream",
          "name": "stdout",
          "text": [
            "\n",
            "* Validation loss before training: 0.3822, accuracy: 89.5642%, auc: 0.9547\n",
            "\n",
            " ==================== Training bert model on device: cuda ====================\n",
            "* Training epoch 1:\n"
          ]
        },
        {
          "output_type": "stream",
          "name": "stderr",
          "text": [
            "Avg. batch proc. time: 0.2522s, loss: 0.1164: 100%|██████████| 217/217 [00:57<00:00,  3.75it/s]\n"
          ]
        },
        {
          "output_type": "stream",
          "name": "stdout",
          "text": [
            "-> Training time: 57.8907s, loss = 0.1164, accuracy: 95.4624%\n",
            "* Validation for epoch 1:\n",
            "-> Valid. time: 2.2019s, loss: 0.2712, accuracy: 91.2844%, auc: 0.9684\n",
            "\n",
            "save model succesfully!\n",
            "\n",
            "* Test for epoch 1:\n",
            "Test accuracy: 0.9319%\n",
            "\n",
            "* Training epoch 2:\n"
          ]
        },
        {
          "output_type": "stream",
          "name": "stderr",
          "text": [
            "Avg. batch proc. time: 0.2628s, loss: 0.0416: 100%|██████████| 217/217 [01:00<00:00,  3.59it/s]\n"
          ]
        },
        {
          "output_type": "stream",
          "name": "stdout",
          "text": [
            "-> Training time: 60.3828s, loss = 0.0416, accuracy: 98.6272%\n",
            "* Validation for epoch 2:\n",
            "-> Valid. time: 2.2555s, loss: 0.3219, accuracy: 91.7431%, auc: 0.9718\n",
            "\n",
            "save model succesfully!\n",
            "\n",
            "* Test for epoch 2:\n",
            "Test accuracy: 0.9209%\n",
            "\n",
            "* Training epoch 3:\n"
          ]
        },
        {
          "output_type": "stream",
          "name": "stderr",
          "text": [
            "Avg. batch proc. time: 0.2665s, loss: 0.0254: 100%|██████████| 217/217 [01:01<00:00,  3.55it/s]\n"
          ]
        },
        {
          "output_type": "stream",
          "name": "stdout",
          "text": [
            "-> Training time: 61.1531s, loss = 0.0254, accuracy: 99.1908%\n",
            "* Validation for epoch 3:\n",
            "-> Valid. time: 2.3258s, loss: 0.4009, accuracy: 91.0550%, auc: 0.9714\n",
            "\n",
            "-> Early stopping: patience limit reached, stopping...\n",
            "Accuracy: 92.1%\n",
            "Precision: 92.2%\n",
            "Recall: 92.1%\n",
            "F1: 92.1%\n",
            "classification_report:\n",
            "\n",
            "              precision    recall  f1-score   support\n",
            "\n",
            "     class_0      0.942     0.897     0.919       912\n",
            "     class_1      0.901     0.945     0.923       909\n",
            "\n",
            "    accuracy                          0.921      1821\n",
            "   macro avg      0.922     0.921     0.921      1821\n",
            "weighted avg      0.922     0.921     0.921      1821\n",
            "\n"
          ]
        }
      ]
    },
    {
      "cell_type": "markdown",
      "source": [
        "用cola数据集训练"
      ],
      "metadata": {
        "id": "bbIpM8-tnd6w"
      }
    },
    {
      "cell_type": "code",
      "source": [
        "from run_Bert_model import model_train_validate_test\n",
        "import pandas as pd\n",
        "from utils import Metric\n",
        "import os\n",
        "\n",
        "data_path = \"/content/drive/MyDrive/Colab Notebooks/final proj/SST-2-sentiment-analysis-master/data\"\n",
        "train_df = pd.read_csv(os.path.join(data_path,\"in_domain_train_processed.tsv\"),sep='\\t',header=None, names=['similarity','s1'])\n",
        "dev_df = pd.read_csv(os.path.join(data_path,\"in_domain_dev_processed.tsv\"),sep='\\t',header=None, names=['similarity','s1'])\n",
        "test_df = pd.read_csv(os.path.join(data_path,\"out_of_domain_dev_processed.tsv\"),sep='\\t',header=None, names=['similarity','s1'])\n",
        "target_dir = \"/content/drive/MyDrive/Colab Notebooks/final proj/SST-2-sentiment-analysis-master/data/output/Bert/\"\n",
        "\n",
        "model_train_validate_test(train_df, dev_df, test_df, target_dir, \n",
        "         max_seq_len=50,\n",
        "         epochs=3,\n",
        "         batch_size=32,\n",
        "         lr=2e-05,\n",
        "         patience=1,\n",
        "         max_grad_norm=10.0,\n",
        "         if_save_model=True,\n",
        "         checkpoint=None)\n",
        "\n",
        "test_result = pd.read_csv(os.path.join(target_dir, 'test_prediction.csv'))\n",
        "Metric(test_df.similarity, test_result.prediction) "
      ],
      "metadata": {
        "colab": {
          "base_uri": "https://localhost:8080/"
        },
        "id": "3yMZUBZbnhTI",
        "outputId": "3e68d50e-b20c-4554-d353-4e11214d0057"
      },
      "execution_count": null,
      "outputs": [
        {
          "output_type": "stream",
          "name": "stdout",
          "text": [
            "====================  Preparing for training  ====================\n",
            "\t* Loading training data...\n",
            "\t* Loading validation data...\n",
            "\t* Loading test data...\n",
            "\t* Building model...\n"
          ]
        },
        {
          "output_type": "stream",
          "name": "stderr",
          "text": [
            "/usr/local/lib/python3.9/dist-packages/transformers/optimization.py:391: FutureWarning: This implementation of AdamW is deprecated and will be removed in a future version. Use the PyTorch implementation torch.optim.AdamW instead, or set `no_deprecation_warning=True` to disable this warning\n",
            "  warnings.warn(\n"
          ]
        },
        {
          "output_type": "stream",
          "name": "stdout",
          "text": [
            "\n",
            "* Validation loss before training: 2.1761, accuracy: 42.6945%, auc: 0.5617\n",
            "\n",
            " ==================== Training bert model on device: cuda ====================\n",
            "* Training epoch 1:\n"
          ]
        },
        {
          "output_type": "stream",
          "name": "stderr",
          "text": [
            "Avg. batch proc. time: 0.2491s, loss: 0.5518: 100%|██████████| 268/268 [01:10<00:00,  3.80it/s]\n"
          ]
        },
        {
          "output_type": "stream",
          "name": "stdout",
          "text": [
            "-> Training time: 70.6021s, loss = 0.5518, accuracy: 74.1083%\n",
            "* Validation for epoch 1:\n",
            "-> Valid. time: 1.3456s, loss: 0.5046, accuracy: 76.8501%, auc: 0.8809\n",
            "\n",
            "save model succesfully!\n",
            "\n",
            "* Test for epoch 1:\n",
            "Test accuracy: 0.7558%\n",
            "\n",
            "* Training epoch 2:\n"
          ]
        },
        {
          "output_type": "stream",
          "name": "stderr",
          "text": [
            "Avg. batch proc. time: 0.2604s, loss: 0.3685: 100%|██████████| 268/268 [01:13<00:00,  3.63it/s]\n"
          ]
        },
        {
          "output_type": "stream",
          "name": "stdout",
          "text": [
            "-> Training time: 73.7997s, loss = 0.3685, accuracy: 84.0720%\n",
            "* Validation for epoch 2:\n",
            "-> Valid. time: 1.4844s, loss: 0.4507, accuracy: 82.5427%, auc: 0.8902\n",
            "\n",
            "save model succesfully!\n",
            "\n",
            "* Test for epoch 2:\n",
            "Test accuracy: 0.7926%\n",
            "\n",
            "* Training epoch 3:\n"
          ]
        },
        {
          "output_type": "stream",
          "name": "stderr",
          "text": [
            "Avg. batch proc. time: 0.2655s, loss: 0.2301: 100%|██████████| 268/268 [01:15<00:00,  3.56it/s]\n"
          ]
        },
        {
          "output_type": "stream",
          "name": "stdout",
          "text": [
            "-> Training time: 75.2114s, loss = 0.2301, accuracy: 90.7145%\n",
            "* Validation for epoch 3:\n",
            "-> Valid. time: 1.4519s, loss: 0.4832, accuracy: 83.3017%, auc: 0.8868\n",
            "\n",
            "save model succesfully!\n",
            "\n",
            "* Test for epoch 3:\n",
            "Test accuracy: 0.7946%\n",
            "\n",
            "Accuracy: 79.5%\n",
            "Precision: 79.8%\n",
            "Recall: 70.3%\n",
            "F1: 72.3%\n",
            "classification_report:\n",
            "\n",
            "              precision    recall  f1-score   support\n",
            "\n",
            "     class_0      0.804     0.457     0.583       162\n",
            "     class_1      0.792     0.949     0.864       354\n",
            "\n",
            "    accuracy                          0.795       516\n",
            "   macro avg      0.798     0.703     0.723       516\n",
            "weighted avg      0.796     0.795     0.776       516\n",
            "\n"
          ]
        }
      ]
    },
    {
      "cell_type": "markdown",
      "source": [
        "原因：‘in 1:注意到，这里面的句子看起来不是很长，有些错误是性别不符，有些是缺词、少词，有些是加s不加s的情况，各种语法错误。但我也注意到，有一些看起来错误并没有那么严重，甚至在某些情况还是可以说的通的。in 2:注意到，由于句子来源于电影评论，又有它们情感的人类注释，不同于CoLA的整体偏短，有些句子很长，有些句子很短，长短并不整齐划一。’"
      ],
      "metadata": {
        "id": "uurL6PS0pQN6"
      }
    },
    {
      "cell_type": "markdown",
      "source": [
        "MRPC数据集：本任务的数据集，包含两句话，每个样本的句子长度都非常长，且数据不均衡，正样本占比68%，负样本仅占32%。"
      ],
      "metadata": {
        "id": "JaYo9wIlqtRa"
      }
    },
    {
      "cell_type": "code",
      "source": [
        "from run_Bert_model import model_train_validate_test\n",
        "import pandas as pd\n",
        "from utils import Metric\n",
        "import os\n",
        "\n",
        "data_path = \"/content/drive/MyDrive/Colab Notebooks/final proj/SST-2-sentiment-analysis-master/data\"\n",
        "train_df = pd.read_csv(os.path.join(data_path,\"msr_paraphrase_train_edit.tsv\"),sep='\\t',header=None, names=['similarity','s1'])\n",
        "dev_df = pd.read_csv(os.path.join(data_path,\"msr_paraphrase_vali_edit.tsv\"),sep='\\t',header=None, names=['similarity','s1'])\n",
        "test_df = pd.read_csv(os.path.join(data_path,\"msr_paraphrase_test2_edit.tsv\"),sep='\\t',header=None, names=['similarity','s1'])\n",
        "target_dir = \"/content/drive/MyDrive/Colab Notebooks/final proj/SST-2-sentiment-analysis-master/data/output/Bert/\"\n",
        "\n",
        "model_train_validate_test(train_df, dev_df, test_df, target_dir, \n",
        "         max_seq_len=50,\n",
        "         epochs=3,\n",
        "         batch_size=32,\n",
        "         lr=2e-05,\n",
        "         patience=1,\n",
        "         max_grad_norm=10.0,\n",
        "         if_save_model=True,\n",
        "         checkpoint=None)\n",
        "\n",
        "test_result = pd.read_csv(os.path.join(target_dir, 'test_prediction.csv'))\n",
        "Metric(test_df.similarity, test_result.prediction) "
      ],
      "metadata": {
        "colab": {
          "base_uri": "https://localhost:8080/"
        },
        "id": "cBi5RvxJqx9i",
        "outputId": "507c47c3-8c01-44c8-e2e9-960ca7fd2176"
      },
      "execution_count": null,
      "outputs": [
        {
          "output_type": "stream",
          "name": "stdout",
          "text": [
            "====================  Preparing for training  ====================\n",
            "\t* Loading training data...\n"
          ]
        },
        {
          "output_type": "stream",
          "name": "stderr",
          "text": [
            "Token indices sequence length is longer than the specified maximum sequence length for this model (694 > 512). Running this sequence through the model will result in indexing errors\n"
          ]
        },
        {
          "output_type": "stream",
          "name": "stdout",
          "text": [
            "\t* Loading validation data...\n",
            "\t* Loading test data...\n",
            "\t* Building model...\n"
          ]
        },
        {
          "output_type": "stream",
          "name": "stderr",
          "text": [
            "/usr/local/lib/python3.9/dist-packages/transformers/optimization.py:391: FutureWarning: This implementation of AdamW is deprecated and will be removed in a future version. Use the PyTorch implementation torch.optim.AdamW instead, or set `no_deprecation_warning=True` to disable this warning\n",
            "  warnings.warn(\n"
          ]
        },
        {
          "output_type": "stream",
          "name": "stdout",
          "text": [
            "\n",
            "* Validation loss before training: 1.6043, accuracy: 44.9697%, auc: 0.5159\n",
            "\n",
            " ==================== Training bert model on device: cuda ====================\n",
            "* Training epoch 1:\n"
          ]
        },
        {
          "output_type": "stream",
          "name": "stderr",
          "text": [
            "Avg. batch proc. time: 0.2566s, loss: 0.6059: 100%|██████████| 124/124 [00:33<00:00,  3.69it/s]\n"
          ]
        },
        {
          "output_type": "stream",
          "name": "stdout",
          "text": [
            "-> Training time: 33.5963s, loss = 0.6059, accuracy: 70.1161%\n",
            "* Validation for epoch 1:\n",
            "-> Valid. time: 2.0516s, loss: 0.5495, accuracy: 73.9394%, auc: 0.7595\n",
            "\n",
            "save model succesfully!\n",
            "\n",
            "* Test for epoch 1:\n",
            "Test accuracy: 0.7406%\n",
            "\n",
            "* Training epoch 2:\n"
          ]
        },
        {
          "output_type": "stream",
          "name": "stderr",
          "text": [
            "Avg. batch proc. time: 0.2627s, loss: 0.4688: 100%|██████████| 124/124 [00:34<00:00,  3.59it/s]\n"
          ]
        },
        {
          "output_type": "stream",
          "name": "stdout",
          "text": [
            "-> Training time: 34.5150s, loss = 0.4688, accuracy: 78.1928%\n",
            "* Validation for epoch 2:\n",
            "-> Valid. time: 2.1303s, loss: 0.5465, accuracy: 73.9394%, auc: 0.8050\n",
            "\n",
            "save model succesfully!\n",
            "\n",
            "* Test for epoch 2:\n",
            "Test accuracy: 0.7430%\n",
            "\n",
            "* Training epoch 3:\n"
          ]
        },
        {
          "output_type": "stream",
          "name": "stderr",
          "text": [
            "Avg. batch proc. time: 0.2673s, loss: 0.3080: 100%|██████████| 124/124 [00:35<00:00,  3.54it/s]\n"
          ]
        },
        {
          "output_type": "stream",
          "name": "stdout",
          "text": [
            "-> Training time: 35.0709s, loss = 0.3080, accuracy: 87.7082%\n",
            "* Validation for epoch 3:\n",
            "-> Valid. time: 2.1604s, loss: 0.5728, accuracy: 75.8788%, auc: 0.7990\n",
            "\n",
            "save model succesfully!\n",
            "\n",
            "* Test for epoch 3:\n",
            "Test accuracy: 0.7491%\n",
            "\n",
            "Accuracy: 74.9%\n",
            "Precision: 71.3%\n",
            "Recall: 72.7%\n",
            "F1: 71.8%\n",
            "classification_report:\n",
            "\n",
            "              precision    recall  f1-score   support\n",
            "\n",
            "     class_0      0.588     0.668     0.626       259\n",
            "     class_1      0.838     0.786     0.811       566\n",
            "\n",
            "    accuracy                          0.749       825\n",
            "   macro avg      0.713     0.727     0.718       825\n",
            "weighted avg      0.760     0.749     0.753       825\n",
            "\n"
          ]
        }
      ]
    },
    {
      "cell_type": "markdown",
      "source": [
        "**本任务的数据集，包含两句话，每个样本的句子长度都非常长，且数据不均衡，正样本占比68%，负样本仅占32%。**"
      ],
      "metadata": {
        "id": "8Zu6lNe83Tpd"
      }
    },
    {
      "cell_type": "markdown",
      "source": [
        "# ***ROBERTA***"
      ],
      "metadata": {
        "id": "C8VbJsLF5M8J"
      }
    },
    {
      "cell_type": "markdown",
      "source": [
        "SST数据集"
      ],
      "metadata": {
        "id": "zpe9ox8R5_ao"
      }
    },
    {
      "cell_type": "code",
      "source": [
        "from run_Roberta_model import model_train_validate_test\n",
        "import pandas as pd\n",
        "from utils import Metric\n",
        "import os\n",
        "\n",
        "data_path = \"/content/drive/MyDrive/Colab Notebooks/final proj/SST-2-sentiment-analysis-master/data/\"\n",
        "train_df = pd.read_csv(os.path.join(data_path,\"train.tsv\"),sep='\\t',header=None, names=['similarity','s1'])\n",
        "dev_df = pd.read_csv(os.path.join(data_path,\"dev.tsv\"),sep='\\t',header=None, names=['similarity','s1'])\n",
        "test_df = pd.read_csv(os.path.join(data_path,\"test.tsv\"),sep='\\t',header=None, names=['similarity','s1'])\n",
        "target_dir = \"/content/drive/My Drive/SST-2-sentiment-analysis/output/Roberta/\"\n",
        "\n",
        "model_train_validate_test(train_df, dev_df, test_df, target_dir, \n",
        "         max_seq_len=50,\n",
        "         epochs=3,\n",
        "         batch_size=32,\n",
        "         lr=2e-05,\n",
        "         patience=1,\n",
        "         max_grad_norm=10.0,\n",
        "         if_save_model=True,\n",
        "         checkpoint=None)\n",
        "\n",
        "test_result = pd.read_csv(os.path.join(target_dir, 'test_prediction.csv'))\n",
        "Metric(test_df.similarity, test_result.prediction) "
      ],
      "metadata": {
        "colab": {
          "base_uri": "https://localhost:8080/",
          "height": 1000,
          "referenced_widgets": [
            "3f0af34a88a14e6f98bf48cab72a6e6c",
            "3a61293187c1400ead8a6d4e6d996edc",
            "2f0777523c964b88bc7f55230ec49641",
            "143311305b6d4235ba7f8baa6f3f6fa9",
            "24a7a5749c704fc3aa46186dc26623e5",
            "4485db8323404fd690fe98875805e9b9",
            "ab796e3e83234e6f93cb72bb362fe93a",
            "75dbc08d3a1d42f0b418010304e7b0a0",
            "5109ac9fd86043cb902d3e123e057902",
            "8fe91f12b6fb4693a4eabe0f992f423d",
            "3d3b42eb528d4d1b9d980aab980168e1",
            "db2c00deca76429e81f3e63b4ddf6431",
            "0dfd30f88f444e298d73135cc7956e06",
            "33c529704bd248b980b23196c74bb823",
            "f5ca055b0cba414d8f0f6f83c555303d",
            "d5f4f5f642a34f0ab50dd0469bbe81f3",
            "b94c7c2fa7c241328eaccdeef64c9f8d",
            "d2a7f2769a0641b090e4ac378e83ae38",
            "f3d1590a4f2f40b8be44517c6d4dc002",
            "86475cba40dd4c3ab9373f1f21ab68f8",
            "958a104f93ae42aea3f0a771e61ff3d0",
            "3c38bf7873614a81babe9219d6697eae",
            "a9037996519949ba9fae9ed331cabf83",
            "d5a0a3f5f8d34373ac2147627998c667",
            "36cdb5aadb514325b18183353acaf38d",
            "6ed467c8fe0f4dcc9247782ace72109d",
            "5b109e41d0334d09a480026841fa095f",
            "2c100390b6064ec8a5975fdb73992bdb",
            "4fe24c6bd68e44509b8ed6c7fd71f717",
            "e502981fea9342fdad0622e33ffe8e04",
            "088e03c040404d5c8868d9a8148141ca",
            "4d7f291a8674422e83d3cf32e9e6f805",
            "e398e2d4a1674fd5b6dd80af366e2fbe",
            "57a1fa7cd5b242b4a2b990568b97ceb0",
            "21e6f1bd006e4f468e7bdfbe44ac44da",
            "f6aa1f9bc3084c46980961f450765b3a",
            "d325cc2eb1524c369cfed77824b13091",
            "db0a1ac6672c45c9919b8b63f99f3889",
            "43e8ef4618c44ea49e89ecb4a732eb8e",
            "0d08033f91ed4f7babd6eafbaee3c9c1",
            "8924f3764b024863b38c002bb896b172",
            "bd86396e30854ba6959426ea7e4b80bf",
            "172c8c797cf04ea7b1b6b0a4de4b4dee",
            "1bd1866acae14bc0a2c6b332799e5ac4",
            "a06c010915dc47c79895936dea3e9c76",
            "71de14b75fd146509e2590f9e03c7731",
            "826ebf415f754ffeb2dc6e2047ee6d70",
            "0d116d81f7b8498daaad2bef2910d0e0",
            "615e6c45a17341a08a49f9a1cd5a71df",
            "c5b52b2ee7394084a441ec2b36f1d011",
            "ce23d4a3f6a647f6bb391c3d2e775286",
            "72586f7e86844081af145c35db9f0101",
            "b90ead79a5d64e6abd4a33edb816fa19",
            "ff67e8fd79924286a30e448709a23705",
            "e73c6506f9c64a4e91a6cd067a278ab2"
          ]
        },
        "id": "0u0uT6QK5LbO",
        "outputId": "3d4cfe19-3c38-43c9-de33-1b77497ef9c7"
      },
      "execution_count": null,
      "outputs": [
        {
          "output_type": "display_data",
          "data": {
            "text/plain": [
              "Downloading (…)lve/main/config.json:   0%|          | 0.00/481 [00:00<?, ?B/s]"
            ],
            "application/vnd.jupyter.widget-view+json": {
              "version_major": 2,
              "version_minor": 0,
              "model_id": "3f0af34a88a14e6f98bf48cab72a6e6c"
            }
          },
          "metadata": {}
        },
        {
          "output_type": "display_data",
          "data": {
            "text/plain": [
              "Downloading pytorch_model.bin:   0%|          | 0.00/501M [00:00<?, ?B/s]"
            ],
            "application/vnd.jupyter.widget-view+json": {
              "version_major": 2,
              "version_minor": 0,
              "model_id": "db2c00deca76429e81f3e63b4ddf6431"
            }
          },
          "metadata": {}
        },
        {
          "output_type": "stream",
          "name": "stderr",
          "text": [
            "Some weights of the model checkpoint at roberta-base were not used when initializing RobertaForSequenceClassification: ['roberta.pooler.dense.bias', 'lm_head.decoder.weight', 'lm_head.dense.weight', 'lm_head.layer_norm.weight', 'roberta.pooler.dense.weight', 'lm_head.dense.bias', 'lm_head.bias', 'lm_head.layer_norm.bias']\n",
            "- This IS expected if you are initializing RobertaForSequenceClassification from the checkpoint of a model trained on another task or with another architecture (e.g. initializing a BertForSequenceClassification model from a BertForPreTraining model).\n",
            "- This IS NOT expected if you are initializing RobertaForSequenceClassification from the checkpoint of a model that you expect to be exactly identical (initializing a BertForSequenceClassification model from a BertForSequenceClassification model).\n",
            "Some weights of RobertaForSequenceClassification were not initialized from the model checkpoint at roberta-base and are newly initialized: ['classifier.out_proj.weight', 'classifier.dense.weight', 'classifier.dense.bias', 'classifier.out_proj.bias']\n",
            "You should probably TRAIN this model on a down-stream task to be able to use it for predictions and inference.\n"
          ]
        },
        {
          "output_type": "display_data",
          "data": {
            "text/plain": [
              "Downloading (…)olve/main/vocab.json:   0%|          | 0.00/899k [00:00<?, ?B/s]"
            ],
            "application/vnd.jupyter.widget-view+json": {
              "version_major": 2,
              "version_minor": 0,
              "model_id": "a9037996519949ba9fae9ed331cabf83"
            }
          },
          "metadata": {}
        },
        {
          "output_type": "display_data",
          "data": {
            "text/plain": [
              "Downloading (…)olve/main/merges.txt:   0%|          | 0.00/456k [00:00<?, ?B/s]"
            ],
            "application/vnd.jupyter.widget-view+json": {
              "version_major": 2,
              "version_minor": 0,
              "model_id": "57a1fa7cd5b242b4a2b990568b97ceb0"
            }
          },
          "metadata": {}
        },
        {
          "output_type": "display_data",
          "data": {
            "text/plain": [
              "Downloading (…)/main/tokenizer.json:   0%|          | 0.00/1.36M [00:00<?, ?B/s]"
            ],
            "application/vnd.jupyter.widget-view+json": {
              "version_major": 2,
              "version_minor": 0,
              "model_id": "a06c010915dc47c79895936dea3e9c76"
            }
          },
          "metadata": {}
        },
        {
          "output_type": "stream",
          "name": "stdout",
          "text": [
            "====================  Preparing for training  ====================\n",
            "\t* Loading training data...\n",
            "\t* Loading validation data...\n",
            "\t* Loading test data...\n",
            "\t* Building model...\n"
          ]
        },
        {
          "output_type": "stream",
          "name": "stderr",
          "text": [
            "/usr/local/lib/python3.9/dist-packages/transformers/optimization.py:391: FutureWarning: This implementation of AdamW is deprecated and will be removed in a future version. Use the PyTorch implementation torch.optim.AdamW instead, or set `no_deprecation_warning=True` to disable this warning\n",
            "  warnings.warn(\n"
          ]
        },
        {
          "output_type": "stream",
          "name": "stdout",
          "text": [
            "\n",
            "* Validation loss before training: 0.7044, accuracy: 49.0826%, auc: 0.4794\n",
            "\n",
            " ==================== Training bert model on device: cuda ====================\n",
            "* Training epoch 1:\n"
          ]
        },
        {
          "output_type": "stream",
          "name": "stderr",
          "text": [
            "Avg. batch proc. time: 0.2589s, loss: 0.3436: 100%|██████████| 217/217 [00:59<00:00,  3.65it/s]\n"
          ]
        },
        {
          "output_type": "stream",
          "name": "stdout",
          "text": [
            "-> Training time: 59.4531s, loss = 0.3436, accuracy: 84.5087%\n",
            "* Validation for epoch 1:\n",
            "-> Valid. time: 2.3993s, loss: 0.2417, accuracy: 92.3165%, auc: 0.9722\n",
            "\n",
            "save model succesfully!\n",
            "\n",
            "* Test for epoch 1:\n",
            "Test accuracy: 0.9242%\n",
            "\n",
            "* Training epoch 2:\n"
          ]
        },
        {
          "output_type": "stream",
          "name": "stderr",
          "text": [
            "Avg. batch proc. time: 0.2681s, loss: 0.1725: 100%|██████████| 217/217 [01:01<00:00,  3.53it/s]\n"
          ]
        },
        {
          "output_type": "stream",
          "name": "stdout",
          "text": [
            "-> Training time: 61.5515s, loss = 0.1725, accuracy: 93.9306%\n",
            "* Validation for epoch 2:\n",
            "-> Valid. time: 2.2742s, loss: 0.2633, accuracy: 92.3165%, auc: 0.9746\n",
            "\n",
            "save model succesfully!\n",
            "\n",
            "* Test for epoch 2:\n",
            "Test accuracy: 0.9456%\n",
            "\n",
            "* Training epoch 3:\n"
          ]
        },
        {
          "output_type": "stream",
          "name": "stderr",
          "text": [
            "Avg. batch proc. time: 0.2718s, loss: 0.0956: 100%|██████████| 217/217 [01:02<00:00,  3.48it/s]\n"
          ]
        },
        {
          "output_type": "stream",
          "name": "stdout",
          "text": [
            "-> Training time: 62.4261s, loss = 0.0956, accuracy: 96.8497%\n",
            "* Validation for epoch 3:\n",
            "-> Valid. time: 2.2881s, loss: 0.3097, accuracy: 90.3670%, auc: 0.9742\n",
            "\n",
            "-> Early stopping: patience limit reached, stopping...\n",
            "Accuracy: 94.6%\n",
            "Precision: 94.6%\n",
            "Recall: 94.6%\n",
            "F1: 94.6%\n",
            "classification_report:\n",
            "\n",
            "              precision    recall  f1-score   support\n",
            "\n",
            "     class_0      0.954     0.936     0.945       912\n",
            "     class_1      0.937     0.955     0.946       909\n",
            "\n",
            "    accuracy                          0.946      1821\n",
            "   macro avg      0.946     0.946     0.946      1821\n",
            "weighted avg      0.946     0.946     0.946      1821\n",
            "\n"
          ]
        }
      ]
    },
    {
      "cell_type": "markdown",
      "source": [
        "用cola数据集训练"
      ],
      "metadata": {
        "id": "MFTTJX1c5LXK"
      }
    },
    {
      "cell_type": "code",
      "source": [
        "from run_Roberta_model import model_train_validate_test\n",
        "import pandas as pd\n",
        "from utils import Metric\n",
        "import os\n",
        "\n",
        "data_path = \"/content/drive/MyDrive/Colab Notebooks/final proj/SST-2-sentiment-analysis-master/data/\"\n",
        "train_df = pd.read_csv(os.path.join(data_path,\"in_domain_train_processed.tsv\"),sep='\\t',header=None, names=['similarity','s1'])\n",
        "dev_df = pd.read_csv(os.path.join(data_path,\"in_domain_dev_processed.tsv\"),sep='\\t',header=None, names=['similarity','s1'])\n",
        "test_df = pd.read_csv(os.path.join(data_path,\"out_of_domain_dev_processed.tsv\"),sep='\\t',header=None, names=['similarity','s1'])\n",
        "target_dir = \"/content/drive/My Drive/SST-2-sentiment-analysis/output/Roberta/\"\n",
        "\n",
        "model_train_validate_test(train_df, dev_df, test_df, target_dir, \n",
        "         max_seq_len=50,\n",
        "         epochs=3,\n",
        "         batch_size=32,\n",
        "         lr=2e-05,\n",
        "         patience=1,\n",
        "         max_grad_norm=10.0,\n",
        "         if_save_model=True,\n",
        "         checkpoint=None)\n",
        "\n",
        "test_result = pd.read_csv(os.path.join(target_dir, 'test_prediction.csv'))\n",
        "Metric(test_df.similarity, test_result.prediction) "
      ],
      "metadata": {
        "colab": {
          "base_uri": "https://localhost:8080/"
        },
        "id": "PA34GLYF5LTF",
        "outputId": "8e0a1813-5fa8-4d38-a113-d0e115ab352a"
      },
      "execution_count": null,
      "outputs": [
        {
          "output_type": "stream",
          "name": "stderr",
          "text": [
            "Some weights of the model checkpoint at roberta-base were not used when initializing RobertaForSequenceClassification: ['roberta.pooler.dense.bias', 'lm_head.decoder.weight', 'lm_head.dense.weight', 'lm_head.layer_norm.weight', 'roberta.pooler.dense.weight', 'lm_head.dense.bias', 'lm_head.bias', 'lm_head.layer_norm.bias']\n",
            "- This IS expected if you are initializing RobertaForSequenceClassification from the checkpoint of a model trained on another task or with another architecture (e.g. initializing a BertForSequenceClassification model from a BertForPreTraining model).\n",
            "- This IS NOT expected if you are initializing RobertaForSequenceClassification from the checkpoint of a model that you expect to be exactly identical (initializing a BertForSequenceClassification model from a BertForSequenceClassification model).\n",
            "Some weights of RobertaForSequenceClassification were not initialized from the model checkpoint at roberta-base and are newly initialized: ['classifier.out_proj.weight', 'classifier.dense.weight', 'classifier.dense.bias', 'classifier.out_proj.bias']\n",
            "You should probably TRAIN this model on a down-stream task to be able to use it for predictions and inference.\n"
          ]
        },
        {
          "output_type": "stream",
          "name": "stdout",
          "text": [
            "====================  Preparing for training  ====================\n",
            "\t* Loading training data...\n",
            "\t* Loading validation data...\n",
            "\t* Loading test data...\n",
            "\t* Building model...\n"
          ]
        },
        {
          "output_type": "stream",
          "name": "stderr",
          "text": [
            "/usr/local/lib/python3.9/dist-packages/transformers/optimization.py:391: FutureWarning: This implementation of AdamW is deprecated and will be removed in a future version. Use the PyTorch implementation torch.optim.AdamW instead, or set `no_deprecation_warning=True` to disable this warning\n",
            "  warnings.warn(\n"
          ]
        },
        {
          "output_type": "stream",
          "name": "stdout",
          "text": [
            "\n",
            "* Validation loss before training: 0.7115, accuracy: 30.7400%, auc: 0.5393\n",
            "\n",
            " ==================== Training bert model on device: cuda ====================\n",
            "* Training epoch 1:\n"
          ]
        },
        {
          "output_type": "stream",
          "name": "stderr",
          "text": [
            "Avg. batch proc. time: 0.2688s, loss: 0.5094: 100%|██████████| 268/268 [01:16<00:00,  3.52it/s]\n"
          ]
        },
        {
          "output_type": "stream",
          "name": "stdout",
          "text": [
            "-> Training time: 76.0496s, loss = 0.5094, accuracy: 75.1842%\n",
            "* Validation for epoch 1:\n",
            "-> Valid. time: 1.4096s, loss: 0.3733, accuracy: 84.6300%, auc: 0.9042\n",
            "\n",
            "save model succesfully!\n",
            "\n",
            "* Test for epoch 1:\n",
            "Test accuracy: 0.7926%\n",
            "\n",
            "* Training epoch 2:\n"
          ]
        },
        {
          "output_type": "stream",
          "name": "stderr",
          "text": [
            "Avg. batch proc. time: 0.2701s, loss: 0.3298: 100%|██████████| 268/268 [01:16<00:00,  3.50it/s]\n"
          ]
        },
        {
          "output_type": "stream",
          "name": "stdout",
          "text": [
            "-> Training time: 76.5017s, loss = 0.3298, accuracy: 86.0835%\n",
            "* Validation for epoch 2:\n",
            "-> Valid. time: 1.3960s, loss: 0.4397, accuracy: 84.8197%, auc: 0.9223\n",
            "\n",
            "save model succesfully!\n",
            "\n",
            "* Test for epoch 2:\n",
            "Test accuracy: 0.8023%\n",
            "\n",
            "* Training epoch 3:\n"
          ]
        },
        {
          "output_type": "stream",
          "name": "stderr",
          "text": [
            "Avg. batch proc. time: 0.2739s, loss: 0.2291: 100%|██████████| 268/268 [01:17<00:00,  3.45it/s]\n"
          ]
        },
        {
          "output_type": "stream",
          "name": "stdout",
          "text": [
            "-> Training time: 77.6979s, loss = 0.2291, accuracy: 91.3928%\n",
            "* Validation for epoch 3:\n",
            "-> Valid. time: 1.3940s, loss: 0.3870, accuracy: 85.9583%, auc: 0.9200\n",
            "\n",
            "save model succesfully!\n",
            "\n",
            "* Test for epoch 3:\n",
            "Test accuracy: 0.7907%\n",
            "\n",
            "Accuracy: 79.1%\n",
            "Precision: 76.1%\n",
            "Recall: 73.7%\n",
            "F1: 74.6%\n",
            "classification_report:\n",
            "\n",
            "              precision    recall  f1-score   support\n",
            "\n",
            "     class_0      0.696     0.593     0.640       162\n",
            "     class_1      0.825     0.881     0.852       354\n",
            "\n",
            "    accuracy                          0.791       516\n",
            "   macro avg      0.761     0.737     0.746       516\n",
            "weighted avg      0.785     0.791     0.786       516\n",
            "\n"
          ]
        }
      ]
    },
    {
      "cell_type": "markdown",
      "source": [
        "MRPC数据集"
      ],
      "metadata": {
        "id": "W9EB_1s25LPW"
      }
    },
    {
      "cell_type": "code",
      "source": [
        "from run_Roberta_model import model_train_validate_test\n",
        "import pandas as pd\n",
        "from utils import Metric\n",
        "import os\n",
        "\n",
        "data_path = \"/content/drive/MyDrive/Colab Notebooks/final proj/SST-2-sentiment-analysis-master/data/\"\n",
        "train_df = pd.read_csv(os.path.join(data_path,\"msr_paraphrase_train_edit.tsv\"),sep='\\t',header=None, names=['similarity','s1'])\n",
        "dev_df = pd.read_csv(os.path.join(data_path,\"msr_paraphrase_vali_edit.tsv\"),sep='\\t',header=None, names=['similarity','s1'])\n",
        "test_df = pd.read_csv(os.path.join(data_path,\"msr_paraphrase_test2_edit.tsv\"),sep='\\t',header=None, names=['similarity','s1'])\n",
        "target_dir = \"/content/drive/My Drive/SST-2-sentiment-analysis/output/Roberta/\"\n",
        "\n",
        "model_train_validate_test(train_df, dev_df, test_df, target_dir, \n",
        "         max_seq_len=50,\n",
        "         epochs=3,\n",
        "         batch_size=32,\n",
        "         lr=2e-05,\n",
        "         patience=1,\n",
        "         max_grad_norm=10.0,\n",
        "         if_save_model=True,\n",
        "         checkpoint=None)\n",
        "\n",
        "test_result = pd.read_csv(os.path.join(target_dir, 'test_prediction.csv'))\n",
        "Metric(test_df.similarity, test_result.prediction) "
      ],
      "metadata": {
        "colab": {
          "base_uri": "https://localhost:8080/"
        },
        "id": "Khez9sFV5LL6",
        "outputId": "028202aa-64c6-48c7-e6ed-afec10c5e702"
      },
      "execution_count": null,
      "outputs": [
        {
          "output_type": "stream",
          "name": "stderr",
          "text": [
            "Some weights of the model checkpoint at roberta-base were not used when initializing RobertaForSequenceClassification: ['roberta.pooler.dense.bias', 'lm_head.decoder.weight', 'lm_head.dense.weight', 'lm_head.layer_norm.weight', 'roberta.pooler.dense.weight', 'lm_head.dense.bias', 'lm_head.bias', 'lm_head.layer_norm.bias']\n",
            "- This IS expected if you are initializing RobertaForSequenceClassification from the checkpoint of a model trained on another task or with another architecture (e.g. initializing a BertForSequenceClassification model from a BertForPreTraining model).\n",
            "- This IS NOT expected if you are initializing RobertaForSequenceClassification from the checkpoint of a model that you expect to be exactly identical (initializing a BertForSequenceClassification model from a BertForSequenceClassification model).\n",
            "Some weights of RobertaForSequenceClassification were not initialized from the model checkpoint at roberta-base and are newly initialized: ['classifier.out_proj.weight', 'classifier.dense.weight', 'classifier.dense.bias', 'classifier.out_proj.bias']\n",
            "You should probably TRAIN this model on a down-stream task to be able to use it for predictions and inference.\n"
          ]
        },
        {
          "output_type": "stream",
          "name": "stdout",
          "text": [
            "====================  Preparing for training  ====================\n",
            "\t* Loading training data...\n"
          ]
        },
        {
          "output_type": "stream",
          "name": "stderr",
          "text": [
            "Token indices sequence length is longer than the specified maximum sequence length for this model (742 > 512). Running this sequence through the model will result in indexing errors\n"
          ]
        },
        {
          "output_type": "stream",
          "name": "stdout",
          "text": [
            "\t* Loading validation data...\n",
            "\t* Loading test data...\n",
            "\t* Building model...\n"
          ]
        },
        {
          "output_type": "stream",
          "name": "stderr",
          "text": [
            "/usr/local/lib/python3.9/dist-packages/transformers/optimization.py:391: FutureWarning: This implementation of AdamW is deprecated and will be removed in a future version. Use the PyTorch implementation torch.optim.AdamW instead, or set `no_deprecation_warning=True` to disable this warning\n",
            "  warnings.warn(\n"
          ]
        },
        {
          "output_type": "stream",
          "name": "stdout",
          "text": [
            "\n",
            "* Validation loss before training: 0.6712, accuracy: 64.4848%, auc: 0.4905\n",
            "\n",
            " ==================== Training bert model on device: cuda ====================\n",
            "* Training epoch 1:\n"
          ]
        },
        {
          "output_type": "stream",
          "name": "stderr",
          "text": [
            "Avg. batch proc. time: 0.2788s, loss: 0.5879: 100%|██████████| 124/124 [00:36<00:00,  3.39it/s]\n"
          ]
        },
        {
          "output_type": "stream",
          "name": "stdout",
          "text": [
            "-> Training time: 36.5651s, loss = 0.5879, accuracy: 69.0308%\n",
            "* Validation for epoch 1:\n",
            "-> Valid. time: 2.2115s, loss: 0.5554, accuracy: 73.3333%, auc: 0.7722\n",
            "\n",
            "save model succesfully!\n",
            "\n",
            "* Test for epoch 1:\n",
            "Test accuracy: 0.7733%\n",
            "\n",
            "* Training epoch 2:\n"
          ]
        },
        {
          "output_type": "stream",
          "name": "stderr",
          "text": [
            "Avg. batch proc. time: 0.2773s, loss: 0.4435: 100%|██████████| 124/124 [00:36<00:00,  3.41it/s]\n"
          ]
        },
        {
          "output_type": "stream",
          "name": "stdout",
          "text": [
            "-> Training time: 36.3906s, loss = 0.4435, accuracy: 79.9344%\n",
            "* Validation for epoch 2:\n",
            "-> Valid. time: 2.2014s, loss: 0.5095, accuracy: 78.3030%, auc: 0.8470\n",
            "\n",
            "save model succesfully!\n",
            "\n",
            "* Test for epoch 2:\n",
            "Test accuracy: 0.8376%\n",
            "\n",
            "* Training epoch 3:\n"
          ]
        },
        {
          "output_type": "stream",
          "name": "stderr",
          "text": [
            "Avg. batch proc. time: 0.2839s, loss: 0.3124: 100%|██████████| 124/124 [00:37<00:00,  3.33it/s]\n"
          ]
        },
        {
          "output_type": "stream",
          "name": "stdout",
          "text": [
            "-> Training time: 37.1934s, loss = 0.3124, accuracy: 87.5315%\n",
            "* Validation for epoch 3:\n",
            "-> Valid. time: 2.2146s, loss: 0.5872, accuracy: 80.0000%, auc: 0.8545\n",
            "\n",
            "save model succesfully!\n",
            "\n",
            "* Test for epoch 3:\n",
            "Test accuracy: 0.8327%\n",
            "\n",
            "Accuracy: 83.3%\n",
            "Precision: 82.4%\n",
            "Recall: 77.3%\n",
            "F1: 79.1%\n",
            "classification_report:\n",
            "\n",
            "              precision    recall  f1-score   support\n",
            "\n",
            "     class_0      0.807     0.614     0.697       259\n",
            "     class_1      0.841     0.933     0.884       566\n",
            "\n",
            "    accuracy                          0.833       825\n",
            "   macro avg      0.824     0.773     0.791       825\n",
            "weighted avg      0.830     0.833     0.826       825\n",
            "\n"
          ]
        }
      ]
    },
    {
      "cell_type": "markdown",
      "source": [
        "# ***XLM***"
      ],
      "metadata": {
        "id": "BuEKuRbF5LHt"
      }
    },
    {
      "cell_type": "markdown",
      "source": [
        "SST"
      ],
      "metadata": {
        "id": "2stlOS0M7n8W"
      }
    },
    {
      "cell_type": "code",
      "source": [
        "from run_Xlnet_model import model_train_validate_test\n",
        "import pandas as pd\n",
        "from utils import Metric\n",
        "import os\n",
        "\n",
        "data_path = /content/drive/MyDrive/Colab Notebooks/final proj/SST-2-sentiment-analysis-master/data/\n",
        "train_df = pd.read_csv(os.path.join(data_path,\"train.tsv\"),sep='\\t',header=None, names=['similarity','s1'])\n",
        "dev_df = pd.read_csv(os.path.join(data_path,\"dev.tsv\"),sep='\\t',header=None, names=['similarity','s1'])\n",
        "test_df = pd.read_csv(os.path.join(data_path,\"test.tsv\"),sep='\\t',header=None, names=['similarity','s1'])\n",
        "target_dir = \"/content/drive/My Drive/SST-2-sentiment-analysis/output/Xlnet/\"\n",
        "\n",
        "model_train_validate_test(train_df, dev_df, test_df, target_dir, \n",
        "         max_seq_len=50,\n",
        "         epochs=3,\n",
        "         batch_size=32,\n",
        "         lr=2e-05,\n",
        "         patience=1,\n",
        "         max_grad_norm=10.0,\n",
        "         if_save_model=False,\n",
        "         checkpoint=None)\n",
        "\n",
        "test_result = pd.read_csv(os.path.join(target_dir, 'test_prediction.csv'))\n",
        "Metric(test_df.similarity, test_result.prediction) "
      ],
      "metadata": {
        "colab": {
          "base_uri": "https://localhost:8080/",
          "height": 1000,
          "referenced_widgets": [
            "4b47234f19d8427f8e53d4cd8b3b5059",
            "2ffab35892bc4d9688e58641a8143eb3",
            "ad0fa4383eeb412f813c5585c0e23355",
            "93bb6f0beee54afaa76b00a7af1e21cc",
            "0f1464f66b614b8b9e004ec5e3c7b7e8",
            "bbb5aeb2086c438bb783d20b65e14aff",
            "68d20c16b84540ec9bfa6e6eebe14022",
            "0e5d932f5f484e96b8e3c163da01407a",
            "1c75b9184b294e32aa5a38a47dd691a9",
            "819f5efa448b4ff9835947e377ee126e",
            "f76f7c45b47845a9973251bfd29611cf",
            "75acccb3a51a45cb8151e2fa6360fc04",
            "7ed1d872f5784d19b8c2c7fdd2baae74",
            "405f2bf9c7c54c6d92cf8953e766f9a0",
            "bc37ced55ce64b0f9e1d1c8c70f9266f",
            "a0e95f08552845dc854289df40386d22",
            "5ea2d4b425e14ae8868885d6f9c56a66",
            "5d894777e096453e96db381bb7026231",
            "803ae9a1ec584c0799132877f14ac083",
            "a47c121f8ed94b4ab252d1a8d459179c",
            "4254ab7c64394220b281b3d1189b01e9",
            "19a10050e19142808119758c5441a455",
            "ce68cf776e8f4310becfe7a507d606c9",
            "89690e360bc146249f731ca5f1a8e747",
            "72c74644eb5346db89cc2e74bfb13bd0",
            "bbec08e5e84f4cbfa7374fe42944f85a",
            "b046867bfe13471e976ef3e8dedf1f30",
            "5d0654e2437d467280578b100512afe4",
            "019a2884f6b4496c8f148c754469268c",
            "5bfd2fa414d74d2d8e5679c98d6637c4",
            "6f21174d9eef4fc7b1712d11851c1e6b",
            "8a2f714bbaa640c08377b742ec46feac",
            "16294c35e4e44c47a660dff63e8ebf76",
            "a2e5c51b4d78408f837cb3aa686dafe3",
            "6586a336d5ac47dfba3ab2803d710fd1",
            "312358e887654378848fda9541b2e77b",
            "efa0c424dda94dd7b2f8da626e52df88",
            "e14f3a8d6f564282b03896318be529c1",
            "9f96cea504994db38be78fcc3c6ea286",
            "18f2fc73283f4f4bbc5104ecad2fe4e4",
            "7c99b247ffe142f2b1c9eeb1cdb1529b",
            "23a9bc7b6d27475188630a3eef464d99",
            "a0e888dbcaa34d7b9dbc8ee8adbf3801",
            "8c2d55455b584d9d84f45b3c36eca9b6"
          ]
        },
        "id": "cNHkLwG35LEn",
        "outputId": "65444b1e-0ed4-45a1-a7bd-bf639c9a11a0"
      },
      "execution_count": null,
      "outputs": [
        {
          "output_type": "display_data",
          "data": {
            "text/plain": [
              "Downloading (…)lve/main/config.json:   0%|          | 0.00/761 [00:00<?, ?B/s]"
            ],
            "application/vnd.jupyter.widget-view+json": {
              "version_major": 2,
              "version_minor": 0,
              "model_id": "4b47234f19d8427f8e53d4cd8b3b5059"
            }
          },
          "metadata": {}
        },
        {
          "output_type": "display_data",
          "data": {
            "text/plain": [
              "Downloading pytorch_model.bin:   0%|          | 0.00/1.44G [00:00<?, ?B/s]"
            ],
            "application/vnd.jupyter.widget-view+json": {
              "version_major": 2,
              "version_minor": 0,
              "model_id": "75acccb3a51a45cb8151e2fa6360fc04"
            }
          },
          "metadata": {}
        },
        {
          "output_type": "stream",
          "name": "stderr",
          "text": [
            "Some weights of the model checkpoint at xlnet-large-cased were not used when initializing XLNetForSequenceClassification: ['lm_loss.weight', 'lm_loss.bias']\n",
            "- This IS expected if you are initializing XLNetForSequenceClassification from the checkpoint of a model trained on another task or with another architecture (e.g. initializing a BertForSequenceClassification model from a BertForPreTraining model).\n",
            "- This IS NOT expected if you are initializing XLNetForSequenceClassification from the checkpoint of a model that you expect to be exactly identical (initializing a BertForSequenceClassification model from a BertForSequenceClassification model).\n",
            "Some weights of XLNetForSequenceClassification were not initialized from the model checkpoint at xlnet-large-cased and are newly initialized: ['logits_proj.weight', 'sequence_summary.summary.bias', 'logits_proj.bias', 'sequence_summary.summary.weight']\n",
            "You should probably TRAIN this model on a down-stream task to be able to use it for predictions and inference.\n"
          ]
        },
        {
          "output_type": "display_data",
          "data": {
            "text/plain": [
              "Downloading (…)ve/main/spiece.model:   0%|          | 0.00/798k [00:00<?, ?B/s]"
            ],
            "application/vnd.jupyter.widget-view+json": {
              "version_major": 2,
              "version_minor": 0,
              "model_id": "ce68cf776e8f4310becfe7a507d606c9"
            }
          },
          "metadata": {}
        },
        {
          "output_type": "display_data",
          "data": {
            "text/plain": [
              "Downloading (…)/main/tokenizer.json:   0%|          | 0.00/1.38M [00:00<?, ?B/s]"
            ],
            "application/vnd.jupyter.widget-view+json": {
              "version_major": 2,
              "version_minor": 0,
              "model_id": "a2e5c51b4d78408f837cb3aa686dafe3"
            }
          },
          "metadata": {}
        },
        {
          "output_type": "stream",
          "name": "stdout",
          "text": [
            "====================  Preparing for training  ====================\n",
            "\t* Loading training data...\n",
            "\t* Loading validation data...\n",
            "\t* Loading test data...\n",
            "\t* Building model...\n"
          ]
        },
        {
          "output_type": "stream",
          "name": "stderr",
          "text": [
            "/usr/local/lib/python3.9/dist-packages/transformers/optimization.py:391: FutureWarning: This implementation of AdamW is deprecated and will be removed in a future version. Use the PyTorch implementation torch.optim.AdamW instead, or set `no_deprecation_warning=True` to disable this warning\n",
            "  warnings.warn(\n"
          ]
        },
        {
          "output_type": "stream",
          "name": "stdout",
          "text": [
            "\n",
            "* Validation loss before training: 0.7148, accuracy: 50.3440%, auc: 0.5046\n",
            "\n",
            " ==================== Training bert model on device: cuda ====================\n",
            "* Training epoch 1:\n"
          ]
        },
        {
          "output_type": "stream",
          "name": "stderr",
          "text": [
            "Avg. batch proc. time: 1.1381s, loss: 0.3855: 100%|██████████| 217/217 [04:08<00:00,  1.15s/it]\n"
          ]
        },
        {
          "output_type": "stream",
          "name": "stdout",
          "text": [
            "-> Training time: 248.7147s, loss = 0.3855, accuracy: 80.6214%\n",
            "* Validation for epoch 1:\n",
            "-> Valid. time: 10.7121s, loss: 0.2118, accuracy: 92.3165%, auc: 0.9816\n",
            "\n",
            "* Test for epoch 1:\n",
            "Test accuracy: 0.9379%\n",
            "\n",
            "* Training epoch 2:\n"
          ]
        },
        {
          "output_type": "stream",
          "name": "stderr",
          "text": [
            "Avg. batch proc. time: 1.1834s, loss: 0.1755: 100%|██████████| 217/217 [04:18<00:00,  1.19s/it]\n"
          ]
        },
        {
          "output_type": "stream",
          "name": "stdout",
          "text": [
            "-> Training time: 258.5073s, loss = 0.1755, accuracy: 93.7717%\n",
            "* Validation for epoch 2:\n",
            "-> Valid. time: 10.7919s, loss: 0.1838, accuracy: 93.2339%, auc: 0.9821\n",
            "\n",
            "* Test for epoch 2:\n",
            "Test accuracy: 0.9396%\n",
            "\n",
            "* Training epoch 3:\n"
          ]
        },
        {
          "output_type": "stream",
          "name": "stderr",
          "text": [
            "Avg. batch proc. time: 1.1851s, loss: 0.1009: 100%|██████████| 217/217 [04:18<00:00,  1.19s/it]\n"
          ]
        },
        {
          "output_type": "stream",
          "name": "stdout",
          "text": [
            "-> Training time: 258.8914s, loss = 0.1009, accuracy: 96.9653%\n",
            "* Validation for epoch 3:\n",
            "-> Valid. time: 10.7802s, loss: 0.1899, accuracy: 94.8394%, auc: 0.9830\n",
            "\n",
            "* Test for epoch 3:\n",
            "Test accuracy: 0.9511%\n",
            "\n",
            "Accuracy: 95.1%\n",
            "Precision: 95.1%\n",
            "Recall: 95.1%\n",
            "F1: 95.1%\n",
            "classification_report:\n",
            "\n",
            "              precision    recall  f1-score   support\n",
            "\n",
            "     class_0      0.963     0.939     0.951       912\n",
            "     class_1      0.940     0.964     0.952       909\n",
            "\n",
            "    accuracy                          0.951      1821\n",
            "   macro avg      0.951     0.951     0.951      1821\n",
            "weighted avg      0.951     0.951     0.951      1821\n",
            "\n"
          ]
        }
      ]
    },
    {
      "cell_type": "markdown",
      "source": [
        "COLA"
      ],
      "metadata": {
        "id": "6muEJ8oH5LAx"
      }
    },
    {
      "cell_type": "code",
      "source": [
        "from run_Xlnet_model import model_train_validate_test\n",
        "import pandas as pd\n",
        "from utils import Metric\n",
        "import os\n",
        "\n",
        "data_path = '/content/drive/MyDrive/Colab Notebooks/final proj/SST-2-sentiment-analysis-master/data/'\n",
        "train_df = pd.read_csv(os.path.join(data_path,\"in_domain_train_processed.tsv\"),sep='\\t',header=None, names=['similarity','s1'])\n",
        "dev_df = pd.read_csv(os.path.join(data_path,\"in_domain_dev_processed.tsv\"),sep='\\t',header=None, names=['similarity','s1'])\n",
        "test_df = pd.read_csv(os.path.join(data_path,\"out_of_domain_dev_processed.tsv\"),sep='\\t',header=None, names=['similarity','s1'])\n",
        "target_dir = \"/content/drive/My Drive/SST-2-sentiment-analysis/output/Xlnet/\"\n",
        "\n",
        "model_train_validate_test(train_df, dev_df, test_df, target_dir, \n",
        "         max_seq_len=50,\n",
        "         epochs=3,\n",
        "         batch_size=32,\n",
        "         lr=2e-05,\n",
        "         patience=1,\n",
        "         max_grad_norm=10.0,\n",
        "         if_save_model=False,\n",
        "         checkpoint=None)\n",
        "\n",
        "test_result = pd.read_csv(os.path.join(target_dir, 'test_prediction.csv'))\n",
        "Metric(test_df.similarity, test_result.prediction) "
      ],
      "metadata": {
        "colab": {
          "base_uri": "https://localhost:8080/"
        },
        "id": "lB1jjdMe5K9b",
        "outputId": "15125381-46bf-4dfb-8f91-9797b2de532c"
      },
      "execution_count": null,
      "outputs": [
        {
          "output_type": "stream",
          "name": "stderr",
          "text": [
            "Some weights of the model checkpoint at xlnet-large-cased were not used when initializing XLNetForSequenceClassification: ['lm_loss.weight', 'lm_loss.bias']\n",
            "- This IS expected if you are initializing XLNetForSequenceClassification from the checkpoint of a model trained on another task or with another architecture (e.g. initializing a BertForSequenceClassification model from a BertForPreTraining model).\n",
            "- This IS NOT expected if you are initializing XLNetForSequenceClassification from the checkpoint of a model that you expect to be exactly identical (initializing a BertForSequenceClassification model from a BertForSequenceClassification model).\n",
            "Some weights of XLNetForSequenceClassification were not initialized from the model checkpoint at xlnet-large-cased and are newly initialized: ['logits_proj.weight', 'sequence_summary.summary.bias', 'logits_proj.bias', 'sequence_summary.summary.weight']\n",
            "You should probably TRAIN this model on a down-stream task to be able to use it for predictions and inference.\n"
          ]
        },
        {
          "output_type": "stream",
          "name": "stdout",
          "text": [
            "====================  Preparing for training  ====================\n",
            "\t* Loading training data...\n",
            "\t* Loading validation data...\n",
            "\t* Loading test data...\n",
            "\t* Building model...\n"
          ]
        },
        {
          "output_type": "stream",
          "name": "stderr",
          "text": [
            "/usr/local/lib/python3.9/dist-packages/transformers/optimization.py:391: FutureWarning: This implementation of AdamW is deprecated and will be removed in a future version. Use the PyTorch implementation torch.optim.AdamW instead, or set `no_deprecation_warning=True` to disable this warning\n",
            "  warnings.warn(\n"
          ]
        },
        {
          "output_type": "stream",
          "name": "stdout",
          "text": [
            "\n",
            "* Validation loss before training: 0.8203, accuracy: 33.5863%, auc: 0.5041\n",
            "\n",
            " ==================== Training bert model on device: cuda ====================\n",
            "* Training epoch 1:\n"
          ]
        },
        {
          "output_type": "stream",
          "name": "stderr",
          "text": [
            "Avg. batch proc. time: 1.1377s, loss: 0.6266: 100%|██████████| 268/268 [05:06<00:00,  1.15s/it]\n"
          ]
        },
        {
          "output_type": "stream",
          "name": "stdout",
          "text": [
            "-> Training time: 306.9523s, loss = 0.6266, accuracy: 69.6995%\n",
            "* Validation for epoch 1:\n",
            "-> Valid. time: 6.4990s, loss: 0.6199, accuracy: 69.2600%, auc: 0.6221\n",
            "\n",
            "* Test for epoch 1:\n",
            "Test accuracy: 0.6860%\n",
            "\n",
            "* Training epoch 2:\n"
          ]
        },
        {
          "output_type": "stream",
          "name": "stderr",
          "text": [
            "Avg. batch proc. time: 1.1429s, loss: 0.6202: 100%|██████████| 268/268 [05:08<00:00,  1.15s/it]\n"
          ]
        },
        {
          "output_type": "stream",
          "name": "stdout",
          "text": [
            "-> Training time: 308.3671s, loss = 0.6202, accuracy: 70.1789%\n",
            "* Validation for epoch 2:\n",
            "-> Valid. time: 6.5092s, loss: 0.6178, accuracy: 69.2600%, auc: 0.6232\n",
            "\n",
            "* Test for epoch 2:\n",
            "Test accuracy: 0.6860%\n",
            "\n",
            "* Training epoch 3:\n"
          ]
        },
        {
          "output_type": "stream",
          "name": "stderr",
          "text": [
            "Avg. batch proc. time: 1.1441s, loss: 0.6188: 100%|██████████| 268/268 [05:08<00:00,  1.15s/it]\n"
          ]
        },
        {
          "output_type": "stream",
          "name": "stdout",
          "text": [
            "-> Training time: 308.7033s, loss = 0.6188, accuracy: 69.9450%\n",
            "* Validation for epoch 3:\n",
            "-> Valid. time: 6.4361s, loss: 0.6374, accuracy: 69.2600%, auc: 0.6389\n",
            "\n",
            "* Test for epoch 3:\n",
            "Test accuracy: 0.6860%\n",
            "\n",
            "Accuracy: 68.6%\n",
            "Precision: 34.3%\n",
            "Recall: 50.0%\n",
            "F1: 40.7%\n",
            "classification_report:\n",
            "\n",
            "              precision    recall  f1-score   support\n",
            "\n",
            "     class_0      0.000     0.000     0.000       162\n",
            "     class_1      0.686     1.000     0.814       354\n",
            "\n",
            "    accuracy                          0.686       516\n",
            "   macro avg      0.343     0.500     0.407       516\n",
            "weighted avg      0.471     0.686     0.558       516\n",
            "\n"
          ]
        },
        {
          "output_type": "stream",
          "name": "stderr",
          "text": [
            "/usr/local/lib/python3.9/dist-packages/sklearn/metrics/_classification.py:1344: UndefinedMetricWarning: Precision is ill-defined and being set to 0.0 in labels with no predicted samples. Use `zero_division` parameter to control this behavior.\n",
            "  _warn_prf(average, modifier, msg_start, len(result))\n",
            "/usr/local/lib/python3.9/dist-packages/sklearn/metrics/_classification.py:1344: UndefinedMetricWarning: Precision and F-score are ill-defined and being set to 0.0 in labels with no predicted samples. Use `zero_division` parameter to control this behavior.\n",
            "  _warn_prf(average, modifier, msg_start, len(result))\n",
            "/usr/local/lib/python3.9/dist-packages/sklearn/metrics/_classification.py:1344: UndefinedMetricWarning: Precision and F-score are ill-defined and being set to 0.0 in labels with no predicted samples. Use `zero_division` parameter to control this behavior.\n",
            "  _warn_prf(average, modifier, msg_start, len(result))\n",
            "/usr/local/lib/python3.9/dist-packages/sklearn/metrics/_classification.py:1344: UndefinedMetricWarning: Precision and F-score are ill-defined and being set to 0.0 in labels with no predicted samples. Use `zero_division` parameter to control this behavior.\n",
            "  _warn_prf(average, modifier, msg_start, len(result))\n"
          ]
        }
      ]
    },
    {
      "cell_type": "markdown",
      "source": [
        "MRPC"
      ],
      "metadata": {
        "id": "jrq4jxeB5K5N"
      }
    },
    {
      "cell_type": "code",
      "source": [
        "from run_Xlnet_model import model_train_validate_test\n",
        "import pandas as pd\n",
        "from utils import Metric\n",
        "import os\n",
        "\n",
        "data_path = '/content/drive/MyDrive/Colab Notebooks/final proj/SST-2-sentiment-analysis-master/data/'\n",
        "train_df = pd.read_csv(os.path.join(data_path,\"msr_paraphrase_train_edit.tsv\"),sep='\\t',header=None, names=['similarity','s1'])\n",
        "dev_df = pd.read_csv(os.path.join(data_path,\"msr_paraphrase_vali_edit.tsv\"),sep='\\t',header=None, names=['similarity','s1'])\n",
        "test_df = pd.read_csv(os.path.join(data_path,\"msr_paraphrase_test2_edit.tsv\"),sep='\\t',header=None, names=['similarity','s1'])\n",
        "target_dir = \"/content/drive/My Drive/SST-2-sentiment-analysis/output/Xlnet/\"\n",
        "\n",
        "model_train_validate_test(train_df, dev_df, test_df, target_dir, \n",
        "         max_seq_len=50,\n",
        "         epochs=3,\n",
        "         batch_size=32,\n",
        "         lr=2e-05,\n",
        "         patience=1,\n",
        "         max_grad_norm=10.0,\n",
        "         if_save_model=False,\n",
        "         checkpoint=None)\n",
        "\n",
        "test_result = pd.read_csv(os.path.join(target_dir, 'test_prediction.csv'))\n",
        "Metric(test_df.similarity, test_result.prediction)"
      ],
      "metadata": {
        "colab": {
          "base_uri": "https://localhost:8080/"
        },
        "id": "hxWq3hTm5K1o",
        "outputId": "c0ad8d39-714c-4486-e4e0-16facb34a133"
      },
      "execution_count": null,
      "outputs": [
        {
          "output_type": "stream",
          "name": "stderr",
          "text": [
            "Some weights of the model checkpoint at xlnet-large-cased were not used when initializing XLNetForSequenceClassification: ['lm_loss.weight', 'lm_loss.bias']\n",
            "- This IS expected if you are initializing XLNetForSequenceClassification from the checkpoint of a model trained on another task or with another architecture (e.g. initializing a BertForSequenceClassification model from a BertForPreTraining model).\n",
            "- This IS NOT expected if you are initializing XLNetForSequenceClassification from the checkpoint of a model that you expect to be exactly identical (initializing a BertForSequenceClassification model from a BertForSequenceClassification model).\n",
            "Some weights of XLNetForSequenceClassification were not initialized from the model checkpoint at xlnet-large-cased and are newly initialized: ['logits_proj.weight', 'sequence_summary.summary.bias', 'logits_proj.bias', 'sequence_summary.summary.weight']\n",
            "You should probably TRAIN this model on a down-stream task to be able to use it for predictions and inference.\n"
          ]
        },
        {
          "output_type": "stream",
          "name": "stdout",
          "text": [
            "====================  Preparing for training  ====================\n",
            "\t* Loading training data...\n",
            "\t* Loading validation data...\n",
            "\t* Loading test data...\n",
            "\t* Building model...\n"
          ]
        },
        {
          "output_type": "stream",
          "name": "stderr",
          "text": [
            "/usr/local/lib/python3.9/dist-packages/transformers/optimization.py:391: FutureWarning: This implementation of AdamW is deprecated and will be removed in a future version. Use the PyTorch implementation torch.optim.AdamW instead, or set `no_deprecation_warning=True` to disable this warning\n",
            "  warnings.warn(\n"
          ]
        },
        {
          "output_type": "stream",
          "name": "stdout",
          "text": [
            "\n",
            "* Validation loss before training: 0.8100, accuracy: 37.9394%, auc: 0.4448\n",
            "\n",
            " ==================== Training bert model on device: cuda ====================\n",
            "* Training epoch 1:\n"
          ]
        },
        {
          "output_type": "stream",
          "name": "stderr",
          "text": [
            "Avg. batch proc. time: 1.2249s, loss: 0.6113: 100%|██████████| 124/124 [02:32<00:00,  1.23s/it]\n"
          ]
        },
        {
          "output_type": "stream",
          "name": "stdout",
          "text": [
            "-> Training time: 152.8259s, loss = 0.6113, accuracy: 68.2231%\n",
            "* Validation for epoch 1:\n",
            "-> Valid. time: 10.1550s, loss: 0.6027, accuracy: 70.5455%, auc: 0.7622\n",
            "\n",
            "* Test for epoch 1:\n",
            "Test accuracy: 0.7552%\n",
            "\n",
            "* Training epoch 2:\n"
          ]
        },
        {
          "output_type": "stream",
          "name": "stderr",
          "text": [
            "Avg. batch proc. time: 1.2221s, loss: 0.4911: 100%|██████████| 124/124 [02:32<00:00,  1.23s/it]\n"
          ]
        },
        {
          "output_type": "stream",
          "name": "stdout",
          "text": [
            "-> Training time: 152.5071s, loss = 0.4911, accuracy: 76.6532%\n",
            "* Validation for epoch 2:\n",
            "-> Valid. time: 10.1491s, loss: 0.4525, accuracy: 79.7576%, auc: 0.8555\n",
            "\n",
            "* Test for epoch 2:\n",
            "Test accuracy: 0.7964%\n",
            "\n",
            "* Training epoch 3:\n"
          ]
        },
        {
          "output_type": "stream",
          "name": "stderr",
          "text": [
            "Avg. batch proc. time: 1.2195s, loss: 0.3359: 100%|██████████| 124/124 [02:32<00:00,  1.23s/it]\n"
          ]
        },
        {
          "output_type": "stream",
          "name": "stdout",
          "text": [
            "-> Training time: 152.2022s, loss = 0.3359, accuracy: 86.5472%\n",
            "* Validation for epoch 3:\n",
            "-> Valid. time: 10.1636s, loss: 0.6996, accuracy: 77.5758%, auc: 0.8650\n",
            "\n",
            "-> Early stopping: patience limit reached, stopping...\n",
            "Accuracy: 79.6%\n",
            "Precision: 76.9%\n",
            "Recall: 74.1%\n",
            "F1: 75.1%\n",
            "classification_report:\n",
            "\n",
            "              precision    recall  f1-score   support\n",
            "\n",
            "     class_0      0.712     0.591     0.646       259\n",
            "     class_1      0.826     0.890     0.857       566\n",
            "\n",
            "    accuracy                          0.796       825\n",
            "   macro avg      0.769     0.741     0.751       825\n",
            "weighted avg      0.790     0.796     0.791       825\n",
            "\n"
          ]
        }
      ]
    },
    {
      "cell_type": "markdown",
      "source": [
        "# ***ALBERT***"
      ],
      "metadata": {
        "id": "_mrDOh-S5KxA"
      }
    },
    {
      "cell_type": "markdown",
      "source": [
        "SST"
      ],
      "metadata": {
        "id": "DdhoXDSQ8VY4"
      }
    },
    {
      "cell_type": "code",
      "source": [
        "from run_Albert_model import model_train_validate_test\n",
        "import pandas as pd\n",
        "from utils import Metric\n",
        "import os\n",
        "\n",
        "data_path = '/content/drive/MyDrive/Colab Notebooks/final proj/SST-2-sentiment-analysis-master/data/'\n",
        "train_df = pd.read_csv(os.path.join(data_path,\"train.tsv\"),sep='\\t',header=None, names=['similarity','s1'])\n",
        "dev_df = pd.read_csv(os.path.join(data_path,\"dev.tsv\"),sep='\\t',header=None, names=['similarity','s1'])\n",
        "test_df = pd.read_csv(os.path.join(data_path,\"test.tsv\"),sep='\\t',header=None, names=['similarity','s1'])\n",
        "target_dir = \"/content/drive/My Drive/SST-2-sentiment-analysis/output/Albert/\"\n",
        "\n",
        "model_train_validate_test(train_df, dev_df, test_df, target_dir, \n",
        "         max_seq_len=50,\n",
        "         epochs=3,\n",
        "         batch_size=32,\n",
        "         lr=2e-05,\n",
        "         patience=1,\n",
        "         max_grad_norm=10.0,\n",
        "         if_save_model=True,\n",
        "         checkpoint=None)\n",
        "\n",
        "test_result = pd.read_csv(os.path.join(target_dir, 'test_prediction.csv'))\n",
        "Metric(test_df.similarity, test_result.prediction) "
      ],
      "metadata": {
        "colab": {
          "base_uri": "https://localhost:8080/",
          "height": 1000,
          "referenced_widgets": [
            "d3d9447d70c74ac1917456fda4c8130d",
            "17f3aefa41ba4955badcc9e0c4bdb1c1",
            "9e7ba14871ba404089faeaae3b9c2ba2",
            "c8f57c5f943c48deb89a04b0a2ef500d",
            "ba59e46a52284d599bf0971dd4e90d18",
            "b248525e193a43c5b669693f3453a822",
            "d96a8d8620e7408f80daad509a5ccdd0",
            "dddb91dc1980441cb792a12d5cc3fde3",
            "4473596826ba48a39b1e8a037262dff3",
            "6860bd9292d545098a31b8a76e61325c",
            "d07f40fb48f348f086e96da4ab241d3c",
            "55f70f8481ce409188cd8727d70d7700",
            "4be773470d2f4f32961173e7ca820065",
            "00a30968bdfa4896bf80801fea7957cb",
            "aacd4743574f476ab4a6c4bbce7ba2e7",
            "588605c2dbe54b0daf8a42cf34088d0c",
            "3abfbf80834b4f5095675a54a1c6c2b2",
            "a1feacda23394a98bb7a8e8e198792e0",
            "07781b1e7c2140ca9f6bdfeb0d1404db",
            "2ce0ab5be2a44febb4df6bbba1197ac9",
            "f341ac9e92dd411d89505ca6131be72f",
            "fc61f89d787f4a93a86b0898e9919af9",
            "762ec0c2642b4fd5ac5c03196ac2f00f",
            "9ac50aee49e34d6bab2c8542785ff9db",
            "b927fd1479e748beaff1015257f5ad03",
            "cacac32b6c8b485c8f61bd1df9298011",
            "dab785528e0a42d98a1b3b79d56d90d8",
            "3e75f70438ea430abd1ab2bea897cf9e",
            "c6e5e536108f4b7da37ac19fdd3b2257",
            "f83161547a79492b83054d1d629f605c",
            "7b41ae4888524095896146c7319edd05",
            "e445559064df4db1aaac908dbafc0ab3",
            "96d84b1fda804ae7969f35653daa7ceb",
            "58333356c0a84fa0a88de81d6b58f922",
            "6e41fea416cf459c9a3bc0b4e32092b7",
            "caae0f248a9a44bc9bf3b8c0bff4b85b",
            "b6fd4aac089c4998975e31322e10886d",
            "53d2f0d5e72042939882d0646aece0de",
            "e6a0687a98954f51ad66b7ec27de239c",
            "2fd72798420249d4afa139720f4d07d0",
            "1df6cc3309fd4f369bdf2ca77aa9870a",
            "680b4517bbe64f29ba47693fc592315b",
            "600f4d3ee3834bc8800ff8f4da7faea5",
            "de02128d0d2a467eaec7aa791e4fb7b8"
          ]
        },
        "id": "q2fR1HGy5KsX",
        "outputId": "d4584103-a6a7-412e-db09-af8272121d0a"
      },
      "execution_count": null,
      "outputs": [
        {
          "output_type": "display_data",
          "data": {
            "text/plain": [
              "Downloading (…)lve/main/config.json:   0%|          | 0.00/710 [00:00<?, ?B/s]"
            ],
            "application/vnd.jupyter.widget-view+json": {
              "version_major": 2,
              "version_minor": 0,
              "model_id": "d3d9447d70c74ac1917456fda4c8130d"
            }
          },
          "metadata": {}
        },
        {
          "output_type": "display_data",
          "data": {
            "text/plain": [
              "Downloading pytorch_model.bin:   0%|          | 0.00/893M [00:00<?, ?B/s]"
            ],
            "application/vnd.jupyter.widget-view+json": {
              "version_major": 2,
              "version_minor": 0,
              "model_id": "55f70f8481ce409188cd8727d70d7700"
            }
          },
          "metadata": {}
        },
        {
          "output_type": "stream",
          "name": "stderr",
          "text": [
            "Some weights of the model checkpoint at albert-xxlarge-v2 were not used when initializing AlbertForSequenceClassification: ['predictions.decoder.weight', 'predictions.LayerNorm.weight', 'predictions.bias', 'predictions.dense.bias', 'predictions.decoder.bias', 'predictions.dense.weight', 'predictions.LayerNorm.bias']\n",
            "- This IS expected if you are initializing AlbertForSequenceClassification from the checkpoint of a model trained on another task or with another architecture (e.g. initializing a BertForSequenceClassification model from a BertForPreTraining model).\n",
            "- This IS NOT expected if you are initializing AlbertForSequenceClassification from the checkpoint of a model that you expect to be exactly identical (initializing a BertForSequenceClassification model from a BertForSequenceClassification model).\n",
            "Some weights of AlbertForSequenceClassification were not initialized from the model checkpoint at albert-xxlarge-v2 and are newly initialized: ['classifier.weight', 'classifier.bias']\n",
            "You should probably TRAIN this model on a down-stream task to be able to use it for predictions and inference.\n"
          ]
        },
        {
          "output_type": "display_data",
          "data": {
            "text/plain": [
              "Downloading (…)ve/main/spiece.model:   0%|          | 0.00/760k [00:00<?, ?B/s]"
            ],
            "application/vnd.jupyter.widget-view+json": {
              "version_major": 2,
              "version_minor": 0,
              "model_id": "762ec0c2642b4fd5ac5c03196ac2f00f"
            }
          },
          "metadata": {}
        },
        {
          "output_type": "display_data",
          "data": {
            "text/plain": [
              "Downloading (…)/main/tokenizer.json:   0%|          | 0.00/1.31M [00:00<?, ?B/s]"
            ],
            "application/vnd.jupyter.widget-view+json": {
              "version_major": 2,
              "version_minor": 0,
              "model_id": "58333356c0a84fa0a88de81d6b58f922"
            }
          },
          "metadata": {}
        },
        {
          "output_type": "stream",
          "name": "stdout",
          "text": [
            "====================  Preparing for training  ====================\n",
            "\t* Loading training data...\n",
            "\t* Loading validation data...\n",
            "\t* Loading test data...\n",
            "\t* Building model...\n"
          ]
        },
        {
          "output_type": "stream",
          "name": "stderr",
          "text": [
            "/usr/local/lib/python3.9/dist-packages/transformers/optimization.py:391: FutureWarning: This implementation of AdamW is deprecated and will be removed in a future version. Use the PyTorch implementation torch.optim.AdamW instead, or set `no_deprecation_warning=True` to disable this warning\n",
            "  warnings.warn(\n"
          ]
        },
        {
          "output_type": "stream",
          "name": "stdout",
          "text": [
            "\n",
            "* Validation loss before training: 1.2672, accuracy: 53.2110%, auc: 0.5338\n",
            "\n",
            " ==================== Training bert model on device: cuda ====================\n",
            "* Training epoch 1:\n"
          ]
        },
        {
          "output_type": "stream",
          "name": "stderr",
          "text": [
            "Avg. batch proc. time: 3.5497s, loss: 0.3359: 100%|██████████| 217/217 [24:45<00:00,  6.85s/it]\n"
          ]
        },
        {
          "output_type": "stream",
          "name": "stdout",
          "text": [
            "-> Training time: 1485.4713s, loss = 0.3359, accuracy: 86.2139%\n",
            "* Validation for epoch 1:\n",
            "-> Valid. time: 73.1173s, loss: 0.3403, accuracy: 88.1881%, auc: 0.9735\n",
            "\n",
            "save model succesfully!\n",
            "\n",
            "* Test for epoch 1:\n",
            "Test accuracy: 0.8968%\n",
            "\n",
            "* Training epoch 2:\n"
          ]
        },
        {
          "output_type": "stream",
          "name": "stderr",
          "text": [
            "Avg. batch proc. time: 3.5209s, loss: 0.4735: 100%|██████████| 217/217 [24:41<00:00,  6.83s/it]\n"
          ]
        },
        {
          "output_type": "stream",
          "name": "stdout",
          "text": [
            "-> Training time: 1481.5912s, loss = 0.4735, accuracy: 69.9855%\n",
            "* Validation for epoch 2:\n",
            "-> Valid. time: 70.0841s, loss: 0.6905, accuracy: 54.7018%, auc: 0.5634\n",
            "\n",
            "-> Early stopping: patience limit reached, stopping...\n",
            "Accuracy: 89.7%\n",
            "Precision: 91.3%\n",
            "Recall: 89.7%\n",
            "F1: 89.6%\n",
            "classification_report:\n",
            "\n",
            "              precision    recall  f1-score   support\n",
            "\n",
            "     class_0      0.832     0.995     0.906       912\n",
            "     class_1      0.993     0.799     0.885       909\n",
            "\n",
            "    accuracy                          0.897      1821\n",
            "   macro avg      0.913     0.897     0.896      1821\n",
            "weighted avg      0.913     0.897     0.896      1821\n",
            "\n"
          ]
        }
      ]
    },
    {
      "cell_type": "markdown",
      "source": [
        "COLA"
      ],
      "metadata": {
        "id": "QqN0BjzC5KlW"
      }
    },
    {
      "cell_type": "code",
      "source": [
        "from run_Albert_model import model_train_validate_test\n",
        "import pandas as pd\n",
        "from utils import Metric\n",
        "import os\n",
        "\n",
        "data_path = '/content/drive/MyDrive/Colab Notebooks/final proj/SST-2-sentiment-analysis-master/data/'\n",
        "train_df = pd.read_csv(os.path.join(data_path,\"in_domain_train_processed.tsv\"),sep='\\t',header=None, names=['similarity','s1'])\n",
        "dev_df = pd.read_csv(os.path.join(data_path,\"in_domain_dev_processed.tsv\"),sep='\\t',header=None, names=['similarity','s1'])\n",
        "test_df = pd.read_csv(os.path.join(data_path,\"out_of_domain_dev_processed.tsv\"),sep='\\t',header=None, names=['similarity','s1'])\n",
        "target_dir = \"/content/drive/My Drive/SST-2-sentiment-analysis/output/Albert/\"\n",
        "\n",
        "model_train_validate_test(train_df, dev_df, test_df, target_dir, \n",
        "         max_seq_len=50,\n",
        "         epochs=3,\n",
        "         batch_size=32,\n",
        "         lr=2e-05,\n",
        "         patience=1,\n",
        "         max_grad_norm=10.0,\n",
        "         if_save_model=True,\n",
        "         checkpoint=None)\n",
        "\n",
        "test_result = pd.read_csv(os.path.join(target_dir, 'test_prediction.csv'))\n",
        "Metric(test_df.similarity, test_result.prediction) "
      ],
      "metadata": {
        "colab": {
          "base_uri": "https://localhost:8080/",
          "height": 1000,
          "referenced_widgets": [
            "fdf9419cd68d4c6680b6e9ddd483def3",
            "e75bdad12c2b4737b032bb1884970e56",
            "6de0b1542389470a9c8d8617a1a84e21",
            "0625c98b768f4906b0f42caaff79c633",
            "ce65496cbdbc4cf7ba0348e294b007e4",
            "74f5135b92bb4e2fb8df712fe5306ebd",
            "e1893498306c4f3197ce4fd03bec0491",
            "69c1bef781864c83bdbfc20621d1c9d7",
            "a0e48d8d47594955beabd4944262b49d",
            "18a5c66ce5ee41e7a69c7780e8b14518",
            "9474a6fea6aa4ad1b066a9f4741aedc9",
            "fbbcda0801eb4b4eb44be0d97284dde1",
            "e35da9cdef284c5d8866c3500299cf8f",
            "f80c944abd894a1696d62388ba436711",
            "dbb7a97800a84f6d831e3c6e1db2491b",
            "c2f92e21269742b8afdfe1d619a43c7d",
            "f8fbc00742a54e4f97c834292427e95d",
            "ea3c64a830174f08bf754fdc72b41578",
            "7b3d2b30f6514beda4f9e91109c5bb53",
            "5de9d0f0f925472c8684dc9182b80b56",
            "98e676f4f0094802a4510425187dd16e",
            "0761fc3fd0f64146a9fe01ee40d62cf4",
            "09d7e82483104ddb9433f48fc67dfba7",
            "2212e88b5fe64009a503aeacd216a844",
            "9afe2f0e24f04896a5102a62223a5b83",
            "4247d078640a43778548381a8282cd29",
            "efb28c30b1c249b899ef8e306dc09b9e",
            "81bf97a9a975495e86802e240ba359ae",
            "be583e85ee8844998c577fb568e364b9",
            "0bbbd954301847ac829d9c25bf988d35",
            "698c0f52aab2420b876a40e1a37e274e",
            "39103edac4d34a5dad8566ba5d56140d",
            "e870a1a185e44420bd2e02223168236f",
            "bbb3058fb1594ccd8094069ce80d4858",
            "8e42bc73680d4e31a2b36d58b45e721c",
            "1cea606d321044d8a21123c5b6e1eebe",
            "b2a72461553440ac88fddef1dc05fb6f",
            "bbbe664146384a61aac84a06c437c181",
            "b6f9348eb2134737b603d95d8d33df69",
            "6d6931cde85f4598a6d59033dca09ebc",
            "2103eac045b34b89a3d1642d7a988b31",
            "4b45f6dd28564d3ca2fb61b4c16e9899",
            "27f06e6432e443ce932cde456239859a",
            "4faef28686724009b01ce20cf4919bc6"
          ]
        },
        "id": "Mk2RwsXF5KbO",
        "outputId": "8f6e1378-9dd3-4e23-934c-6ce6e6cca96c"
      },
      "execution_count": null,
      "outputs": [
        {
          "output_type": "display_data",
          "data": {
            "text/plain": [
              "Downloading (…)lve/main/config.json:   0%|          | 0.00/710 [00:00<?, ?B/s]"
            ],
            "application/vnd.jupyter.widget-view+json": {
              "version_major": 2,
              "version_minor": 0,
              "model_id": "fdf9419cd68d4c6680b6e9ddd483def3"
            }
          },
          "metadata": {}
        },
        {
          "output_type": "display_data",
          "data": {
            "text/plain": [
              "Downloading pytorch_model.bin:   0%|          | 0.00/893M [00:00<?, ?B/s]"
            ],
            "application/vnd.jupyter.widget-view+json": {
              "version_major": 2,
              "version_minor": 0,
              "model_id": "fbbcda0801eb4b4eb44be0d97284dde1"
            }
          },
          "metadata": {}
        },
        {
          "output_type": "stream",
          "name": "stderr",
          "text": [
            "Some weights of the model checkpoint at albert-xxlarge-v2 were not used when initializing AlbertForSequenceClassification: ['predictions.LayerNorm.weight', 'predictions.dense.weight', 'predictions.decoder.bias', 'predictions.LayerNorm.bias', 'predictions.bias', 'predictions.decoder.weight', 'predictions.dense.bias']\n",
            "- This IS expected if you are initializing AlbertForSequenceClassification from the checkpoint of a model trained on another task or with another architecture (e.g. initializing a BertForSequenceClassification model from a BertForPreTraining model).\n",
            "- This IS NOT expected if you are initializing AlbertForSequenceClassification from the checkpoint of a model that you expect to be exactly identical (initializing a BertForSequenceClassification model from a BertForSequenceClassification model).\n",
            "Some weights of AlbertForSequenceClassification were not initialized from the model checkpoint at albert-xxlarge-v2 and are newly initialized: ['classifier.weight', 'classifier.bias']\n",
            "You should probably TRAIN this model on a down-stream task to be able to use it for predictions and inference.\n"
          ]
        },
        {
          "output_type": "display_data",
          "data": {
            "text/plain": [
              "Downloading (…)ve/main/spiece.model:   0%|          | 0.00/760k [00:00<?, ?B/s]"
            ],
            "application/vnd.jupyter.widget-view+json": {
              "version_major": 2,
              "version_minor": 0,
              "model_id": "09d7e82483104ddb9433f48fc67dfba7"
            }
          },
          "metadata": {}
        },
        {
          "output_type": "display_data",
          "data": {
            "text/plain": [
              "Downloading (…)/main/tokenizer.json:   0%|          | 0.00/1.31M [00:00<?, ?B/s]"
            ],
            "application/vnd.jupyter.widget-view+json": {
              "version_major": 2,
              "version_minor": 0,
              "model_id": "bbb3058fb1594ccd8094069ce80d4858"
            }
          },
          "metadata": {}
        },
        {
          "output_type": "stream",
          "name": "stdout",
          "text": [
            "====================  Preparing for training  ====================\n",
            "\t* Loading training data...\n",
            "\t* Loading validation data...\n",
            "\t* Loading test data...\n",
            "\t* Building model...\n"
          ]
        },
        {
          "output_type": "stream",
          "name": "stderr",
          "text": [
            "/usr/local/lib/python3.9/dist-packages/transformers/optimization.py:391: FutureWarning: This implementation of AdamW is deprecated and will be removed in a future version. Use the PyTorch implementation torch.optim.AdamW instead, or set `no_deprecation_warning=True` to disable this warning\n",
            "  warnings.warn(\n"
          ]
        },
        {
          "output_type": "stream",
          "name": "stdout",
          "text": [
            "\n",
            "* Validation loss before training: 0.8503, accuracy: 59.5825%, auc: 0.5038\n",
            "\n",
            " ==================== Training bert model on device: cuda ====================\n",
            "* Training epoch 1:\n"
          ]
        },
        {
          "output_type": "stream",
          "name": "stderr",
          "text": [
            "Avg. batch proc. time: 0.5963s, loss: 0.6411: 100%|██████████| 268/268 [06:07<00:00,  1.37s/it]\n"
          ]
        },
        {
          "output_type": "stream",
          "name": "stdout",
          "text": [
            "-> Training time: 367.2883s, loss = 0.6411, accuracy: 67.8868%\n",
            "* Validation for epoch 1:\n",
            "-> Valid. time: 7.6466s, loss: 0.6186, accuracy: 69.2600%, auc: 0.4709\n",
            "\n",
            "save model succesfully!\n",
            "\n",
            "* Test for epoch 1:\n",
            "Test accuracy: 0.6860%\n",
            "\n",
            "* Training epoch 2:\n"
          ]
        },
        {
          "output_type": "stream",
          "name": "stderr",
          "text": [
            "Avg. batch proc. time: 0.5961s, loss: 0.6242: 100%|██████████| 268/268 [06:07<00:00,  1.37s/it]\n"
          ]
        },
        {
          "output_type": "stream",
          "name": "stdout",
          "text": [
            "-> Training time: 367.2393s, loss = 0.6242, accuracy: 69.8398%\n",
            "* Validation for epoch 2:\n",
            "-> Valid. time: 7.6468s, loss: 0.6133, accuracy: 69.2600%, auc: 0.5254\n",
            "\n",
            "save model succesfully!\n",
            "\n",
            "* Test for epoch 2:\n",
            "Test accuracy: 0.6860%\n",
            "\n",
            "* Training epoch 3:\n"
          ]
        },
        {
          "output_type": "stream",
          "name": "stderr",
          "text": [
            "Avg. batch proc. time: 0.5960s, loss: 0.6169: 100%|██████████| 268/268 [06:07<00:00,  1.37s/it]\n"
          ]
        },
        {
          "output_type": "stream",
          "name": "stdout",
          "text": [
            "-> Training time: 367.2302s, loss = 0.6169, accuracy: 70.4011%\n",
            "* Validation for epoch 3:\n",
            "-> Valid. time: 7.6565s, loss: 0.6204, accuracy: 69.2600%, auc: 0.5012\n",
            "\n",
            "save model succesfully!\n",
            "\n",
            "* Test for epoch 3:\n",
            "Test accuracy: 0.6860%\n",
            "\n",
            "Accuracy: 68.6%\n",
            "Precision: 34.3%\n",
            "Recall: 50.0%\n",
            "F1: 40.7%\n",
            "classification_report:\n",
            "\n",
            "              precision    recall  f1-score   support\n",
            "\n",
            "     class_0      0.000     0.000     0.000       162\n",
            "     class_1      0.686     1.000     0.814       354\n",
            "\n",
            "    accuracy                          0.686       516\n",
            "   macro avg      0.343     0.500     0.407       516\n",
            "weighted avg      0.471     0.686     0.558       516\n",
            "\n"
          ]
        },
        {
          "output_type": "stream",
          "name": "stderr",
          "text": [
            "/usr/local/lib/python3.9/dist-packages/sklearn/metrics/_classification.py:1344: UndefinedMetricWarning: Precision is ill-defined and being set to 0.0 in labels with no predicted samples. Use `zero_division` parameter to control this behavior.\n",
            "  _warn_prf(average, modifier, msg_start, len(result))\n",
            "/usr/local/lib/python3.9/dist-packages/sklearn/metrics/_classification.py:1344: UndefinedMetricWarning: Precision and F-score are ill-defined and being set to 0.0 in labels with no predicted samples. Use `zero_division` parameter to control this behavior.\n",
            "  _warn_prf(average, modifier, msg_start, len(result))\n",
            "/usr/local/lib/python3.9/dist-packages/sklearn/metrics/_classification.py:1344: UndefinedMetricWarning: Precision and F-score are ill-defined and being set to 0.0 in labels with no predicted samples. Use `zero_division` parameter to control this behavior.\n",
            "  _warn_prf(average, modifier, msg_start, len(result))\n",
            "/usr/local/lib/python3.9/dist-packages/sklearn/metrics/_classification.py:1344: UndefinedMetricWarning: Precision and F-score are ill-defined and being set to 0.0 in labels with no predicted samples. Use `zero_division` parameter to control this behavior.\n",
            "  _warn_prf(average, modifier, msg_start, len(result))\n"
          ]
        }
      ]
    },
    {
      "cell_type": "markdown",
      "source": [
        "MRPC"
      ],
      "metadata": {
        "id": "jjbJrZeh9MqF"
      }
    },
    {
      "cell_type": "code",
      "source": [
        "from run_Albert_model import model_train_validate_test\n",
        "import pandas as pd\n",
        "from utils import Metric\n",
        "import os\n",
        "\n",
        "data_path = '/content/drive/MyDrive/Colab Notebooks/final proj/SST-2-sentiment-analysis-master/data/'\n",
        "train_df = pd.read_csv(os.path.join(data_path,\"msr_paraphrase_train_edit.tsv\"),sep='\\t',header=None, names=['similarity','s1'])\n",
        "dev_df = pd.read_csv(os.path.join(data_path,\"msr_paraphrase_vali_edit.tsv\"),sep='\\t',header=None, names=['similarity','s1'])\n",
        "test_df = pd.read_csv(os.path.join(data_path,\"msr_paraphrase_test2_edit.tsv\"),sep='\\t',header=None, names=['similarity','s1'])\n",
        "target_dir = \"/content/drive/My Drive/SST-2-sentiment-analysis/output/Albert/\"\n",
        "\n",
        "model_train_validate_test(train_df, dev_df, test_df, target_dir, \n",
        "         max_seq_len=50,\n",
        "         epochs=3,\n",
        "         batch_size=32,\n",
        "         lr=2e-05,\n",
        "         patience=1,\n",
        "         max_grad_norm=10.0,\n",
        "         if_save_model=True,\n",
        "         checkpoint=None)\n",
        "\n",
        "test_result = pd.read_csv(os.path.join(target_dir, 'test_prediction.csv'))\n",
        "Metric(test_df.similarity, test_result.prediction) "
      ],
      "metadata": {
        "colab": {
          "base_uri": "https://localhost:8080/",
          "height": 1000,
          "referenced_widgets": [
            "a73b12baa2654f399d1d4998771e6c55",
            "84e80b0312994204a822b50653804977",
            "44e267daab054665aa11b7fae0d15d74",
            "4e1787fd19c740999f1bd62e7409c7ee",
            "84da732bd1364b5eb3ee0247e8400cb8",
            "624e947f27094c0b9f92ac71c761ad35",
            "e6d73a36c2cd4929b86a12ee075d25c1",
            "22f39bbeb53c4aa2b3b43c692f709b64",
            "e59ac57e01444030a5a826abeedaf8c5",
            "dbda92ecbd564b43bccc5dc7de5582d1",
            "a2f357b1bc5341f1b98ab056874f1342",
            "f4c15063f3af4c31b227511e4e71015a",
            "1edce431195946e79a8b3e0db3467690",
            "d26931a0c8ae44d587d8b764dd476d18",
            "2af243ac264e4d74b416a8a3ec995f5e",
            "474f4c39bd374748a1dc6723b310423d",
            "af6484f3779a4efab8281e1cb46de5ca",
            "6658ad49fe1e40bcab3069c419d3312d",
            "99aa4f6574ed4f80900cc8d9fb43d4da",
            "bbf10138fc294c5fb1a688bda90fefb9",
            "11396d5d79e149a29c2ea6882e76e565",
            "ae49b59b300f4bfb9b5d97f50f313df1",
            "1679db6cf42e44c19cba5876e612f378",
            "0c991674395240c19d3ac83ac308e6e9",
            "3a93196d0d374560ac58940ea1dd3a57",
            "a515241b68164e4c80de516d28b8571f",
            "0cce7993bbc44f51a50c1d3b128ef9ef",
            "710d3021d8454114ba27edb495f1bee7",
            "8b016404e3504ab2a112a00c055a3c9b",
            "1ca0afb3ef2e4320bd62023354e6bbc6",
            "e59ab628dd774fdd8ae3e1f41427cb43",
            "7cee7484a48641bf9563a67ed7a0103b",
            "768e038f2999408d833bb3d4f29ac895",
            "6cb86b6711314920b61a25b8fbe6be3e",
            "fc00db4c702b4e4798c2c5858f35b591",
            "5acf04df9de147e2a3859a84d48e9e1f",
            "290b83a06f6449e9836feb569c357fd5",
            "0bcca94c51814171a6a1960472c34896",
            "8c9544ad888d415293708f59c5ce60d7",
            "8b6f5918f47c4c3ab18a4b2a4ac41205",
            "12ca9f07eddc4466a13f0b8c467074a4",
            "0362b061f3324cbea8b6f1ab4a823717",
            "4494497b18394b4b9b5dc88a22d2bb56",
            "83c393737e2543b383d778d4ee2161e6"
          ]
        },
        "id": "7OQKruX5qs-U",
        "outputId": "ff483fe0-dedd-4088-cf18-23607445779b"
      },
      "execution_count": null,
      "outputs": [
        {
          "output_type": "display_data",
          "data": {
            "text/plain": [
              "Downloading (…)lve/main/config.json:   0%|          | 0.00/710 [00:00<?, ?B/s]"
            ],
            "application/vnd.jupyter.widget-view+json": {
              "version_major": 2,
              "version_minor": 0,
              "model_id": "a73b12baa2654f399d1d4998771e6c55"
            }
          },
          "metadata": {}
        },
        {
          "output_type": "display_data",
          "data": {
            "text/plain": [
              "Downloading pytorch_model.bin:   0%|          | 0.00/893M [00:00<?, ?B/s]"
            ],
            "application/vnd.jupyter.widget-view+json": {
              "version_major": 2,
              "version_minor": 0,
              "model_id": "f4c15063f3af4c31b227511e4e71015a"
            }
          },
          "metadata": {}
        },
        {
          "output_type": "stream",
          "name": "stderr",
          "text": [
            "Some weights of the model checkpoint at albert-xxlarge-v2 were not used when initializing AlbertForSequenceClassification: ['predictions.dense.bias', 'predictions.decoder.weight', 'predictions.dense.weight', 'predictions.LayerNorm.bias', 'predictions.LayerNorm.weight', 'predictions.bias', 'predictions.decoder.bias']\n",
            "- This IS expected if you are initializing AlbertForSequenceClassification from the checkpoint of a model trained on another task or with another architecture (e.g. initializing a BertForSequenceClassification model from a BertForPreTraining model).\n",
            "- This IS NOT expected if you are initializing AlbertForSequenceClassification from the checkpoint of a model that you expect to be exactly identical (initializing a BertForSequenceClassification model from a BertForSequenceClassification model).\n",
            "Some weights of AlbertForSequenceClassification were not initialized from the model checkpoint at albert-xxlarge-v2 and are newly initialized: ['classifier.bias', 'classifier.weight']\n",
            "You should probably TRAIN this model on a down-stream task to be able to use it for predictions and inference.\n"
          ]
        },
        {
          "output_type": "display_data",
          "data": {
            "text/plain": [
              "Downloading (…)ve/main/spiece.model:   0%|          | 0.00/760k [00:00<?, ?B/s]"
            ],
            "application/vnd.jupyter.widget-view+json": {
              "version_major": 2,
              "version_minor": 0,
              "model_id": "1679db6cf42e44c19cba5876e612f378"
            }
          },
          "metadata": {}
        },
        {
          "output_type": "display_data",
          "data": {
            "text/plain": [
              "Downloading (…)/main/tokenizer.json:   0%|          | 0.00/1.31M [00:00<?, ?B/s]"
            ],
            "application/vnd.jupyter.widget-view+json": {
              "version_major": 2,
              "version_minor": 0,
              "model_id": "6cb86b6711314920b61a25b8fbe6be3e"
            }
          },
          "metadata": {}
        },
        {
          "output_type": "stream",
          "name": "stdout",
          "text": [
            "====================  Preparing for training  ====================\n",
            "\t* Loading training data...\n"
          ]
        },
        {
          "output_type": "stream",
          "name": "stderr",
          "text": [
            "Token indices sequence length is longer than the specified maximum sequence length for this model (692 > 512). Running this sequence through the model will result in indexing errors\n"
          ]
        },
        {
          "output_type": "stream",
          "name": "stdout",
          "text": [
            "\t* Loading validation data...\n",
            "\t* Loading test data...\n",
            "\t* Building model...\n"
          ]
        },
        {
          "output_type": "stream",
          "name": "stderr",
          "text": [
            "/usr/local/lib/python3.9/dist-packages/transformers/optimization.py:391: FutureWarning: This implementation of AdamW is deprecated and will be removed in a future version. Use the PyTorch implementation torch.optim.AdamW instead, or set `no_deprecation_warning=True` to disable this warning\n",
            "  warnings.warn(\n"
          ]
        },
        {
          "output_type": "stream",
          "name": "stdout",
          "text": [
            "\n",
            "* Validation loss before training: 0.8551, accuracy: 57.2121%, auc: 0.4802\n",
            "\n",
            " ==================== Training bert model on device: cuda ====================\n",
            "* Training epoch 1:\n"
          ]
        },
        {
          "output_type": "stream",
          "name": "stderr",
          "text": [
            "Avg. batch proc. time: 3.6348s, loss: 0.6775: 100%|██████████| 124/124 [14:47<00:00,  7.16s/it]\n"
          ]
        },
        {
          "output_type": "stream",
          "name": "stdout",
          "text": [
            "-> Training time: 887.2705s, loss = 0.6775, accuracy: 63.6295%\n",
            "* Validation for epoch 1:\n",
            "-> Valid. time: 68.7642s, loss: 0.7731, accuracy: 64.4848%, auc: 0.6634\n",
            "\n",
            "save model succesfully!\n",
            "\n",
            "* Test for epoch 1:\n",
            "Test accuracy: 0.6861%\n",
            "\n",
            "* Training epoch 2:\n"
          ]
        },
        {
          "output_type": "stream",
          "name": "stderr",
          "text": [
            "Avg. batch proc. time: 3.6258s, loss: 0.6185: 100%|██████████| 124/124 [14:46<00:00,  7.15s/it]\n"
          ]
        },
        {
          "output_type": "stream",
          "name": "stdout",
          "text": [
            "-> Training time: 886.1705s, loss = 0.6185, accuracy: 68.1222%\n",
            "* Validation for epoch 2:\n",
            "-> Valid. time: 68.6475s, loss: 0.6252, accuracy: 68.7273%, auc: 0.7233\n",
            "\n",
            "save model succesfully!\n",
            "\n",
            "* Test for epoch 2:\n",
            "Test accuracy: 0.7273%\n",
            "\n",
            "* Training epoch 3:\n"
          ]
        },
        {
          "output_type": "stream",
          "name": "stderr",
          "text": [
            "Avg. batch proc. time: 3.6366s, loss: 0.5539: 100%|██████████| 124/124 [14:48<00:00,  7.17s/it]\n"
          ]
        },
        {
          "output_type": "stream",
          "name": "stdout",
          "text": [
            "-> Training time: 888.5440s, loss = 0.5539, accuracy: 72.8925%\n",
            "* Validation for epoch 3:\n",
            "-> Valid. time: 68.6276s, loss: 0.6032, accuracy: 57.3333%, auc: 0.6853\n",
            "\n",
            "-> Early stopping: patience limit reached, stopping...\n",
            "Accuracy: 72.7%\n",
            "Precision: 77.4%\n",
            "Recall: 57.5%\n",
            "F1: 55.4%\n",
            "classification_report:\n",
            "\n",
            "              precision    recall  f1-score   support\n",
            "\n",
            "     class_0      0.827     0.166     0.277       259\n",
            "     class_1      0.721     0.984     0.832       566\n",
            "\n",
            "    accuracy                          0.727       825\n",
            "   macro avg      0.774     0.575     0.554       825\n",
            "weighted avg      0.754     0.727     0.658       825\n",
            "\n"
          ]
        }
      ]
    },
    {
      "cell_type": "markdown",
      "source": [
        "# ***Limitations***"
      ],
      "metadata": {
        "id": "SGpJ2O73lbTK"
      }
    },
    {
      "cell_type": "markdown",
      "source": [
        "Some limitations of the papers include:\n",
        "\n",
        "The models require a large amount of training data and computational resources.\n",
        "They are prone to generating plausible-sounding but incorrect or nonsensical text.\n",
        "They have difficulty in handling out-of-vocabulary words and rare or unseen words.\n",
        "There is limited interpretability and explainability of the self-attention mechanism.\n",
        "\n",
        "局限性：\n",
        "基于Transformer的模型的局限性在于，它们需要大量的预训练数据和计算资源，这使得较小的研究小组或个人不容易获得。另一个限制是，这些模型可能不能很好地推广到新的任务或领域，需要进行大量的微调工作。\n",
        "\n"
      ],
      "metadata": {
        "id": "SJV4_HxvldVO"
      }
    },
    {
      "cell_type": "markdown",
      "source": [
        "# ***Future directions***"
      ],
      "metadata": {
        "id": "cOdGgJpBle5X"
      }
    },
    {
      "cell_type": "markdown",
      "source": [
        "Based on the limitations, the following directions can be considered for future research:\n",
        "\n",
        "Investigate techniques for improving the efficiency and reducing the computational requirements of the models, allowing them to be trained on less data and with fewer resources.\n",
        "Explore methods for increasing the robustness of the models to noisy or out-of-domain input text.\n",
        "Develop approaches to improve the interpretability and explainability of the self-attention mechanism.\n",
        "Investigate methods for fine-tuning and adapting the models to specific tasks or domains with limited data.\n",
        "Explore ways to incorporate additional sources of information, such as knowledge graphs, to improve the model's understanding of context and semantics.\n",
        "\n",
        "基于这些局限性，在未来的研究中可以考虑以下方向：\n",
        "\n",
        "研究提高模型效率和降低计算要求的技术，使其能够在更少的数据和更少的资源上进行训练。\n",
        "探索提高模型对噪声或域外输入文本的稳健性的方法。\n",
        "制定方法来提高自我注意机制的可解释性和可说明性。\n",
        "研究如何在数据有限的情况下对模型进行微调并使之适应特定的任务或领域。\n",
        "探讨如何纳入额外的信息来源，如知识图谱，以提高模型对背景和语义的理解。"
      ],
      "metadata": {
        "id": "Q9q1TC2dlgkl"
      }
    },
    {
      "cell_type": "code",
      "source": [],
      "metadata": {
        "id": "6_87W6TPlBfR"
      },
      "execution_count": null,
      "outputs": []
    }
  ]
}